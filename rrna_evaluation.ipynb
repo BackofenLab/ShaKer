{
 "cells": [
  {
   "cell_type": "markdown",
   "metadata": {
    "deletable": true,
    "editable": true
   },
   "source": [
    "# predict on sequence"
   ]
  },
  {
   "cell_type": "code",
   "execution_count": null,
   "metadata": {
    "attributes": {
     "classes": [],
     "id": "",
     "n": "1"
    },
    "collapsed": false,
    "deletable": true,
    "editable": true
   },
   "outputs": [],
   "source": [
    "%load_ext autoreload\n",
    "%autoreload 2\n",
    "%matplotlib inline\n",
    "from eden.util import configure_logging\n",
    "import logging\n",
    "configure_logging(logging.getLogger(),verbosity=3)\n",
    "\n",
    "from IPython.core.display import HTML\n",
    "HTML('<style>.container { width:95% !important; }</style><style>.output_png {display: table-cell;text-align: center;vertical-align: middle;}</style>')"
   ]
  },
  {
   "cell_type": "code",
   "execution_count": null,
   "metadata": {
    "collapsed": false,
    "deletable": true,
    "editable": true,
    "scrolled": true
   },
   "outputs": [],
   "source": [
    "# WE TRAIN A MODEL \n",
    "from optimize_forest import quickloaddata as load\n",
    "import simushape_nostruct as sn\n",
    "import simushape as ss\n",
    "data = load()\n",
    "\n",
    "print len(data['Group1T'][0])\n",
    "print ss.getXY(data,['Group1T'])"
   ]
  },
  {
   "cell_type": "code",
   "execution_count": null,
   "metadata": {
    "collapsed": true
   },
   "outputs": [],
   "source": [
    "import xgboost as xgb\n",
    "reg = xgb.XGBRegressor(**{'reg_alpha': 0.8500639221640397, 'learning_rate': 0.01766263588148119, 'max_delta_step': 1, 'min_child_weight': 3, 'n_estimators': 127, 'reg_lambda': 0.70393814277000044, 'max_depth': 14, 'gamma':0, 'booster': 'dart'})\n",
    "\n",
    "\n",
    "model = ss.make_model(data, data.keys(),model=reg)\n"
   ]
  },
  {
   "cell_type": "code",
   "execution_count": null,
   "metadata": {
    "collapsed": false,
    "deletable": true,
    "editable": true,
    "scrolled": false
   },
   "outputs": [],
   "source": [
    "# WE PREDICT\n",
    "\n",
    "import simushape as ss\n",
    "import notebook_helper as helper\n",
    "test_fasta = ss.read_fasta('data/eval_rrna/galaxy31.fasta')\n",
    "test_react = ss.read_react('data/eval_rrna/galaxy31.react')\n",
    "\n",
    "\n",
    "\n",
    "res=[]\n",
    "for k,v in test_fasta:\n",
    "    if len(v) < 130:\n",
    "        res.append((k,v,sn.predict(model,v,150)))\n",
    "        \n",
    "if True:\n",
    "    for name, seq, react in res:\n",
    "        print name\n",
    "        INVIVO=test_react[name]\n",
    "        helper.draw_seq_rea(seq,[INVIVO,react])\n",
    "\n",
    "    \n",
    "\n"
   ]
  },
  {
   "cell_type": "markdown",
   "metadata": {
    "deletable": true,
    "editable": true
   },
   "source": [
    "# DRAW FUNCTION FOR THE SHAPE DATA"
   ]
  },
  {
   "cell_type": "code",
   "execution_count": null,
   "metadata": {
    "collapsed": true,
    "deletable": true,
    "editable": true
   },
   "outputs": [],
   "source": [
    "      \n",
    "dic = {name:react for name, seq, react in res}    \n",
    "ss.dump_shape(dic, \"blabla.react\")"
   ]
  },
  {
   "cell_type": "code",
   "execution_count": null,
   "metadata": {
    "collapsed": true,
    "deletable": true,
    "editable": true
   },
   "outputs": [],
   "source": []
  }
 ],
 "metadata": {
  "kernelspec": {
   "display_name": "Python 2",
   "language": "python",
   "name": "python2"
  },
  "language_info": {
   "codemirror_mode": {
    "name": "ipython",
    "version": 2
   },
   "file_extension": ".py",
   "mimetype": "text/x-python",
   "name": "python",
   "nbconvert_exporter": "python",
   "pygments_lexer": "ipython2",
   "version": "2.7.12"
  }
 },
 "nbformat": 4,
 "nbformat_minor": 2
}
