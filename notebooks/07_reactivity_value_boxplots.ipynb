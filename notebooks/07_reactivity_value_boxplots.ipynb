{
 "cells": [
  {
   "cell_type": "code",
   "execution_count": null,
   "metadata": {
    "collapsed": true,
    "deletable": true,
    "editable": true
   },
   "outputs": [],
   "source": [
    "import sys\n",
    "sys.path.insert(0,'..')\n",
    "sys.path.insert(0,'/home/ikea/miniconda2/lib/python2.7/site-packages')\n"
   ]
  },
  {
   "cell_type": "code",
   "execution_count": null,
   "metadata": {
    "collapsed": false,
    "deletable": true,
    "editable": true,
    "scrolled": true
   },
   "outputs": [],
   "source": [
    "%load_ext autoreload\n",
    "%autoreload 2\n",
    "%matplotlib inline\n",
    "%autosave 0\n",
    "from eden.util import configure_logging\n",
    "import logging\n",
    "configure_logging(logging.getLogger(),verbosity=3)\n",
    "\n",
    "import sys\n",
    "sys.path.insert(0,'..')\n",
    "\n",
    "from IPython.core.display import HTML\n",
    "HTML('<style>.container { width:95% !important; }</style><style>.output_png {display: table-cell;text-align: center;vertical-align: middle;}</style>')\n"
   ]
  },
  {
   "cell_type": "markdown",
   "metadata": {},
   "source": [
    "# Boxplot for reactivity values"
   ]
  },
  {
   "cell_type": "code",
   "execution_count": null,
   "metadata": {
    "collapsed": false,
    "deletable": true,
    "editable": true
   },
   "outputs": [],
   "source": [
    "# LOAD DATA\n",
    "#{seqname:[shapearray, sequence, structure]}\n",
    "\n",
    "import rna_tools.rna_io as rio\n",
    "def getdata():\n",
    "    return rio.get_all_data(\"../data/RNA16.react\",\"../data/RNA16.dbn\")  # {key: rea, seq, stru}\n",
    "import matplotlib.pyplot as plt\n",
    "import simushape as sim\n",
    "\n",
    "\n",
    "\n",
    "def get_predictions(model=None):\n",
    "    # make a model \n",
    "    data = getdata()\n",
    "    if model == None:\n",
    "        model  = sim.make_model(data,['23sRNA','R009'])\n",
    "    else:\n",
    "        model  = sim.make_model(data,['23sRNA','R009'],model)\n",
    "    data.pop(\"23sRNA\")\n",
    "    data.pop(\"R009\")\n",
    "    keys = data.keys()\n",
    "    # predict with single structure\n",
    "    def get_str(seq):\n",
    "        for _, data_seq, db in data.values():\n",
    "            if seq == data_seq:\n",
    "                return [db]\n",
    "        print \"SHIT\"\n",
    "\n",
    "    # predict with multiple structures\n",
    "    predictions = { k: (data[k][1],sim.predict(model,data[k][1])) for k in keys  }    \n",
    "    predictions2 = { k: (v[1],sim.predict(model,v[1],seq_to_db_function=get_str)) for k,v in data.items()  }\n",
    "\n",
    "    return predictions, predictions2 \n",
    "\n",
    "\n",
    "\n",
    "\n",
    "\n",
    "\n",
    "\n",
    "\n",
    "\n",
    "predictions, predictions2 = get_predictions()"
   ]
  },
  {
   "cell_type": "code",
   "execution_count": null,
   "metadata": {
    "collapsed": false,
    "scrolled": true
   },
   "outputs": [],
   "source": [
    "import numpy as np\n",
    "# this used optimized gradient boosting model, default random forest also looks ok..\n",
    "for k in keys:    \n",
    "    print k\n",
    "    multi, single, real = predictions[k][1],predictions2[k][1], data[k][0] \n",
    "    real = np.array(real)\n",
    "    real = real[real != np.array(None)]\n",
    "    \n",
    "    plt.ylim((0,3))\n",
    "    print [multi,single,real]\n",
    "    plt.boxplot([multi,single,real],labels=['multi','single','orig'])\n",
    "    plt.show()\n"
   ]
  },
  {
   "cell_type": "markdown",
   "metadata": {},
   "source": [
    "# so far so boring, lets do more estimators"
   ]
  },
  {
   "cell_type": "code",
   "execution_count": null,
   "metadata": {
    "collapsed": false,
    "scrolled": true
   },
   "outputs": [],
   "source": [
    "\n",
    "\n",
    "pred =[predictions, predictions2]  # first entry is default (xdg optimized)\n",
    "\n",
    "pred+=get_predictions (sim.make_forestregressor()) # regressor is the default which is the xdg..\n",
    "pred+=get_predictions (sim.RandomForestRegressor()) \n",
    "\n"
   ]
  },
  {
   "cell_type": "code",
   "execution_count": null,
   "metadata": {
    "collapsed": false,
    "scrolled": false
   },
   "outputs": [],
   "source": [
    "import numpy as np\n",
    "# this used optimized gradient boosting model, default random forest also looks ok..\n",
    "for k in keys:\n",
    "    real= data[k][0]\n",
    "    real = np.array(real)\n",
    "    #real = real[real != np.array(None)]\n",
    "    plt.ylim((0,3))\n",
    "    stuff = map(lambda x:x[k][1],pred)+[real] # cut out all the nones, everywherw\n",
    "    stuff = map (lambda x: x[real != np.array(None)] , stuff)\n",
    "    plt.boxplot(stuff,labels=[\"m_xdg\",'s_xgd','m_fo','s_fo','m_fo_def','ss_fo_def','orig'])\n",
    "    plt.show()\n"
   ]
  },
  {
   "cell_type": "code",
   "execution_count": null,
   "metadata": {
    "collapsed": true
   },
   "outputs": [],
   "source": []
  }
 ],
 "metadata": {
  "kernelspec": {
   "display_name": "Python 2",
   "language": "python",
   "name": "python2"
  },
  "language_info": {
   "codemirror_mode": {
    "name": "ipython",
    "version": 2
   },
   "file_extension": ".py",
   "mimetype": "text/x-python",
   "name": "python",
   "nbconvert_exporter": "python",
   "pygments_lexer": "ipython2",
   "version": "2.7.12"
  }
 },
 "nbformat": 4,
 "nbformat_minor": 2
}
