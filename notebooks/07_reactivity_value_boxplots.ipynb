{
 "cells": [
  {
   "cell_type": "code",
   "execution_count": 18,
   "metadata": {
    "collapsed": true,
    "deletable": true,
    "editable": true
   },
   "outputs": [],
   "source": [
    "import sys\n",
    "sys.path.insert(0,'..')\n",
    "sys.path.insert(0,'/home/ikea/miniconda2/lib/python2.7/site-packages')\n"
   ]
  },
  {
   "cell_type": "code",
   "execution_count": 19,
   "metadata": {
    "collapsed": false,
    "deletable": true,
    "editable": true,
    "scrolled": true
   },
   "outputs": [
    {
     "name": "stdout",
     "output_type": "stream",
     "text": [
      "The autoreload extension is already loaded. To reload it, use:\n",
      "  %reload_ext autoreload\n"
     ]
    },
    {
     "data": {
      "application/javascript": [
       "IPython.notebook.set_autosave_interval(0)"
      ]
     },
     "metadata": {},
     "output_type": "display_data"
    },
    {
     "name": "stdout",
     "output_type": "stream",
     "text": [
      "Autosave disabled\n"
     ]
    },
    {
     "data": {
      "text/html": [
       "<style>.container { width:95% !important; }</style><style>.output_png {display: table-cell;text-align: center;vertical-align: middle;}</style>"
      ],
      "text/plain": [
       "<IPython.core.display.HTML object>"
      ]
     },
     "execution_count": 19,
     "metadata": {},
     "output_type": "execute_result"
    }
   ],
   "source": [
    "%load_ext autoreload\n",
    "%autoreload 2\n",
    "%matplotlib inline\n",
    "%autosave 0\n",
    "from eden.util import configure_logging\n",
    "import logging\n",
    "configure_logging(logging.getLogger(),verbosity=3)\n",
    "\n",
    "import sys\n",
    "sys.path.insert(0,'..')\n",
    "\n",
    "from IPython.core.display import HTML\n",
    "HTML('<style>.container { width:95% !important; }</style><style>.output_png {display: table-cell;text-align: center;vertical-align: middle;}</style>')\n"
   ]
  },
  {
   "cell_type": "markdown",
   "metadata": {},
   "source": [
    "# Boxplot for reactivity values"
   ]
  },
  {
   "cell_type": "code",
   "execution_count": 30,
   "metadata": {
    "collapsed": false,
    "deletable": true,
    "editable": true
   },
   "outputs": [
    {
     "name": "stdout",
     "output_type": "stream",
     "text": [
      "data for 'tRNA-asp' is corrupted, ignoring...\n"
     ]
    }
   ],
   "source": [
    "# LOAD DATA\n",
    "#{seqname:[shapearray, sequence, structure]}\n",
    "\n",
    "import rna_tools.rna_io as rio\n",
    "def getdata():\n",
    "    return rio.get_all_data(\"../data/RNA16.react\",\"../data/RNA16.dbn\")  # {key: rea, seq, stru}\n",
    "import matplotlib.pyplot as plt\n",
    "import simushape as sim\n",
    "\n",
    "\n",
    "\n",
    "\n",
    "# make a model \n",
    "data = getdata()\n",
    "model  = sim.make_model(data,['23sRNA','R009'], model=sim.make_forestregressor())\n",
    "data.pop(\"23sRNA\")\n",
    "data.pop(\"R009\")\n",
    "keys = data.keys()\n",
    "\n",
    "\n",
    "# predict with multiple structures\n",
    "predictions = { k: (data[k][1],sim.predict(model,data[k][1])) for k in keys  }\n",
    "\n",
    "\n",
    "# predict with single structure\n",
    "def get_str(seq):\n",
    "    for _, data_seq, db in data.values():\n",
    "        if seq == data_seq:\n",
    "            return [db]\n",
    "    print \"SHIT\"\n",
    "predictions2 = { k: (v[1],sim.predict(model,v[1],seq_to_db_function=get_str)) for k,v in data.items()  }\n",
    "\n",
    "\n",
    "\n",
    "\n",
    "\n",
    "\n"
   ]
  },
  {
   "cell_type": "code",
   "execution_count": null,
   "metadata": {
    "collapsed": false,
    "scrolled": true
   },
   "outputs": [],
   "source": [
    "import numpy as np\n",
    "# this used optimized gradient boosting model, default random forest also looks ok..\n",
    "for multi, single, real in [(predictions[k][1],predictions2[k][1], data[k][0]) for k in keys]:\n",
    "    real = np.array(real)\n",
    "    real = real[real != np.array(None)]\n",
    "    plt.ylim((0,3))\n",
    "    plt.boxplot([multi,single,real],labels=['multi','single','orig'])\n",
    "    plt.show()\n"
   ]
  },
  {
   "cell_type": "code",
   "execution_count": null,
   "metadata": {
    "collapsed": true
   },
   "outputs": [],
   "source": []
  }
 ],
 "metadata": {
  "kernelspec": {
   "display_name": "Python 2",
   "language": "python",
   "name": "python2"
  },
  "language_info": {
   "codemirror_mode": {
    "name": "ipython",
    "version": 2
   },
   "file_extension": ".py",
   "mimetype": "text/x-python",
   "name": "python",
   "nbconvert_exporter": "python",
   "pygments_lexer": "ipython2",
   "version": "2.7.12"
  }
 },
 "nbformat": 4,
 "nbformat_minor": 2
}
