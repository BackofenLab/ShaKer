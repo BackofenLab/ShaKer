{
 "cells": [
  {
   "cell_type": "markdown",
   "metadata": {},
   "source": [
    "# comparison of accessibility of nucleotides in the sequences"
   ]
  },
  {
   "cell_type": "code",
   "execution_count": 2,
   "metadata": {
    "attributes": {
     "classes": [],
     "id": "",
     "n": "1"
    }
   },
   "outputs": [],
   "source": [
    "%load_ext autoreload\n",
    "%autoreload 2\n",
    "%matplotlib inline\n",
    "from eden.util import configure_logging\n",
    "import logging\n",
    "configure_logging(logging.getLogger(),verbosity=3)\n",
    "from IPython.core.display import HTML\n",
    "HTML('<style>.container { width:95% !important; }</style><style>.output_png {display: table-cell;text-align: center;vertical-align: middle;}</style>')\n",
    "import matplotlib.pyplot as plt"
   ]
  },
  {
   "cell_type": "markdown",
   "metadata": {},
   "source": [
    "# Load data"
   ]
  },
  {
   "cell_type": "code",
   "execution_count": 2,
   "metadata": {
    "scrolled": true
   },
   "outputs": [
    {
     "name": "stdout",
     "output_type": "stream",
     "text": [
      "TRP5 \t202\n",
      "5srRNA \t170\n",
      "GLYCFN \t205\n",
      "RNAsep \t154\n",
      "adenin \t71\n",
      "Z-CIDGMP-1 \t135\n",
      "R009 \t1542\n",
      "ZHCV \t95\n",
      "MDLOOP \t80\n",
      "srRNA \t120\n",
      "p564 \t155\n",
      "tRNAphe \t76\n",
      "ZGLY \t198\n",
      "23sRNA \t2904\n",
      "ADDRSW \t121\n",
      "tRNA-asp \t75\n"
     ]
    }
   ],
   "source": [
    "import ShaKer.rna_tools.rna_io as rio\n",
    "\n",
    "def getdata():\n",
    "    return rio.get_all_data(\"../data/RNA16.react\",\"../data/RNA16.dbn\")  # {key: rea, seq, stru}\n",
    "\n",
    "data = getdata()\n",
    "\n",
    "for k,v in data.items():print k,\"\\t\",  len(v[1])"
   ]
  },
  {
   "cell_type": "markdown",
   "metadata": {},
   "source": [
    "# train predict"
   ]
  },
  {
   "cell_type": "code",
   "execution_count": 3,
   "metadata": {},
   "outputs": [],
   "source": [
    "import ShaKer.simushape as sim\n",
    "from ShaKer.rna_tools.rnaplfold import rnaplfold\n",
    "\n",
    "data = getdata()\n",
    "model  = sim.make_model(data,['23sRNA','R009'])\n",
    "data.pop(\"23sRNA\")\n",
    "data.pop(\"R009\")\n",
    "\n",
    "keys = data.keys()\n",
    "\n",
    "def get_str(seq):\n",
    "    for _, data_seq, db in data.values():\n",
    "        if seq == data_seq:\n",
    "            return [db]\n",
    "    print \"SHIT\"\n",
    "    \n",
    "predictions = { k: (data[k][1],sim.predict(model,data[k][1])) for k in keys  }\n",
    "predictions_str = { k: (data[k][1],sim.predict(model,data[k][1], seq_to_db_function=get_str)) for k in keys  }\n",
    "acc_shaker = {k: rnaplfold(*predictions[k]) for  k in keys} # a predcition is seq,rea\n",
    "acc_shaker_str = {k: rnaplfold(*predictions_str[k]) for  k in keys} # a predcition is seq,rea\n"
   ]
  },
  {
   "cell_type": "code",
   "execution_count": 4,
   "metadata": {},
   "outputs": [],
   "source": [
    "if False:\n",
    "    data = getdata()\n",
    "    keys = data.keys()\n",
    "    shaker_shape = sim.crosspredict_nfold(data,keys)\n",
    "    "
   ]
  },
  {
   "cell_type": "markdown",
   "metadata": {},
   "source": [
    "# real and sukosd based accessibility"
   ]
  },
  {
   "cell_type": "code",
   "execution_count": 5,
   "metadata": {},
   "outputs": [],
   "source": [
    "from ShaKer.rna_tools.sukosd import sukosd\n",
    "\n",
    "# generate more for suko so we can pick the median later\n",
    "acc_suko =  [ {k: rnaplfold(data[k][1], sukosd(data[k][2]) ) for  k in keys} for i in range(5)]\n",
    "acc_shape =  {k: rnaplfold(data[k][1],data[k][0]) for  k in keys}  \n",
    "acc_nodata = {k: rnaplfold(data[k][1]) for  k in keys}\n",
    "\n",
    "\n",
    "acc_theoretical_best = {k: rnaplfold(data[k][1],[1.0 if e =='.' else 0.0 for e in data[k][2]]) for k in keys} ### DOES THIS WORK? \n"
   ]
  },
  {
   "cell_type": "code",
   "execution_count": 6,
   "metadata": {},
   "outputs": [],
   "source": [
    "from scipy.stats import spearmanr as spear\n",
    "\n",
    "corr = lambda ac1, ac2:[spear(ac1[k], ac2[k])[0] for k in keys]\n",
    "corr_suko =  [corr(acc , acc_shape) for acc in acc_suko]\n",
    "corr_suko.sort(key=sum)\n",
    "corr_suko=corr_suko[2]\n",
    "\n",
    "corr_shaker =  corr(acc_shaker, acc_shape)\n",
    "corr_shaker_str =  corr(acc_shaker_str, acc_shape)\n",
    "corr_nodata =  corr(acc_nodata, acc_shape)\n",
    "corr_theo = corr(acc_theoretical_best, acc_shape)"
   ]
  },
  {
   "cell_type": "markdown",
   "metadata": {},
   "source": [
    "# Visualize "
   ]
  },
  {
   "cell_type": "code",
   "execution_count": 6,
   "metadata": {},
   "outputs": [
    {
     "data": {
      "image/png": "[encoded data removed]",
      "text/plain": [
       "<Figure size 360x504 with 1 Axes>"
      ]
     },
     "metadata": {},
     "output_type": "display_data"
    }
   ],
   "source": [
    "import pandas as pd\n",
    "import numpy as np\n",
    "#index= ['Sukosd',\"ShaKer+Structure\", \"known_strucure_max\",\"ShaKer\",\"Thermodynamic\"]\n",
    "#index= [u\"Sükösd et al.\",\"ShaKer (real str)\", \"Paired-Unpaired(real str)\",\"ShaKer\",\"rnaplfold(no SHAPE)\"]\n",
    "\n",
    "index= [u\"sd et al.\",\n",
    "        u\"ShaKer\", \n",
    "        u\"Trivial binary\",\n",
    "        u\"ShaKer\",\n",
    "        u\"Thermodynamic\"]\n",
    "\n",
    "#data2 = [corr_suko, corr_shaker_str,corr_theo,corr_shaker,corr_nodata]\n",
    "\n",
    "import seaborn as sns\n",
    "#sns.set_context(u\"paper\")\n",
    "#sns.set_style(u'darkgrid')\n",
    "sns.set(font_scale=1.5)\n",
    "#plt.xticks(rotation=60)\n",
    "\n",
    "meanpointprops = dict(marker='o', markeredgecolor=u'green',markerfacecolor='w')\n",
    "fig, ax = plt.subplots(figsize=(5,7))\n",
    "sns.boxplot(data=zzz,meanprops=meanpointprops, showmeans=True)\n",
    "plt.title(u\"\")\n",
    "plt.grid()\n",
    "axes = plt.gca()\n",
    "axes.set_ylim([0.6,1.005])\n",
    "axes.set_ylabel(u\"Rank Correlation\")\n",
    "axes.grid(b=True, which='major', color='w', linewidth=1.0)\n",
    "plt.savefig(u\"Accessibility.svg\", bbox_inches=u'tight')"
   ]
  },
  {
   "cell_type": "code",
   "execution_count": 9,
   "metadata": {},
   "outputs": [
    {
     "data": {
      "text/html": [
       "<div>\n",
       "<style scoped>\n",
       "    .dataframe tbody tr th:only-of-type {\n",
       "        vertical-align: middle;\n",
       "    }\n",
       "\n",
       "    .dataframe tbody tr th {\n",
       "        vertical-align: top;\n",
       "    }\n",
       "\n",
       "    .dataframe thead th {\n",
       "        text-align: right;\n",
       "    }\n",
       "</style>\n",
       "<table border=\"1\" class=\"dataframe\">\n",
       "  <thead>\n",
       "    <tr style=\"text-align: right;\">\n",
       "      <th></th>\n",
       "      <th>Sükösd et al.\n",
       "(ref. structure known)</th>\n",
       "      <th>ShaKer\n",
       "(ref. structure known)</th>\n",
       "      <th>Trivial binary\n",
       "(ref. structure known)</th>\n",
       "      <th>ShaKer</th>\n",
       "      <th>Thermodynamic\n",
       "prediction\n",
       "without SHAPE</th>\n",
       "    </tr>\n",
       "  </thead>\n",
       "  <tbody>\n",
       "    <tr>\n",
       "      <th>0</th>\n",
       "      <td>0.958500</td>\n",
       "      <td>0.978142</td>\n",
       "      <td>0.950267</td>\n",
       "      <td>0.974249</td>\n",
       "      <td>0.975396</td>\n",
       "    </tr>\n",
       "    <tr>\n",
       "      <th>1</th>\n",
       "      <td>0.765942</td>\n",
       "      <td>0.780132</td>\n",
       "      <td>0.736296</td>\n",
       "      <td>0.978249</td>\n",
       "      <td>0.978867</td>\n",
       "    </tr>\n",
       "    <tr>\n",
       "      <th>2</th>\n",
       "      <td>0.325093</td>\n",
       "      <td>0.294153</td>\n",
       "      <td>0.260131</td>\n",
       "      <td>0.550962</td>\n",
       "      <td>0.520805</td>\n",
       "    </tr>\n",
       "    <tr>\n",
       "      <th>3</th>\n",
       "      <td>0.946718</td>\n",
       "      <td>0.956563</td>\n",
       "      <td>0.925426</td>\n",
       "      <td>0.908626</td>\n",
       "      <td>0.847748</td>\n",
       "    </tr>\n",
       "    <tr>\n",
       "      <th>4</th>\n",
       "      <td>0.836148</td>\n",
       "      <td>0.966780</td>\n",
       "      <td>0.973729</td>\n",
       "      <td>0.966545</td>\n",
       "      <td>0.877654</td>\n",
       "    </tr>\n",
       "    <tr>\n",
       "      <th>5</th>\n",
       "      <td>0.952317</td>\n",
       "      <td>0.957053</td>\n",
       "      <td>0.931686</td>\n",
       "      <td>0.972162</td>\n",
       "      <td>0.978766</td>\n",
       "    </tr>\n",
       "    <tr>\n",
       "      <th>6</th>\n",
       "      <td>0.911268</td>\n",
       "      <td>0.871347</td>\n",
       "      <td>0.753561</td>\n",
       "      <td>0.852996</td>\n",
       "      <td>0.905179</td>\n",
       "    </tr>\n",
       "    <tr>\n",
       "      <th>7</th>\n",
       "      <td>0.955996</td>\n",
       "      <td>0.978150</td>\n",
       "      <td>0.945245</td>\n",
       "      <td>0.976720</td>\n",
       "      <td>0.948119</td>\n",
       "    </tr>\n",
       "    <tr>\n",
       "      <th>8</th>\n",
       "      <td>0.918293</td>\n",
       "      <td>0.975469</td>\n",
       "      <td>0.950318</td>\n",
       "      <td>0.464696</td>\n",
       "      <td>0.550390</td>\n",
       "    </tr>\n",
       "    <tr>\n",
       "      <th>9</th>\n",
       "      <td>0.884386</td>\n",
       "      <td>0.954719</td>\n",
       "      <td>0.957856</td>\n",
       "      <td>0.829329</td>\n",
       "      <td>0.793642</td>\n",
       "    </tr>\n",
       "    <tr>\n",
       "      <th>10</th>\n",
       "      <td>0.868172</td>\n",
       "      <td>0.950100</td>\n",
       "      <td>0.931654</td>\n",
       "      <td>0.937949</td>\n",
       "      <td>0.631888</td>\n",
       "    </tr>\n",
       "    <tr>\n",
       "      <th>11</th>\n",
       "      <td>0.913533</td>\n",
       "      <td>0.931114</td>\n",
       "      <td>0.905664</td>\n",
       "      <td>0.709929</td>\n",
       "      <td>0.860329</td>\n",
       "    </tr>\n",
       "    <tr>\n",
       "      <th>12</th>\n",
       "      <td>0.983898</td>\n",
       "      <td>0.986519</td>\n",
       "      <td>0.978158</td>\n",
       "      <td>0.986547</td>\n",
       "      <td>0.911415</td>\n",
       "    </tr>\n",
       "    <tr>\n",
       "      <th>13</th>\n",
       "      <td>0.952275</td>\n",
       "      <td>0.949579</td>\n",
       "      <td>0.872094</td>\n",
       "      <td>0.944222</td>\n",
       "      <td>0.960974</td>\n",
       "    </tr>\n",
       "  </tbody>\n",
       "</table>\n",
       "</div>"
      ],
      "text/plain": [
       "    Sükösd et al.\\n(ref. structure known)  ShaKer\\n(ref. structure known)  \\\n",
       "0                                0.958500                        0.978142   \n",
       "1                                0.765942                        0.780132   \n",
       "2                                0.325093                        0.294153   \n",
       "3                                0.946718                        0.956563   \n",
       "4                                0.836148                        0.966780   \n",
       "5                                0.952317                        0.957053   \n",
       "6                                0.911268                        0.871347   \n",
       "7                                0.955996                        0.978150   \n",
       "8                                0.918293                        0.975469   \n",
       "9                                0.884386                        0.954719   \n",
       "10                               0.868172                        0.950100   \n",
       "11                               0.913533                        0.931114   \n",
       "12                               0.983898                        0.986519   \n",
       "13                               0.952275                        0.949579   \n",
       "\n",
       "    Trivial binary\\n(ref. structure known)    ShaKer  \\\n",
       "0                                 0.950267  0.974249   \n",
       "1                                 0.736296  0.978249   \n",
       "2                                 0.260131  0.550962   \n",
       "3                                 0.925426  0.908626   \n",
       "4                                 0.973729  0.966545   \n",
       "5                                 0.931686  0.972162   \n",
       "6                                 0.753561  0.852996   \n",
       "7                                 0.945245  0.976720   \n",
       "8                                 0.950318  0.464696   \n",
       "9                                 0.957856  0.829329   \n",
       "10                                0.931654  0.937949   \n",
       "11                                0.905664  0.709929   \n",
       "12                                0.978158  0.986547   \n",
       "13                                0.872094  0.944222   \n",
       "\n",
       "    Thermodynamic\\nprediction\\nwithout SHAPE  \n",
       "0                                   0.975396  \n",
       "1                                   0.978867  \n",
       "2                                   0.520805  \n",
       "3                                   0.847748  \n",
       "4                                   0.877654  \n",
       "5                                   0.978766  \n",
       "6                                   0.905179  \n",
       "7                                   0.948119  \n",
       "8                                   0.550390  \n",
       "9                                   0.793642  \n",
       "10                                  0.631888  \n",
       "11                                  0.860329  \n",
       "12                                  0.911415  \n",
       "13                                  0.960974  "
      ]
     },
     "execution_count": 9,
     "metadata": {},
     "output_type": "execute_result"
    }
   ],
   "source": [
    "zzz"
   ]
  },
  {
   "cell_type": "code",
   "execution_count": 3,
   "metadata": {
    "scrolled": false
   },
   "outputs": [
    {
     "data": {
      "text/html": [
       "<div>\n",
       "<style scoped>\n",
       "    .dataframe tbody tr th:only-of-type {\n",
       "        vertical-align: middle;\n",
       "    }\n",
       "\n",
       "    .dataframe tbody tr th {\n",
       "        vertical-align: top;\n",
       "    }\n",
       "\n",
       "    .dataframe thead th {\n",
       "        text-align: right;\n",
       "    }\n",
       "</style>\n",
       "<table border=\"1\" class=\"dataframe\">\n",
       "  <thead>\n",
       "    <tr style=\"text-align: right;\">\n",
       "      <th></th>\n",
       "      <th>ShaKer</th>\n",
       "      <th>Thermoynamic Model</th>\n",
       "    </tr>\n",
       "  </thead>\n",
       "  <tbody>\n",
       "    <tr>\n",
       "      <th>0</th>\n",
       "      <td>0.974249</td>\n",
       "      <td>0.975396</td>\n",
       "    </tr>\n",
       "    <tr>\n",
       "      <th>1</th>\n",
       "      <td>0.978249</td>\n",
       "      <td>0.978867</td>\n",
       "    </tr>\n",
       "    <tr>\n",
       "      <th>2</th>\n",
       "      <td>0.550962</td>\n",
       "      <td>0.520805</td>\n",
       "    </tr>\n",
       "    <tr>\n",
       "      <th>3</th>\n",
       "      <td>0.908626</td>\n",
       "      <td>0.847748</td>\n",
       "    </tr>\n",
       "    <tr>\n",
       "      <th>4</th>\n",
       "      <td>0.966545</td>\n",
       "      <td>0.877654</td>\n",
       "    </tr>\n",
       "    <tr>\n",
       "      <th>5</th>\n",
       "      <td>0.972162</td>\n",
       "      <td>0.978766</td>\n",
       "    </tr>\n",
       "    <tr>\n",
       "      <th>6</th>\n",
       "      <td>0.852996</td>\n",
       "      <td>0.905179</td>\n",
       "    </tr>\n",
       "    <tr>\n",
       "      <th>7</th>\n",
       "      <td>0.976720</td>\n",
       "      <td>0.948119</td>\n",
       "    </tr>\n",
       "    <tr>\n",
       "      <th>8</th>\n",
       "      <td>0.464696</td>\n",
       "      <td>0.550390</td>\n",
       "    </tr>\n",
       "    <tr>\n",
       "      <th>9</th>\n",
       "      <td>0.829329</td>\n",
       "      <td>0.793642</td>\n",
       "    </tr>\n",
       "    <tr>\n",
       "      <th>10</th>\n",
       "      <td>0.937949</td>\n",
       "      <td>0.631888</td>\n",
       "    </tr>\n",
       "    <tr>\n",
       "      <th>11</th>\n",
       "      <td>0.709929</td>\n",
       "      <td>0.860329</td>\n",
       "    </tr>\n",
       "    <tr>\n",
       "      <th>12</th>\n",
       "      <td>0.986547</td>\n",
       "      <td>0.911415</td>\n",
       "    </tr>\n",
       "    <tr>\n",
       "      <th>13</th>\n",
       "      <td>0.944222</td>\n",
       "      <td>0.960974</td>\n",
       "    </tr>\n",
       "  </tbody>\n",
       "</table>\n",
       "</div>"
      ],
      "text/plain": [
       "      ShaKer  Thermoynamic Model\n",
       "0   0.974249            0.975396\n",
       "1   0.978249            0.978867\n",
       "2   0.550962            0.520805\n",
       "3   0.908626            0.847748\n",
       "4   0.966545            0.877654\n",
       "5   0.972162            0.978766\n",
       "6   0.852996            0.905179\n",
       "7   0.976720            0.948119\n",
       "8   0.464696            0.550390\n",
       "9   0.829329            0.793642\n",
       "10  0.937949            0.631888\n",
       "11  0.709929            0.860329\n",
       "12  0.986547            0.911415\n",
       "13  0.944222            0.960974"
      ]
     },
     "execution_count": 3,
     "metadata": {},
     "output_type": "execute_result"
    }
   ],
   "source": [
    "import pandas as pd\n",
    "zzz = pd.read_csv(\"access_PAPER.csv\")\n",
    "del zzz[\"asd\"]\n",
    "del zzz[\"suko_ref\"]\n",
    "del zzz[\"shaker_ref\"]\n",
    "del zzz[\"triv_ref\"]\n",
    "zzz"
   ]
  },
  {
   "cell_type": "code",
   "execution_count": 10,
   "metadata": {},
   "outputs": [
    {
     "name": "stdout",
     "output_type": "stream",
     "text": [
      "Sükösd et al.\\n(ref. structure known)     0.167025\n",
      "ShaKer\\n(ref. structure known)            0.181262\n",
      "Trivial binary\\n(ref. structure known)    0.188767\n",
      "ShaKer                                    0.169026\n",
      "Thermodynamic\\nprediction                 0.158267\n",
      "dtype: float64\n",
      "Sükösd et al.\\n(ref. structure known)     0.869467\n",
      "ShaKer\\n(ref. structure known)            0.894987\n",
      "Trivial binary\\n(ref. structure known)    0.862292\n",
      "ShaKer                                    0.860941\n",
      "Thermodynamic\\nprediction                 0.838655\n",
      "dtype: float64\n"
     ]
    }
   ],
   "source": [
    "data4=pandas.DataFrame(data2, index=index).T\n",
    "print data4.std(axis=0)\n",
    "print data4.mean(axis=0)"
   ]
  },
  {
   "cell_type": "code",
   "execution_count": 33,
   "metadata": {},
   "outputs": [
    {
     "name": "stdout",
     "output_type": "stream",
     "text": [
      "\"asd\",\"Sükösd et al.\r\n",
      "(ref. structure known)\",\"ShaKer\r\n",
      "(ref. structure known)\",\"Trivial binary\r\n",
      "(ref. structure known)\",ShaKer,\"Thermodynamic\r\n",
      "prediction\"\r\n",
      "0,0.9585001207119278,0.9781422555467569,0.9502671543043291,0.974248955179164,0.975395518428428\r\n",
      "1,0.7659424794492298,0.7801320952664761,0.7362955250072332,0.9782490282285495,0.978867335082648\r\n",
      "2,0.3250929809449484,0.29415343342343153,0.26013103492853423,0.5509624722116991,0.5208048362608126\r\n",
      "3,0.9467176621076345,0.956562668661543,0.925426372302691,0.9086262684255476,0.8477480852173506\r\n",
      "4,0.8361477734688765,0.9667795836077849,0.9737285648742824,0.9665448103311634,0.8776536919360108\r\n",
      "5,0.9523171935545304,0.957053315112905,0.9316856692596315,0.9721621302792667,0.9787658003293115\r\n",
      "6,0.9112681970884658,0.8713465845464725,0.7535614186684269,0.8529955207166854,0.9051791713325867\r\n",
      "7,0.9559957866640135,0.9781502821860473,0.9452448326198656,0.9767202036391224,0.9481185426706563\r\n",
      "8,0.9182926532892828,0.9754687399638634,0.9503180132230846,0.4646962717839349,0.5503898715020996\r\n",
      "9,0.8843856823708861,0.9547194740743127,0.957855819870618,0.8293287357803486,0.7936418420289388\r\n",
      "10,0.8681722796979237,0.9501004826786397,0.9316539796339418,0.9379485708131515,0.6318883375619514\r\n",
      "11,0.9135331429746355,0.9311141660905458,0.9056640295063847,0.7099292608433411,0.8603287396561743\r\n",
      "12,0.9838982903309742,0.9865193884689007,0.9781581153775315,0.9865466833638588,0.9114153799123752\r\n",
      "13,0.9522752812984536,0.9495785769792168,0.8720943360332969,0.944221974664101,0.9609741179056566\r\n"
     ]
    }
   ],
   "source": [
    "# SAVING REULT\n",
    "# access_PAPER is also in the repo\n",
    "#data4.to_csv(\"access_PAPER.csv\",encoding = \"utf-8\")\n",
    "!cat access_PAPER.csv"
   ]
  },
  {
   "cell_type": "code",
   "execution_count": null,
   "metadata": {},
   "outputs": [],
   "source": []
  },
  {
   "cell_type": "code",
   "execution_count": null,
   "metadata": {},
   "outputs": [],
   "source": []
  },
  {
   "cell_type": "code",
   "execution_count": null,
   "metadata": {},
   "outputs": [],
   "source": []
  },
  {
   "cell_type": "code",
   "execution_count": null,
   "metadata": {},
   "outputs": [],
   "source": [
    "plt.xticks(rotation=70)\n",
    "g=sns.stripplot(data=pandas.DataFrame(data2, index=index).T)\n",
    "g=sns.boxplot(data=pandas.DataFrame(data2, index=index).T)\n",
    "plt.title(TITLE)\n",
    "g.set(ylim=(0, 1))\n",
    "plt.grid()"
   ]
  },
  {
   "cell_type": "code",
   "execution_count": null,
   "metadata": {},
   "outputs": [],
   "source": [
    "map(lambda x:x.append(np.mean(x)),data2)    \n",
    "data2 = pandas.DataFrame(data2, columns=keys+['mean'], index=index).T\n",
    "from tabulate import tabulate\n",
    "print tabulate(data2, headers=\"keys\", tablefmt=\"orgtbl\")"
   ]
  },
  {
   "cell_type": "code",
   "execution_count": null,
   "metadata": {},
   "outputs": [],
   "source": [
    "print data2.to_latex()"
   ]
  },
  {
   "cell_type": "markdown",
   "metadata": {},
   "source": [
    "---"
   ]
  }
 ],
 "metadata": {
  "kernelspec": {
   "display_name": "Python 3",
   "language": "python",
   "name": "python3"
  },
  "language_info": {
   "codemirror_mode": {
    "name": "ipython",
    "version": 2
   },
   "file_extension": ".py",
   "mimetype": "text/x-python",
   "name": "python",
   "nbconvert_exporter": "python",
   "pygments_lexer": "ipython2",
   "version": "2.7.16"
  }
 },
 "nbformat": 4,
 "nbformat_minor": 2
}
