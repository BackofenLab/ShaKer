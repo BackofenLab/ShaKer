{
 "cells": [
  {
   "cell_type": "markdown",
   "metadata": {},
   "source": [
    "# comparison of accessibility of nucleotides in the sequences"
   ]
  },
  {
   "cell_type": "code",
   "execution_count": 1,
   "metadata": {
    "attributes": {
     "classes": [],
     "id": "",
     "n": "1"
    }
   },
   "outputs": [
    {
     "data": {
      "text/html": [
       "<style>.container { width:95% !important; }</style><style>.output_png {display: table-cell;text-align: center;vertical-align: middle;}</style>"
      ],
      "text/plain": [
       "<IPython.core.display.HTML object>"
      ]
     },
     "execution_count": 1,
     "metadata": {},
     "output_type": "execute_result"
    },
    {
     "name": "stdout",
     "output_type": "stream",
     "text": [
      "backend module://ipykernel.pylab.backend_inline version unknown\n"
     ]
    }
   ],
   "source": [
    "%load_ext autoreload\n",
    "%autoreload 2\n",
    "%matplotlib inline\n",
    "from eden.util import configure_logging\n",
    "import logging\n",
    "configure_logging(logging.getLogger(),verbosity=3)\n",
    "import sys\n",
    "sys.path.insert(0,'..')\n",
    "from IPython.core.display import HTML\n",
    "HTML('<style>.container { width:95% !important; }</style><style>.output_png {display: table-cell;text-align: center;vertical-align: middle;}</style>')\n",
    "import matplotlib.pyplot as plt"
   ]
  },
  {
   "cell_type": "markdown",
   "metadata": {},
   "source": [
    "# Load data"
   ]
  },
  {
   "cell_type": "code",
   "execution_count": 2,
   "metadata": {
    "scrolled": true
   },
   "outputs": [
    {
     "name": "stdout",
     "output_type": "stream",
     "text": [
      "TRP5 \t202\n",
      "5srRNA \t170\n",
      "GLYCFN \t205\n",
      "RNAsep \t154\n",
      "adenin \t71\n",
      "Z-CIDGMP-1 \t135\n",
      "R009 \t1542\n",
      "ZHCV \t95\n",
      "MDLOOP \t80\n",
      "srRNA \t120\n",
      "p564 \t155\n",
      "tRNAphe \t76\n",
      "ZGLY \t198\n",
      "23sRNA \t2904\n",
      "ADDRSW \t121\n",
      "tRNA-asp \t75\n"
     ]
    }
   ],
   "source": [
    "import rna_tools.rna_io as rio\n",
    "\n",
    "def getdata():\n",
    "    return rio.get_all_data(\"../data/RNA16.react\",\"../data/RNA16.dbn\")  # {key: rea, seq, stru}\n",
    "\n",
    "data = getdata()\n",
    "\n",
    "for k,v in data.items():print k,\"\\t\",  len(v[1])"
   ]
  },
  {
   "cell_type": "markdown",
   "metadata": {},
   "source": [
    "# train predict"
   ]
  },
  {
   "cell_type": "code",
   "execution_count": 3,
   "metadata": {},
   "outputs": [],
   "source": [
    "import simushape as sim\n",
    "from rna_tools.rnaplfold import rnaplfold\n",
    "\n",
    "data = getdata()\n",
    "model  = sim.make_model(data,['23sRNA','R009'])\n",
    "data.pop(\"23sRNA\")\n",
    "data.pop(\"R009\")\n",
    "\n",
    "keys = data.keys()\n",
    "\n",
    "def get_str(seq):\n",
    "    for _, data_seq, db in data.values():\n",
    "        if seq == data_seq:\n",
    "            return [db]\n",
    "    print \"SHIT\"\n",
    "    \n",
    "predictions = { k: (data[k][1],sim.predict(model,data[k][1])) for k in keys  }\n",
    "predictions_str = { k: (data[k][1],sim.predict(model,data[k][1], seq_to_db_function=get_str)) for k in keys  }\n",
    "acc_shaker = {k: rnaplfold(*predictions[k]) for  k in keys} # a predcition is seq,rea\n",
    "acc_shaker_str = {k: rnaplfold(*predictions_str[k]) for  k in keys} # a predcition is seq,rea\n"
   ]
  },
  {
   "cell_type": "code",
   "execution_count": 4,
   "metadata": {},
   "outputs": [],
   "source": [
    "if False:\n",
    "    data = getdata()\n",
    "    keys = data.keys()\n",
    "    shaker_shape = sim.crosspredict_nfold(data,keys)\n",
    "    "
   ]
  },
  {
   "cell_type": "markdown",
   "metadata": {},
   "source": [
    "# real and sukosd based accessibility"
   ]
  },
  {
   "cell_type": "code",
   "execution_count": 5,
   "metadata": {},
   "outputs": [],
   "source": [
    "from rna_tools.sukosd import sukosd\n",
    "acc_suko =   {k: rnaplfold(data[k][1], sukosd(data[k][2]) ) for  k in keys}\n",
    "acc_shape =  {k: rnaplfold(data[k][1],data[k][0]) for  k in keys}  \n",
    "acc_nodata = {k: rnaplfold(data[k][1]) for  k in keys}\n",
    "\n",
    "\n",
    "acc_theoretical_best = {k: rnaplfold(data[k][1],[1.0 if e =='.' else 0.0 for e in data[k][2]]) for k in keys} ### DOES THIS WORK? \n"
   ]
  },
  {
   "cell_type": "code",
   "execution_count": 6,
   "metadata": {},
   "outputs": [],
   "source": [
    "from scipy.stats import spearmanr as spear\n",
    "corr = lambda ac1, ac2:[spear(ac1[k], ac2[k])[0] for k in keys]\n",
    "corr_suko =  corr(acc_suko, acc_shape)\n",
    "corr_shaker =  corr(acc_shaker, acc_shape)\n",
    "corr_shaker_str =  corr(acc_shaker_str, acc_shape)\n",
    "corr_nodata =  corr(acc_nodata, acc_shape)\n",
    "corr_theo = corr(acc_theoretical_best, acc_shape)"
   ]
  },
  {
   "cell_type": "markdown",
   "metadata": {},
   "source": [
    "# Visualize "
   ]
  },
  {
   "cell_type": "code",
   "execution_count": 7,
   "metadata": {
    "scrolled": false
   },
   "outputs": [
    {
     "data": {
      "text/plain": [
       "<matplotlib.axes._subplots.AxesSubplot at 0x7f6a4c5843d0>"
      ]
     },
     "execution_count": 7,
     "metadata": {},
     "output_type": "execute_result"
    },
    {
     "name": "stdout",
     "output_type": "stream",
     "text": [
      "findfont: Matching :family=sans-serif:style=normal:variant=normal:weight=normal:stretch=normal:size=10.0 to DejaVu Sans (u'/home/ikea/.local/lib/python3.6/site-packages/matplotlib/mpl-data/fonts/ttf/DejaVuSans.ttf') with score of 0.050000\n"
     ]
    },
    {
     "data": {
      "image/png": "[encoded data removed]",
      "text/plain": [
       "<Figure size 432x288 with 1 Axes>"
      ]
     },
     "metadata": {
      "needs_background": "light"
     },
     "output_type": "display_data"
    }
   ],
   "source": [
    "import pandas\n",
    "import numpy as np\n",
    "index=  ['suko',\"shaker_str\",\"best\",\"shaker\",\"nodata\"]\n",
    "data2 = [corr_suko, corr_shaker_str,corr_theo,corr_shaker,corr_nodata]\n",
    "\n",
    "\n",
    "import seaborn as sns\n",
    "sns.boxplot(data=pandas.DataFrame(data2[:3], index=index[:3]).T)\n",
    "\n",
    "plt.title(\"SOME TITLE\")\n",
    "plt.grid()"
   ]
  },
  {
   "cell_type": "code",
   "execution_count": 8,
   "metadata": {},
   "outputs": [
    {
     "data": {
      "text/plain": [
       "<matplotlib.axes._subplots.AxesSubplot at 0x7f6a4e141190>"
      ]
     },
     "execution_count": 8,
     "metadata": {},
     "output_type": "execute_result"
    },
    {
     "data": {
      "image/png": "[encoded data removed]",
      "text/plain": [
       "<Figure size 432x288 with 1 Axes>"
      ]
     },
     "metadata": {
      "needs_background": "light"
     },
     "output_type": "display_data"
    }
   ],
   "source": [
    "import seaborn as sns\n",
    "sns.boxplot(data=pandas.DataFrame(data2[3:], index=index[3:]).T)\n",
    "plt.title(\"SOME TITLE\")\n",
    "plt.grid()"
   ]
  },
  {
   "cell_type": "code",
   "execution_count": 9,
   "metadata": {},
   "outputs": [
    {
     "name": "stdout",
     "output_type": "stream",
     "text": [
      "|            |     suko |   shaker_str |     best |   shaker |   nodata |\n",
      "|------------+----------+--------------+----------+----------+----------|\n",
      "| TRP5       | 0.952988 |     0.978142 | 0.950267 | 0.975742 | 0.975396 |\n",
      "| 5srRNA     | 0.762879 |     0.780132 | 0.736296 | 0.979866 | 0.978867 |\n",
      "| GLYCFN     | 0.319059 |     0.294153 | 0.260131 | 0.558528 | 0.520805 |\n",
      "| RNAsep     | 0.882688 |     0.956563 | 0.925426 | 0.969952 | 0.847748 |\n",
      "| adenin     | 0.959056 |     0.96678  | 0.973729 | 0.96678  | 0.877654 |\n",
      "| Z-CIDGMP-1 | 0.95541  |     0.957053 | 0.931686 | 0.968699 | 0.978766 |\n",
      "| ZHCV       | 0.8471   |     0.871347 | 0.753561 | 0.855613 | 0.905179 |\n",
      "| MDLOOP     | 0.973381 |     0.97815  | 0.945245 | 0.977119 | 0.948119 |\n",
      "| srRNA      | 0.944194 |     0.975469 | 0.950318 | 0.471877 | 0.55039  |\n",
      "| p564       | 0.932584 |     0.954719 | 0.957856 | 0.783417 | 0.793642 |\n",
      "| tRNAphe    | 0.910442 |     0.9501   | 0.931654 | 0.925303 | 0.631888 |\n",
      "| ZGLY       | 0.917372 |     0.931114 | 0.905664 | 0.693297 | 0.860329 |\n",
      "| ADDRSW     | 0.986441 |     0.986519 | 0.978158 | 0.984779 | 0.911415 |\n",
      "| tRNA-asp   | 0.893221 |     0.949579 | 0.872094 | 0.943937 | 0.960974 |\n",
      "| mean       | 0.874058 |     0.894987 | 0.862292 | 0.861065 | 0.838655 |\n"
     ]
    }
   ],
   "source": [
    "map(lambda x:x.append(np.mean(x)),data2)    \n",
    "data2 = pandas.DataFrame(data2, columns=keys+['mean'], index=index).T\n",
    "from tabulate import tabulate\n",
    "print tabulate(data2, headers=\"keys\", tablefmt=\"orgtbl\")"
   ]
  },
  {
   "cell_type": "code",
   "execution_count": 10,
   "metadata": {},
   "outputs": [
    {
     "name": "stdout",
     "output_type": "stream",
     "text": [
      "\\begin{tabular}{lrrrrr}\n",
      "\\toprule\n",
      "{} &      suko &  shaker\\_str &      best &    shaker &    nodata \\\\\n",
      "\\midrule\n",
      "TRP5       &  0.952988 &    0.978142 &  0.950267 &  0.975742 &  0.975396 \\\\\n",
      "5srRNA     &  0.762879 &    0.780132 &  0.736296 &  0.979866 &  0.978867 \\\\\n",
      "GLYCFN     &  0.319059 &    0.294153 &  0.260131 &  0.558528 &  0.520805 \\\\\n",
      "RNAsep     &  0.882688 &    0.956563 &  0.925426 &  0.969952 &  0.847748 \\\\\n",
      "adenin     &  0.959056 &    0.966780 &  0.973729 &  0.966780 &  0.877654 \\\\\n",
      "Z-CIDGMP-1 &  0.955410 &    0.957053 &  0.931686 &  0.968699 &  0.978766 \\\\\n",
      "ZHCV       &  0.847100 &    0.871347 &  0.753561 &  0.855613 &  0.905179 \\\\\n",
      "MDLOOP     &  0.973381 &    0.978150 &  0.945245 &  0.977119 &  0.948119 \\\\\n",
      "srRNA      &  0.944194 &    0.975469 &  0.950318 &  0.471877 &  0.550390 \\\\\n",
      "p564       &  0.932584 &    0.954719 &  0.957856 &  0.783417 &  0.793642 \\\\\n",
      "tRNAphe    &  0.910442 &    0.950100 &  0.931654 &  0.925303 &  0.631888 \\\\\n",
      "ZGLY       &  0.917372 &    0.931114 &  0.905664 &  0.693297 &  0.860329 \\\\\n",
      "ADDRSW     &  0.986441 &    0.986519 &  0.978158 &  0.984779 &  0.911415 \\\\\n",
      "tRNA-asp   &  0.893221 &    0.949579 &  0.872094 &  0.943937 &  0.960974 \\\\\n",
      "mean       &  0.874058 &    0.894987 &  0.862292 &  0.861065 &  0.838655 \\\\\n",
      "\\bottomrule\n",
      "\\end{tabular}\n",
      "\n"
     ]
    }
   ],
   "source": [
    "print data2.to_latex()"
   ]
  },
  {
   "cell_type": "code",
   "execution_count": 11,
   "metadata": {},
   "outputs": [
    {
     "data": {
      "text/plain": [
       "'\\nfrom scipy.stats import spearmanr as spear\\ncorr = lambda ac1, ac2:[(a-b)**2 for k in keys for a,b in zip(ac1[k], ac2[k])]\\ncorr_suko =  corr(acc_suko, acc_shape)\\ncorr_shaker =  corr(acc_shaker, acc_shape)\\ncorr_shaker_str =  corr(acc_shaker_str, acc_shape)\\ncorr_nodata =  corr(acc_nodata, acc_shape)\\nprint len(corr_suko)\\n\\nimport pandas\\nindex= [\\'suko\\',\"shaker\",\"shaker_str\",\"nodata\"]\\ndata2 = [corr_suko,corr_shaker, corr_shaker_str,corr_nodata]\\ndata2 = pandas.DataFrame(data2, index=index).T\\nprint data2.plot(kind=\\'box\\')\\n'"
      ]
     },
     "execution_count": 11,
     "metadata": {},
     "output_type": "execute_result"
    }
   ],
   "source": [
    "\"\"\"\n",
    "from scipy.stats import spearmanr as spear\n",
    "corr = lambda ac1, ac2:[(a-b)**2 for k in keys for a,b in zip(ac1[k], ac2[k])]\n",
    "corr_suko =  corr(acc_suko, acc_shape)\n",
    "corr_shaker =  corr(acc_shaker, acc_shape)\n",
    "corr_shaker_str =  corr(acc_shaker_str, acc_shape)\n",
    "corr_nodata =  corr(acc_nodata, acc_shape)\n",
    "print len(corr_suko)\n",
    "\n",
    "import pandas\n",
    "index= ['suko',\"shaker\",\"shaker_str\",\"nodata\"]\n",
    "data2 = [corr_suko,corr_shaker, corr_shaker_str,corr_nodata]\n",
    "data2 = pandas.DataFrame(data2, index=index).T\n",
    "print data2.plot(kind='box')\n",
    "\"\"\""
   ]
  },
  {
   "cell_type": "markdown",
   "metadata": {},
   "source": [
    "---"
   ]
  }
 ],
 "metadata": {
  "kernelspec": {
   "display_name": "Python 2",
   "language": "python",
   "name": "python2"
  },
  "language_info": {
   "codemirror_mode": {
    "name": "ipython",
    "version": 2
   },
   "file_extension": ".py",
   "mimetype": "text/x-python",
   "name": "python",
   "nbconvert_exporter": "python",
   "pygments_lexer": "ipython2",
   "version": "2.7.15rc1"
  }
 },
 "nbformat": 4,
 "nbformat_minor": 2
}
