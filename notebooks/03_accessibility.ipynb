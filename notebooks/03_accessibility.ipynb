{
 "cells": [
  {
   "cell_type": "markdown",
   "metadata": {
    "deletable": true,
    "editable": true
   },
   "source": [
    "# comparison of accessibility of nucleotides in the sequences"
   ]
  },
  {
   "cell_type": "code",
   "execution_count": 30,
   "metadata": {
    "collapsed": true,
    "deletable": true,
    "editable": true
   },
   "outputs": [],
   "source": [
    "import sys\n",
    "sys.path.insert(0,'..')\n",
    "sys.path.insert(0,'/home/ikea/miniconda2/lib/python2.7/site-packages')\n"
   ]
  },
  {
   "cell_type": "code",
   "execution_count": 31,
   "metadata": {
    "attributes": {
     "classes": [],
     "id": "",
     "n": "1"
    },
    "collapsed": false,
    "deletable": true,
    "editable": true
   },
   "outputs": [
    {
     "name": "stdout",
     "output_type": "stream",
     "text": [
      "The autoreload extension is already loaded. To reload it, use:\n",
      "  %reload_ext autoreload\n"
     ]
    },
    {
     "data": {
      "text/html": [
       "<style>.container { width:95% !important; }</style><style>.output_png {display: table-cell;text-align: center;vertical-align: middle;}</style>"
      ],
      "text/plain": [
       "<IPython.core.display.HTML object>"
      ]
     },
     "execution_count": 31,
     "metadata": {},
     "output_type": "execute_result"
    }
   ],
   "source": [
    "%load_ext autoreload\n",
    "%autoreload 2\n",
    "%matplotlib inline\n",
    "from eden.util import configure_logging\n",
    "import logging\n",
    "configure_logging(logging.getLogger(),verbosity=3)\n",
    "import sys\n",
    "sys.path.insert(0,'..')\n",
    "from IPython.core.display import HTML\n",
    "HTML('<style>.container { width:95% !important; }</style><style>.output_png {display: table-cell;text-align: center;vertical-align: middle;}</style>')"
   ]
  },
  {
   "cell_type": "markdown",
   "metadata": {
    "deletable": true,
    "editable": true
   },
   "source": [
    "# Load data"
   ]
  },
  {
   "cell_type": "code",
   "execution_count": 32,
   "metadata": {
    "collapsed": false,
    "deletable": true,
    "editable": true,
    "scrolled": true
   },
   "outputs": [
    {
     "name": "stdout",
     "output_type": "stream",
     "text": [
      "data for 'tRNA-asp' is corrupted, ignoring...\n",
      "ADDRSW \t121\n",
      "GLYCFN \t205\n",
      "tRNAphe \t76\n",
      "RNAsep \t154\n",
      "ZHCV \t95\n",
      "Z-CIDGMP-1 \t135\n",
      "adenin \t71\n",
      "23sRNA \t2904\n",
      "p564 \t155\n",
      "srRNA \t120\n",
      "ZGLY \t198\n",
      "MDLOOP \t80\n",
      "R009 \t1542\n",
      "5srRNA \t170\n",
      "TRP5 \t202\n"
     ]
    }
   ],
   "source": [
    "import rna_tools.rna_io as rio\n",
    "\n",
    "def getdata():\n",
    "    return rio.get_all_data(\"../data/RNA16.react\",\"../data/RNA16.dbn\")  # {key: rea, seq, stru}\n",
    "\n",
    "data = getdata()\n",
    "\n",
    "for k,v in data.items():print k,\"\\t\",  len(v[1])"
   ]
  },
  {
   "cell_type": "markdown",
   "metadata": {
    "deletable": true,
    "editable": true
   },
   "source": [
    "# train predict"
   ]
  },
  {
   "cell_type": "code",
   "execution_count": 58,
   "metadata": {
    "collapsed": false,
    "deletable": true,
    "editable": true
   },
   "outputs": [
    {
     "name": "stdout",
     "output_type": "stream",
     "text": [
      "data for 'tRNA-asp' is corrupted, ignoring...\n"
     ]
    }
   ],
   "source": [
    "import simushape as sim\n",
    "from rna_tools.rnaplfold import rnaplfold\n",
    "\n",
    "data = getdata()\n",
    "model  = sim.make_model(data,['23sRNA','R009'])\n",
    "data.pop(\"23sRNA\")\n",
    "data.pop(\"R009\")\n",
    "\n",
    "keys = data.keys()\n",
    "\n",
    "\n",
    "\n",
    "def get_str(seq):\n",
    "    for _, data_seq, db in data.values():\n",
    "        if seq == data_seq:\n",
    "            return [db]\n",
    "    print \"SHIT\"\n",
    "predictions = { k: (data[k][1],sim.predict(model,data[k][1])) for k in keys  }\n",
    "predictions_str = { k: (data[k][1],sim.predict(model,data[k][1], seq_to_db_function=get_str)) for k in keys  }\n",
    "acc_shaker = {k: rnaplfold(*predictions[k]) for  k in keys} # a predcition is seq,rea\n",
    "acc_shaker_str = {k: rnaplfold(*predictions_str[k]) for  k in keys} # a predcition is seq,rea\n"
   ]
  },
  {
   "cell_type": "code",
   "execution_count": 59,
   "metadata": {
    "collapsed": true,
    "deletable": true,
    "editable": true
   },
   "outputs": [],
   "source": [
    "if False:\n",
    "    data = getdata()\n",
    "    keys = data.keys()\n",
    "    shaker_shape = sim.crosspredict_nfold(data,keys)\n",
    "    "
   ]
  },
  {
   "cell_type": "markdown",
   "metadata": {
    "deletable": true,
    "editable": true
   },
   "source": [
    "# real and sukosd based accessibility"
   ]
  },
  {
   "cell_type": "code",
   "execution_count": 60,
   "metadata": {
    "collapsed": false,
    "deletable": true,
    "editable": true
   },
   "outputs": [],
   "source": [
    "from rna_tools.sukosd import sukosd\n",
    "acc_suko =   {k: rnaplfold(data[k][1], sukosd(data[k][2]) ) for  k in keys}\n",
    "acc_shape =  {k: rnaplfold(data[k][1],data[k][0]) for  k in keys}  \n",
    "acc_nodata = {k: rnaplfold(data[k][1]) for  k in keys}\n"
   ]
  },
  {
   "cell_type": "code",
   "execution_count": 61,
   "metadata": {
    "collapsed": false,
    "deletable": true,
    "editable": true
   },
   "outputs": [],
   "source": [
    "from scipy.stats import spearmanr as spear\n",
    "corr = lambda ac1, ac2:[spear(ac1[k], ac2[k])[0] for k in keys]\n",
    "corr_suko =  corr(acc_suko, acc_shape)\n",
    "corr_shaker =  corr(acc_shaker, acc_shape)\n",
    "corr_shaker_str =  corr(acc_shaker_str, acc_shape)\n",
    "corr_nodata =  corr(acc_nodata, acc_shape)"
   ]
  },
  {
   "cell_type": "markdown",
   "metadata": {
    "deletable": true,
    "editable": true
   },
   "source": [
    "# Visualize "
   ]
  },
  {
   "cell_type": "code",
   "execution_count": 62,
   "metadata": {
    "collapsed": false,
    "deletable": true,
    "editable": true,
    "scrolled": false
   },
   "outputs": [
    {
     "name": "stdout",
     "output_type": "stream",
     "text": [
      "|            |     suko |   shaker |   shaker_str |   nodata |\n",
      "|------------+----------+----------+--------------+----------|\n",
      "| ADDRSW     | 0.973697 | 0.983577 |     0.983979 | 0.911415 |\n",
      "| GLYCFN     | 0.295878 | 0.528483 |     0.258756 | 0.520805 |\n",
      "| tRNAphe    | 0.91992  | 0.905508 |     0.945657 | 0.631888 |\n",
      "| RNAsep     | 0.937153 | 0.958294 |     0.962743 | 0.847748 |\n",
      "| ZHCV       | 0.843379 | 0.855105 |     0.877968 | 0.905179 |\n",
      "| Z-CIDGMP-1 | 0.936089 | 0.972595 |     0.964446 | 0.978766 |\n",
      "| adenin     | 0.861568 | 0.963031 |     0.962662 | 0.877654 |\n",
      "| p564       | 0.961632 | 0.796816 |     0.951913 | 0.793642 |\n",
      "| srRNA      | 0.92327  | 0.490149 |     0.977448 | 0.55039  |\n",
      "| ZGLY       | 0.918547 | 0.740316 |     0.931708 | 0.860329 |\n",
      "| MDLOOP     | 0.968401 | 0.978238 |     0.977236 | 0.948119 |\n",
      "| 5srRNA     | 0.788022 | 0.980049 |     0.764599 | 0.978867 |\n",
      "| TRP5       | 0.907063 | 0.973273 |     0.974894 | 0.975396 |\n",
      "| mean       | 0.864201 | 0.855803 |     0.887231 | 0.829246 |\n"
     ]
    }
   ],
   "source": [
    "import pandas\n",
    "import numpy as np\n",
    "index= ['suko',\"shaker\",\"shaker_str\",\"nodata\"]\n",
    "data2 = [corr_suko,corr_shaker, corr_shaker_str,corr_nodata]\n",
    "map(lambda x:x.append(np.mean(x)),data2)\n",
    "\n",
    "data2 = pandas.DataFrame(data2, columns=keys+['mean'], index=index).T\n",
    "\n",
    "from tabulate import tabulate\n",
    "print tabulate(data2, headers=\"keys\", tablefmt=\"orgtbl\")"
   ]
  },
  {
   "cell_type": "code",
   "execution_count": 64,
   "metadata": {
    "collapsed": false
   },
   "outputs": [
    {
     "name": "stdout",
     "output_type": "stream",
     "text": [
      "\\begin{tabular}{lrrrr}\n",
      "\\toprule\n",
      "{} &      suko &    shaker &  shaker\\_str &    nodata \\\\\n",
      "\\midrule\n",
      "ADDRSW     &  0.973697 &  0.983577 &    0.983979 &  0.911415 \\\\\n",
      "GLYCFN     &  0.295878 &  0.528483 &    0.258756 &  0.520805 \\\\\n",
      "tRNAphe    &  0.919920 &  0.905508 &    0.945657 &  0.631888 \\\\\n",
      "RNAsep     &  0.937153 &  0.958294 &    0.962743 &  0.847748 \\\\\n",
      "ZHCV       &  0.843379 &  0.855105 &    0.877968 &  0.905179 \\\\\n",
      "Z-CIDGMP-1 &  0.936089 &  0.972595 &    0.964446 &  0.978766 \\\\\n",
      "adenin     &  0.861568 &  0.963031 &    0.962662 &  0.877654 \\\\\n",
      "p564       &  0.961632 &  0.796816 &    0.951913 &  0.793642 \\\\\n",
      "srRNA      &  0.923270 &  0.490149 &    0.977448 &  0.550390 \\\\\n",
      "ZGLY       &  0.918547 &  0.740316 &    0.931708 &  0.860329 \\\\\n",
      "MDLOOP     &  0.968401 &  0.978238 &    0.977236 &  0.948119 \\\\\n",
      "5srRNA     &  0.788022 &  0.980049 &    0.764599 &  0.978867 \\\\\n",
      "TRP5       &  0.907063 &  0.973273 &    0.974894 &  0.975396 \\\\\n",
      "mean       &  0.864201 &  0.855803 &    0.887231 &  0.829246 \\\\\n",
      "\\bottomrule\n",
      "\\end{tabular}\n",
      "\n"
     ]
    }
   ],
   "source": [
    "print data2.to_latex()"
   ]
  }
 ],
 "metadata": {
  "kernelspec": {
   "display_name": "Python 2",
   "language": "python",
   "name": "python2"
  },
  "language_info": {
   "codemirror_mode": {
    "name": "ipython",
    "version": 2
   },
   "file_extension": ".py",
   "mimetype": "text/x-python",
   "name": "python",
   "nbconvert_exporter": "python",
   "pygments_lexer": "ipython2",
   "version": "2.7.12"
  }
 },
 "nbformat": 4,
 "nbformat_minor": 2
}
