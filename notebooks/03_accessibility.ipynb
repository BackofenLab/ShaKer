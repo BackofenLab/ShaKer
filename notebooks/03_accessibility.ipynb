{
 "cells": [
  {
   "cell_type": "markdown",
   "metadata": {},
   "source": [
    "# comparison of accessibility of nucleotides in the sequences"
   ]
  },
  {
   "cell_type": "code",
   "execution_count": null,
   "metadata": {
    "attributes": {
     "classes": [],
     "id": "",
     "n": "1"
    }
   },
   "outputs": [],
   "source": [
    "%load_ext autoreload\n",
    "%autoreload 2\n",
    "%matplotlib inline\n",
    "from eden.util import configure_logging\n",
    "import logging\n",
    "configure_logging(logging.getLogger(),verbosity=3)\n",
    "import sys\n",
    "sys.path.insert(0,'..')\n",
    "from IPython.core.display import HTML\n",
    "HTML('<style>.container { width:95% !important; }</style><style>.output_png {display: table-cell;text-align: center;vertical-align: middle;}</style>')\n",
    "import matplotlib.pyplot as plt"
   ]
  },
  {
   "cell_type": "markdown",
   "metadata": {},
   "source": [
    "# Load data"
   ]
  },
  {
   "cell_type": "code",
   "execution_count": null,
   "metadata": {
    "scrolled": true
   },
   "outputs": [],
   "source": [
    "import rna_tools.rna_io as rio\n",
    "\n",
    "def getdata():\n",
    "    return rio.get_all_data(\"../data/RNA16.react\",\"../data/RNA16.dbn\")  # {key: rea, seq, stru}\n",
    "\n",
    "data = getdata()\n",
    "\n",
    "for k,v in data.items():print k,\"\\t\",  len(v[1])"
   ]
  },
  {
   "cell_type": "markdown",
   "metadata": {},
   "source": [
    "# train predict"
   ]
  },
  {
   "cell_type": "code",
   "execution_count": null,
   "metadata": {},
   "outputs": [],
   "source": [
    "import simushape as sim\n",
    "from rna_tools.rnaplfold import rnaplfold\n",
    "\n",
    "data = getdata()\n",
    "model  = sim.make_model(data,['23sRNA','R009'])\n",
    "data.pop(\"23sRNA\")\n",
    "data.pop(\"R009\")\n",
    "\n",
    "keys = data.keys()\n",
    "\n",
    "def get_str(seq):\n",
    "    for _, data_seq, db in data.values():\n",
    "        if seq == data_seq:\n",
    "            return [db]\n",
    "    print \"SHIT\"\n",
    "    \n",
    "predictions = { k: (data[k][1],sim.predict(model,data[k][1])) for k in keys  }\n",
    "predictions_str = { k: (data[k][1],sim.predict(model,data[k][1], seq_to_db_function=get_str)) for k in keys  }\n",
    "acc_shaker = {k: rnaplfold(*predictions[k]) for  k in keys} # a predcition is seq,rea\n",
    "acc_shaker_str = {k: rnaplfold(*predictions_str[k]) for  k in keys} # a predcition is seq,rea\n"
   ]
  },
  {
   "cell_type": "code",
   "execution_count": null,
   "metadata": {},
   "outputs": [],
   "source": [
    "if False:\n",
    "    data = getdata()\n",
    "    keys = data.keys()\n",
    "    shaker_shape = sim.crosspredict_nfold(data,keys)\n",
    "    "
   ]
  },
  {
   "cell_type": "markdown",
   "metadata": {},
   "source": [
    "# real and sukosd based accessibility"
   ]
  },
  {
   "cell_type": "code",
   "execution_count": null,
   "metadata": {},
   "outputs": [],
   "source": [
    "from rna_tools.sukosd import sukosd\n",
    "acc_suko =   {k: rnaplfold(data[k][1], sukosd(data[k][2]) ) for  k in keys}\n",
    "acc_shape =  {k: rnaplfold(data[k][1],data[k][0]) for  k in keys}  \n",
    "acc_nodata = {k: rnaplfold(data[k][1]) for  k in keys}\n",
    "\n",
    "\n",
    "acc_theoretical_best = {k: rnaplfold(data[k][1],[1.0 if e =='.' else 0.0 for e in data[k][2]]) for k in keys} ### DOES THIS WORK? \n"
   ]
  },
  {
   "cell_type": "code",
   "execution_count": null,
   "metadata": {},
   "outputs": [],
   "source": [
    "from scipy.stats import spearmanr as spear\n",
    "corr = lambda ac1, ac2:[spear(ac1[k], ac2[k])[0] for k in keys]\n",
    "corr_suko =  corr(acc_suko, acc_shape)\n",
    "corr_shaker =  corr(acc_shaker, acc_shape)\n",
    "corr_shaker_str =  corr(acc_shaker_str, acc_shape)\n",
    "corr_nodata =  corr(acc_nodata, acc_shape)\n",
    "corr_theo = corr(acc_theoretical_best, acc_shape)"
   ]
  },
  {
   "cell_type": "markdown",
   "metadata": {},
   "source": [
    "# Visualize "
   ]
  },
  {
   "cell_type": "code",
   "execution_count": null,
   "metadata": {
    "scrolled": false
   },
   "outputs": [],
   "source": [
    "import pandas\n",
    "import numpy as np\n",
    "index= ['Sukosd',\"ShaKer+Structure\", \"known_strucure_max\",\"ShaKer\",\"Thermodynamic\"]\n",
    "\n",
    "data2 = [corr_suko, corr_shaker_str,corr_theo,corr_shaker,corr_nodata]\n",
    "\n",
    "\n",
    "import seaborn as sns\n",
    "sns.boxplot(data=pandas.DataFrame(data2[:3], index=index[:3]).T)\n",
    "TITLE = \"Accessibility\"\n",
    "plt.title(\"SOME TITLE\")\n",
    "plt.grid()"
   ]
  },
  {
   "cell_type": "code",
   "execution_count": null,
   "metadata": {},
   "outputs": [],
   "source": [
    "import seaborn as sns\n",
    "sns.boxplot(data=pandas.DataFrame(data2[3:], index=index[3:]).T)\n",
    "plt.title(\"SOME TITLE\")\n",
    "plt.grid()"
   ]
  },
  {
   "cell_type": "code",
   "execution_count": null,
   "metadata": {},
   "outputs": [],
   "source": [
    "plt.xticks(rotation=70)\n",
    "g=sns.boxplot(data=pandas.DataFrame(data2, index=index).T)\n",
    "plt.title(TITLE)\n",
    "g.set(ylim=(0, 1))\n",
    "plt.grid()"
   ]
  },
  {
   "cell_type": "code",
   "execution_count": null,
   "metadata": {},
   "outputs": [],
   "source": [
    "plt.xticks(rotation=70)\n",
    "g=sns.stripplot(data=pandas.DataFrame(data2, index=index).T)\n",
    "g=sns.boxplot(data=pandas.DataFrame(data2, index=index).T)\n",
    "plt.title(TITLE)\n",
    "g.set(ylim=(0, 1))\n",
    "plt.grid()"
   ]
  },
  {
   "cell_type": "code",
   "execution_count": null,
   "metadata": {},
   "outputs": [],
   "source": [
    "map(lambda x:x.append(np.mean(x)),data2)    \n",
    "data2 = pandas.DataFrame(data2, columns=keys+['mean'], index=index).T\n",
    "from tabulate import tabulate\n",
    "print tabulate(data2, headers=\"keys\", tablefmt=\"orgtbl\")"
   ]
  },
  {
   "cell_type": "code",
   "execution_count": null,
   "metadata": {},
   "outputs": [],
   "source": [
    "print data2.to_latex()"
   ]
  },
  {
   "cell_type": "code",
   "execution_count": null,
   "metadata": {},
   "outputs": [],
   "source": [
    "\"\"\"\n",
    "from scipy.stats import spearmanr as spear\n",
    "corr = lambda ac1, ac2:[(a-b)**2 for k in keys for a,b in zip(ac1[k], ac2[k])]\n",
    "corr_suko =  corr(acc_suko, acc_shape)\n",
    "corr_shaker =  corr(acc_shaker, acc_shape)\n",
    "corr_shaker_str =  corr(acc_shaker_str, acc_shape)\n",
    "corr_nodata =  corr(acc_nodata, acc_shape)\n",
    "print len(corr_suko)\n",
    "\n",
    "import pandas\n",
    "index= ['suko',\"shaker\",\"shaker_str\",\"nodata\"]\n",
    "data2 = [corr_suko,corr_shaker, corr_shaker_str,corr_nodata]\n",
    "data2 = pandas.DataFrame(data2, index=index).T\n",
    "print data2.plot(kind='box')\n",
    "\"\"\""
   ]
  },
  {
   "cell_type": "markdown",
   "metadata": {},
   "source": [
    "---"
   ]
  }
 ],
 "metadata": {
  "kernelspec": {
   "display_name": "Python 2",
   "language": "python",
   "name": "python2"
  },
  "language_info": {
   "codemirror_mode": {
    "name": "ipython",
    "version": 2
   },
   "file_extension": ".py",
   "mimetype": "text/x-python",
   "name": "python",
   "nbconvert_exporter": "python",
   "pygments_lexer": "ipython2",
   "version": "2.7.15rc1"
  }
 },
 "nbformat": 4,
 "nbformat_minor": 2
}
