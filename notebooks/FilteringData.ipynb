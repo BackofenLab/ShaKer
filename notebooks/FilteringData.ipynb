{
 "cells": [
  {
   "cell_type": "markdown",
   "metadata": {
    "deletable": true,
    "editable": true
   },
   "source": [
    "# predict on sequence\n",
    "\n",
    "we have the shape data and a structure,  we predict and see how good the prediction fits the structures, the better the fit, the better i assume the data is\n"
   ]
  },
  {
   "cell_type": "code",
   "execution_count": 1,
   "metadata": {
    "attributes": {
     "classes": [],
     "id": "",
     "n": "1"
    },
    "collapsed": false,
    "deletable": true,
    "editable": true
   },
   "outputs": [
    {
     "data": {
      "text/html": [
       "<style>.container { width:95% !important; }</style><style>.output_png {display: table-cell;text-align: center;vertical-align: middle;}</style>"
      ],
      "text/plain": [
       "<IPython.core.display.HTML object>"
      ]
     },
     "execution_count": 1,
     "metadata": {},
     "output_type": "execute_result"
    }
   ],
   "source": [
    "%load_ext autoreload\n",
    "%autoreload 2\n",
    "%matplotlib inline\n",
    "from eden.util import configure_logging\n",
    "import logging\n",
    "configure_logging(logging.getLogger(),verbosity=3)\n",
    "\n",
    "from IPython.core.display import HTML\n",
    "HTML('<style>.container { width:95% !important; }</style><style>.output_png {display: table-cell;text-align: center;vertical-align: middle;}</style>')"
   ]
  },
  {
   "cell_type": "code",
   "execution_count": null,
   "metadata": {
    "collapsed": true,
    "deletable": true,
    "editable": true,
    "scrolled": true
   },
   "outputs": [],
   "source": [
    "# LOAD ALL \n",
    "data = ss.get_all_data('data/RNA16.react','data/RNA16.dbn')\n",
    "data2 = ss.get_all_data('data/RNA20.react','data/RNA20.dbn')\n",
    "data.update(data2)"
   ]
  },
  {
   "cell_type": "code",
   "execution_count": null,
   "metadata": {
    "collapsed": true,
    "deletable": true,
    "editable": true,
    "scrolled": true
   },
   "outputs": [],
   "source": [
    "import notebook_helper as helper\n",
    "predictpath=\"data/predictions/\"\n",
    "import simushape_nostruct  as sn\n",
    "import simushape as ss\n",
    "\n",
    "for e in range(5):\n",
    "    helper.run2(rs_structure=False, filename=predictpath+\"shaker_ref_ref_nutest%d.react\" % e, train_data=data, test_data=data)\n"
   ]
  },
  {
   "cell_type": "markdown",
   "metadata": {
    "deletable": true,
    "editable": true
   },
   "source": [
    "# DRAW FUNCTION FOR THE SHAPE DATA"
   ]
  },
  {
   "cell_type": "code",
   "execution_count": null,
   "metadata": {
    "collapsed": true,
    "deletable": true,
    "editable": true,
    "scrolled": false
   },
   "outputs": [],
   "source": [
    "from graphlearn01.utils import draw\n",
    "import numpy as np\n",
    "from numpy import around\n",
    "from scipy.stats import pearsonr as pear\n",
    "from scipy.stats import spearmanr as spear\n",
    "import simushape  as ss\n",
    "from IPython.display import HTML, display\n",
    "import tabulate\n",
    "import simushape_nostruct  as sn\n",
    "\n",
    "        \n",
    "def mycorr(name,train, prediction):\n",
    "    train = np.array(train)\n",
    "    prediction = np.array(prediction)\n",
    "    predict2, train2 = ss.mask(prediction,train)\n",
    "    #p =  pear(train2,predict2)[0]\n",
    "    s,pvalue =  spear(train2,predict2)\n",
    "    #v =  predict2.var()\n",
    "    return [name,around(s,3)]\n",
    "\n",
    "\n",
    "def mycorr2(name,train, shakers):\n",
    "    res=[]\n",
    "    train = np.array(train)\n",
    "    for thing in shakers:\n",
    "        prediction = thing[e]\n",
    "        prediction = np.array(prediction)\n",
    "        predict2, train2 = ss.mask(prediction,train)\n",
    "        s,pvalue =  spear(train2,predict2)\n",
    "        res.append(s)\n",
    "    return res\n",
    "\n",
    "\n",
    "shakers = [ss.read_react(predictpath+\"shaker_ref_ref_nutest.react\")]\n",
    "for e in range(5):\n",
    "    shakers.append(ss.read_react(predictpath+\"shaker_ref_ref_nutest%d.react\" % e))\n",
    "\n",
    "\n",
    "alltables= []\n",
    "for e in data:\n",
    "    alltables.append( [e] + mycorr2(e,data[e][0],shakers) )\n",
    "  \n",
    "\n",
    "alltables.sort(key=lambda x: sum(x[1:]), reverse = True)\n",
    "display(HTML(tabulate.tabulate(alltables, tablefmt='html')))\n",
    "\n",
    "print [e[0] for e in alltables if sum(e[1:]) > 0.4*6]\n",
    "print [e[0] for e in alltables if sum(e[1:]) < 0.4*6]"
   ]
  },
  {
   "cell_type": "code",
   "execution_count": null,
   "metadata": {
    "collapsed": true,
    "deletable": true,
    "editable": true
   },
   "outputs": [],
   "source": [
    "import pylab as plt\n",
    "cmap=plt.get_cmap('hot')"
   ]
  },
  {
   "cell_type": "code",
   "execution_count": null,
   "metadata": {
    "collapsed": true,
    "deletable": true,
    "editable": true
   },
   "outputs": [],
   "source": [
    "plt.colors.to_hex(cmap(.5))"
   ]
  },
  {
   "cell_type": "code",
   "execution_count": null,
   "metadata": {
    "collapsed": true,
    "deletable": true,
    "editable": true
   },
   "outputs": [],
   "source": []
  }
 ],
 "metadata": {
  "kernelspec": {
   "display_name": "Python 2",
   "language": "python",
   "name": "python2"
  },
  "language_info": {
   "codemirror_mode": {
    "name": "ipython",
    "version": 2
   },
   "file_extension": ".py",
   "mimetype": "text/x-python",
   "name": "python",
   "nbconvert_exporter": "python",
   "pygments_lexer": "ipython2",
   "version": "2.7.12"
  }
 },
 "nbformat": 4,
 "nbformat_minor": 2
}
