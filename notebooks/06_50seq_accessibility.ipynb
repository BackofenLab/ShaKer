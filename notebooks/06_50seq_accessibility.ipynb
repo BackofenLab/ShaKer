{
 "cells": [
  {
   "cell_type": "markdown",
   "metadata": {
    "ein.tags": "worksheet-0",
    "slideshow": {
     "slide_type": "-"
    }
   },
   "source": [
    "# there is the SHAPE dataset of 50 sequences, under 4 conditions... \n",
    "\n",
    "we want to see of our accessibility is good"
   ]
  },
  {
   "cell_type": "code",
   "execution_count": null,
   "metadata": {
    "attributes": {
     "classes": null,
     "id": "",
     "n": "1"
    },
    "autoscroll": false,
    "ein.hycell": false,
    "ein.tags": "worksheet-0",
    "slideshow": {
     "slide_type": "-"
    }
   },
   "outputs": [],
   "source": [
    "%load_ext autoreload\n",
    "%autoreload 2\n",
    "%matplotlib inline\n",
    "from eden.util import configure_logging\n",
    "import logging\n",
    "configure_logging(logging.getLogger(),verbosity=3)\n",
    "import sys\n",
    "sys.path.insert(0,'..')\n",
    "from IPython.core.display import HTML\n",
    "HTML('<style>.container { width:95% !important; }</style><style>.output_png {display: table-cell;text-align: center;vertical-align: middle;}</style>')\n",
    "\n",
    "import matplotlib.pyplot as plt\n",
    "import simushape as ss \n",
    "from scipy.stats import spearmanr as spear\n",
    "import pandas\n",
    "import numpy as np\n"
   ]
  },
  {
   "cell_type": "markdown",
   "metadata": {
    "ein.tags": "worksheet-0",
    "slideshow": {
     "slide_type": "-"
    }
   },
   "source": [
    "# Load data"
   ]
  },
  {
   "cell_type": "code",
   "execution_count": null,
   "metadata": {
    "autoscroll": false,
    "ein.hycell": false,
    "ein.tags": "worksheet-0",
    "scrolled": true,
    "slideshow": {
     "slide_type": "-"
    }
   },
   "outputs": [],
   "source": [
    "import rna_tools.rna_io as rio\n",
    "import pandas\n",
    "\n",
    "types = [\"cellfree\",\n",
    "\"incell\",\n",
    "\"kasugamycin\"]\n",
    "\n",
    "def getdata(typ):\n",
    "    return rio.get_all_data(\"../data/weeks194_orig/%s.react\" % typ,\"../data/weeks194_orig/%s.dbn\" % typ)  # {key: rea, seq, stru}\n",
    "\n",
    "data = [getdata(t) for t in types] # 2 has bad results :)\n",
    "\n",
    "\n",
    "import seaborn as sns\n",
    "def draw(data,ylabel=\"SHAPE reactivity\",piclength=6, title=\"Experimental Reavtivity for mRNA#96\",ylim=(0, 1)):\n",
    "    fig, ax = plt.subplots()\n",
    "    # the size of A4 paper\n",
    "    fig.set_size_inches(piclength,4)\n",
    "    \n",
    "    sns.set(style=\"whitegrid\")\n",
    "    g=sns.lineplot(data=data.T, dashes=False)\n",
    "    g.set_xlabel('Transcript')\n",
    "    g.set_ylabel(ylabel)\n",
    "    plt.title(title)\n",
    "    g.set(ylim=ylim)\n",
    "    #fig = g.get_figure()\n",
    "    #fig.savefig(\"output.pdf\")\n",
    "    \n",
    "def window(stuff):\n",
    "    windowed = [ np.median(np.array( [z for z in stuff[i:i+51] if z != None] )) for i in range(0, len(stuff)-50)  ]\n",
    "    return np.hstack([[np.nan]*25,windowed])  # add padding"
   ]
  },
  {
   "cell_type": "markdown",
   "metadata": {
    "ein.tags": "worksheet-0",
    "slideshow": {
     "slide_type": "-"
    }
   },
   "source": [
    "# FIG 2   -- \"weeks 50\" paper  -- just shape profiles"
   ]
  },
  {
   "cell_type": "code",
   "execution_count": null,
   "metadata": {
    "autoscroll": false,
    "ein.hycell": false,
    "ein.tags": "worksheet-0",
    "slideshow": {
     "slide_type": "-"
    }
   },
   "outputs": [],
   "source": [
    "# GRAPH FROM PAPER \n",
    "\n",
    "papr = pandas.DataFrame( [ window(data[a][\"rpsP_rimM_trmD_rplS_96\"][0][:500]) for a in range(3)],index=types)\n",
    "\n",
    "draw(papr)"
   ]
  },
  {
   "cell_type": "markdown",
   "metadata": {
    "ein.tags": "worksheet-0",
    "slideshow": {
     "slide_type": "-"
    }
   },
   "source": [
    "#   "
   ]
  },
  {
   "cell_type": "code",
   "execution_count": null,
   "metadata": {
    "autoscroll": false,
    "ein.hycell": false,
    "ein.tags": "worksheet-0",
    "scrolled": false,
    "slideshow": {
     "slide_type": "-"
    }
   },
   "outputs": [],
   "source": [
    "%%time\n",
    "# SHAKER RECONSTRUCTION   # GRADIENT BOOST OPTIMIZED\n",
    "\n",
    "keys = data[0].keys()\n",
    "keys.remove(\"rpsP_rimM_trmD_rplS_96\")\n",
    "keys_train = keys[:5]\n",
    "\n",
    "modelz=[ss.make_xgbreg() for i in range(len(data))]\n",
    "models = [ss.make_model(dat,keys_train,model=mod) for dat,mod in zip(data,modelz) ]\n",
    "\n",
    "predictions = [ss.predict(mod, data[0][\"rpsP_rimM_trmD_rplS_96\"][1][:500]) for mod in models]\n",
    "mystuff = pandas.DataFrame( [ window(p) for p in predictions],index=types)\n",
    "\n",
    "draw(mystuff)"
   ]
  },
  {
   "cell_type": "code",
   "execution_count": null,
   "metadata": {
    "autoscroll": false,
    "ein.hycell": false,
    "ein.tags": "worksheet-0",
    "slideshow": {
     "slide_type": "-"
    }
   },
   "outputs": [],
   "source": [
    "%%time\n",
    "# SHAKER RECONSTRUCTION   # FORREST REGRESSOR\n",
    "keys = data[0].keys()\n",
    "keys.remove(\"rpsP_rimM_trmD_rplS_96\")\n",
    "keys_train = keys[:5]\n",
    "\n",
    "modelz=[ss.make_forestregressor() for i in range(len(data))]\n",
    "models = [ss.make_model(dat,keys_train,model=mod) for dat,mod in zip(data,modelz) ]\n",
    "\n",
    "predictions = [ss.predict(mod, data[0][\"rpsP_rimM_trmD_rplS_96\"][1][:500]) for mod in models]\n",
    "mystuff = pandas.DataFrame( [ window(p) for p in predictions],index=types)\n",
    "\n",
    "draw(mystuff)\n"
   ]
  },
  {
   "cell_type": "markdown",
   "metadata": {},
   "source": [
    "# FIG 6   -- \"weeks 50\" paper --regulatory structures"
   ]
  },
  {
   "cell_type": "code",
   "execution_count": null,
   "metadata": {},
   "outputs": [],
   "source": [
    "%%time\n",
    "\n",
    "# SHAKER RECONSTRUCTION   # GRADIENT BOOST OPTIMIZED\n",
    "\n",
    "keys = data[0].keys()\n",
    "keys.remove(\"rpmB_rpmG_147\")\n",
    "keys_train = keys[:5]\n",
    "\n",
    "modelz=[ss.make_xgbreg() for i in range(len(data))]\n",
    "models = [ss.make_model(dat,keys_train,model=mod) for dat,mod in zip(data,modelz) ]\n",
    "\n",
    "predictions = [ss.predict(mod, data[0][\"rpmB_rpmG_147\"][1]) for mod in models]\n",
    "\n",
    "# predictions \n",
    "mystuff = pandas.DataFrame( [ window(p) for p in predictions],index=types)\n",
    "\n",
    "draw(mystuff)\n",
    "\n"
   ]
  },
  {
   "cell_type": "code",
   "execution_count": null,
   "metadata": {},
   "outputs": [],
   "source": [
    "# accessibility for prediction   and accessibility for real data\n",
    "\n",
    "from rna_tools import rnaplfold\n",
    "acc =  [ rnaplfold.rnaplfold(data[0][\"rpmB_rpmG_147\"][1], p) for p in predictions]\n",
    "\n",
    "# accessibility windowed\n",
    "mystuff = pandas.DataFrame(map(window,acc),index=types)\n",
    "mystuff.T.plot.line()\n",
    "\n",
    "# ACCESS OROGINAL \n",
    "papr = pandas.DataFrame( [ window(   rnaplfold.rnaplfold(data[a][\"rpmB_rpmG_147\"][1],data[a][\"rpmB_rpmG_147\"][0])  ) for a in range(3)],index=types)\n",
    "papr.T.plot.line()"
   ]
  },
  {
   "cell_type": "markdown",
   "metadata": {},
   "source": [
    "---"
   ]
  },
  {
   "cell_type": "markdown",
   "metadata": {},
   "source": [
    "# FIG 2B    "
   ]
  },
  {
   "cell_type": "code",
   "execution_count": null,
   "metadata": {},
   "outputs": [],
   "source": [
    "%%time\n",
    "import data.weeks194_orig.remove_genes as d\n",
    "\n",
    "\n",
    "# get data\n",
    "keys = data[0].keys()\n",
    "keys_predict = [\"rpsP_rimM_trmD_rplS_96\",\"dusB_fis_130\"]\n",
    "keys_train = [k for k in  keys if k not in keys_predict][:100]\n",
    "\n",
    "\n",
    "# make model\n",
    "models =[ss.make_xgbreg()  for dat in data]\n",
    "models = [ ss.make_model(dat,keys_train, model=mod)for dat,mod in zip(data,models) ]\n",
    "\n",
    "\n"
   ]
  },
  {
   "cell_type": "code",
   "execution_count": null,
   "metadata": {},
   "outputs": [],
   "source": [
    "%%time\n",
    "# PREDICTION\n",
    "from rna_tools.rnaplfold import rnaplfold\n",
    "import notebook_helper as nb\n",
    "asd=nb.getgenedict()\n",
    "\n",
    "\n",
    "# predict\n",
    "def predwrap(k,mod):\n",
    "    seq = data[0][k][1]\n",
    "    res = ss.predict(mod, seq[:600] )\n",
    "    return res\n",
    "\n",
    "def plfoldrap(k):\n",
    "    seq = data[0][k][1]\n",
    "    res = rnaplfold(seq[:600])\n",
    "    return res\n",
    "\n",
    "\n",
    "k = keys_predict[0]\n",
    "predictions = [predwrap(k,mod)  for mod in models]\n",
    "predictions.append(plfoldrap(k))\n",
    "\n"
   ]
  },
  {
   "cell_type": "code",
   "execution_count": null,
   "metadata": {},
   "outputs": [],
   "source": [
    "blub(predictions)"
   ]
  },
  {
   "cell_type": "code",
   "execution_count": null,
   "metadata": {},
   "outputs": [],
   "source": [
    "%%time\n",
    "models_forest =[ss.make_forestregressor()  for dat in data]\n",
    "models_forest = [ ss.make_model(dat,keys_train, model=mod)for dat,mod in zip(data,models) ]\n",
    "k = keys_predict[0]\n",
    "predictions_forest = [predwrap(k,mod)  for mod in models_forest]\n",
    "predictions_forest.append(plfoldrap(k))\n",
    "blub(predictions_forest)"
   ]
  },
  {
   "cell_type": "code",
   "execution_count": null,
   "metadata": {
    "scrolled": true
   },
   "outputs": [],
   "source": [
    "\n",
    "k=\"rpsP_rimM_trmD_rplS_96\"\n",
    "import copy\n",
    "\n",
    "def blub(df):\n",
    "    # data\n",
    "    realdata2 = copy.deepcopy(df)\n",
    "    realdata2 = [window(p) for p in realdata2]\n",
    "    \n",
    "    # genes \n",
    "    #realdata2.append(nb.get_genetrack(k, data[0],asd)[:600])  # \n",
    "    names, genes = nb.get_genetrack_multigene(k,data[0],asd, drawindex=(0,600))\n",
    "    realdata2+=genes\n",
    "    mystuff = pandas.DataFrame(realdata2,index=types+[\"plfold\"]+names)\n",
    "    draw(mystuff, piclength=12)\n",
    "\n",
    "    \n",
    "realdata = [data[i][k][0][:600] for i in range(3)]\n",
    "realdata.append(plfoldrap(k))\n",
    "    \n",
    "blub(realdata)\n"
   ]
  },
  {
   "cell_type": "markdown",
   "metadata": {},
   "source": [
    "# Fig 3d"
   ]
  },
  {
   "cell_type": "code",
   "execution_count": null,
   "metadata": {},
   "outputs": [],
   "source": [
    "keys = data[0].keys()\n",
    "keys_train = keys[:5]\n",
    "keys_predict = keys[-5:]\n",
    "\n",
    "models =[ss.make_xgbreg()  for dat in data]\n",
    "models = [ ss.make_model(dat,keys_train, model=mod)for dat,mod in zip(data,models) ]\n",
    "\n",
    "\n",
    "predictions = [[ss.predict(mod, data[0][k][1][:150]) for k in keys_predict] for mod in models]\n",
    "\n"
   ]
  },
  {
   "cell_type": "code",
   "execution_count": null,
   "metadata": {},
   "outputs": [],
   "source": [
    "res = [np.array(p).mean(axis=0) for p in predictions]\n",
    "mystuff = pandas.DataFrame([ window(p) for p in res],index=types)\n",
    "\n",
    "draw(mystuff)\n"
   ]
  },
  {
   "cell_type": "markdown",
   "metadata": {},
   "source": [
    "# DO THE SAME FOR GENESTARTSITE +-100"
   ]
  },
  {
   "cell_type": "code",
   "execution_count": null,
   "metadata": {},
   "outputs": [],
   "source": [
    "%%time\n",
    "import data.weeks194_orig.remove_genes as d\n",
    "\n",
    "\n",
    "\n",
    "# get data\n",
    "keys = data[0].keys()\n",
    "print len(keys)\n",
    "keys_train = keys[:100]\n",
    "keys_predict = keys[-25:]\n",
    "\n",
    "\n",
    "\n",
    "\n",
    "# make model\n",
    "models = [ss.make_xgbreg() for e in range(len(data))]\n",
    "models = [ ss.make_model(dat,keys_train, model=mod)for dat,mod in \n",
    "          zip(data,models) ]\n",
    "\n",
    "\n"
   ]
  },
  {
   "cell_type": "code",
   "execution_count": null,
   "metadata": {
    "scrolled": false
   },
   "outputs": [],
   "source": [
    "%%time\n",
    "# PREDICTION\n",
    "from rna_tools.rnaplfold import rnaplfold\n",
    "\n",
    "\n",
    "\n",
    "# select gene start \n",
    "genstartdict = d.read_genes()\n",
    "\n",
    "\n",
    "def cut_genestart(k,sequence):\n",
    "    \"\"\"there is a sequence(of anything), we center the startsite of the first gene and add padding\n",
    "    when necessary.\n",
    "    returns cut_sequence, padleft, padright\"\"\"\n",
    "    \"\"\"helper for the 2 functions below\"\"\"\n",
    "    index = int(k.split(\"_\")[-1])\n",
    "    genestart = genstartdict[index][0][0] # [transcript_index gene_index start]\n",
    "    geneend = genstartdict[index][0][1] # [transcript_index gene_index end]\n",
    "    sequence = sequence[:geneend]  # sequence[:geneend]\n",
    "    endpointindex = min(genestart+150, geneend) \n",
    "    pre = sequence[max(genestart-150,0):genestart] # everything before the genestart\n",
    "    post =   sequence[genestart:min(endpointindex, len(sequence))] # after genestart\n",
    "    \n",
    "    if type(sequence) != str:\n",
    "        pre = [e if e != None else np.nan for e in pre ]\n",
    "        post = [e if e != None else np.nan for e in post ]\n",
    "    \n",
    "    answer= pre+post , abs(min(genestart-150,0)), max(genestart+150-len(sequence),0) \n",
    "    # check error\n",
    "    if (len(answer[0])+answer[1]+answer[2])!= 300:\n",
    "        print answer, k,sequence, geneend\n",
    "    # track progress alittle biiit\n",
    "    print \".\",\n",
    "    return answer\n",
    "\n",
    "\n",
    "    \n",
    "# predict\n",
    "def predwrap(k,mod):\n",
    "    \"\"\"predicts for a transcript\"\"\"\n",
    "    seq, padstart, padend = cut_genestart(k,data[0][k][1])\n",
    "    \n",
    "    res = ss.predict(mod, seq )\n",
    "    a=np.full((padstart,), np.nan, dtype=float)\n",
    "    b = np.full((padend,), np.nan, dtype=float)\n",
    "    ret= np.hstack( [a,res, b] )\n",
    "    return ret\n",
    "\n",
    "def plfoldrap(k):\n",
    "    \"\"\"predicts for a transcript\"\"\"\n",
    "    seq, padstart, padend = cut_genestart(k,data[0][k][1])\n",
    "    res = rnaplfold ( seq )\n",
    "    a=np.full((padstart,), np.nan, dtype=float)\n",
    "    b = np.full((padend,), np.nan, dtype=float)\n",
    "    ret= np.hstack( [a,res, b] )\n",
    "    return ret\n",
    "\n",
    "\n",
    "predictions = [[predwrap(k,mod) for k in keys_predict] for mod in models]\n",
    "predictions.append([plfoldrap(k) for k in keys_predict])\n",
    "# we want the mean at nucleodide possition [-150.. 150] over all sequences...\n",
    "res = [np.nanmean(np.array(p),axis=0) for p in predictions]\n",
    "\n",
    "# windowing to smoothe the plot\n",
    "mystuff = pandas.DataFrame([ window(p) for p in res],index=types+[\"plfold\"])\n",
    "\n",
    "draw(mystuff)"
   ]
  },
  {
   "cell_type": "code",
   "execution_count": null,
   "metadata": {},
   "outputs": [],
   "source": []
  },
  {
   "cell_type": "code",
   "execution_count": null,
   "metadata": {},
   "outputs": [],
   "source": [
    "#Original DAta\n",
    "\n",
    "# select gene start \n",
    "genstartdict = d.read_genes()\n",
    "\n",
    "\n",
    "def plfoldrap(k):\n",
    "    seq, padstart, padend = cut_genestart(k,data[0][k][1]) # this is the verison above\n",
    "    res = rnaplfold ( seq )\n",
    "    a=np.full((padstart,), np.nan, dtype=float)\n",
    "    b = np.full((padend,), np.nan, dtype=float)\n",
    "    ret= np.hstack( [a,res, b] )\n",
    "    return ret\n",
    "\n",
    "# predict\n",
    "def predwrap(k, exp):\n",
    "    seq, padstart, padend = cut_genestart(k,data[exp][k][0])\n",
    "    res =  np.array(seq) \n",
    "    a=np.full((padstart,), np.nan, dtype=float)\n",
    "    b = np.full((padend,), np.nan, dtype=float)\n",
    "    ret= np.hstack( [a,res, b] )\n",
    "    return ret\n",
    "\n",
    "predictions = [[predwrap(k,mod) for k in keys_predict] for mod in range(3)]\n",
    "predictions.append([plfoldrap(k) for k in keys_predict])\n",
    "# we want the mean at nucleodide possition [-150.. 150] over all sequences...\n",
    "#res = [np.array(p).mean(axis=0) for p in predictions]\n",
    "\n",
    "res = [np.nanmean(np.array(p),axis=0) for p in predictions]\n",
    "\n",
    "\n",
    "# windowing to smoothe the plot\n",
    "mystuff = pandas.DataFrame([ window(p) for p in res],index=types+[\"plfold\"])\n",
    "draw(mystuff)"
   ]
  },
  {
   "cell_type": "code",
   "execution_count": null,
   "metadata": {},
   "outputs": [],
   "source": []
  },
  {
   "cell_type": "code",
   "execution_count": null,
   "metadata": {},
   "outputs": [],
   "source": []
  }
 ],
 "metadata": {
  "kernelspec": {
   "display_name": "Python 2",
   "language": "python",
   "name": "python2"
  },
  "language_info": {
   "codemirror_mode": {
    "name": "ipython",
    "version": 2
   },
   "file_extension": ".py",
   "mimetype": "text/x-python",
   "name": "python",
   "nbconvert_exporter": "python",
   "pygments_lexer": "ipython2",
   "version": "2.7.15rc1"
  },
  "name": "06_50seq_accessibility.ipynb"
 },
 "nbformat": 4,
 "nbformat_minor": 2
}
