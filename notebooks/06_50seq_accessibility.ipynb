{
 "cells": [
  {
   "cell_type": "markdown",
   "metadata": {
    "ein.tags": "worksheet-0",
    "slideshow": {
     "slide_type": "-"
    }
   },
   "source": [
    "# there is the SHAPE dataset of 50 sequences, under 4 conditions... \n",
    "\n",
    "we want to see of our accessibility is good"
   ]
  },
  {
   "cell_type": "code",
   "execution_count": null,
   "metadata": {
    "attributes": {
     "classes": null,
     "id": "",
     "n": "1"
    },
    "autoscroll": false,
    "ein.hycell": false,
    "ein.tags": "worksheet-0",
    "slideshow": {
     "slide_type": "-"
    }
   },
   "outputs": [],
   "source": [
    "%load_ext autoreload\n",
    "%autoreload 2\n",
    "%matplotlib inline\n",
    "from eden.util import configure_logging\n",
    "import logging\n",
    "configure_logging(logging.getLogger(),verbosity=3)\n",
    "import sys\n",
    "sys.path.insert(0,'..')\n",
    "from IPython.core.display import HTML\n",
    "HTML('<style>.container { width:95% !important; }</style><style>.output_png {display: table-cell;text-align: center;vertical-align: middle;}</style>')\n",
    "\n",
    "import matplotlib.pyplot as plt\n",
    "import simushape as ss \n",
    "from scipy.stats import spearmanr as spear\n",
    "import pandas\n",
    "import numpy as np\n"
   ]
  },
  {
   "cell_type": "markdown",
   "metadata": {
    "ein.tags": "worksheet-0",
    "slideshow": {
     "slide_type": "-"
    }
   },
   "source": [
    "# Load data"
   ]
  },
  {
   "cell_type": "code",
   "execution_count": null,
   "metadata": {
    "autoscroll": false,
    "ein.hycell": false,
    "ein.tags": "worksheet-0",
    "scrolled": true,
    "slideshow": {
     "slide_type": "-"
    }
   },
   "outputs": [],
   "source": [
    "import rna_tools.rna_io as rio\n",
    "import pandas\n",
    "\n",
    "types = [\"cellfree\",\n",
    "\"incell\",\n",
    "\"kasugamycin\"]\n",
    "\n",
    "def getdata(typ):\n",
    "    return rio.get_all_data(\"../data/weeks194_orig/%s.react\" % typ,\"../data/weeks194_orig/%s.dbn\" % typ)  # {key: rea, seq, stru}\n",
    "\n",
    "data = [getdata(t) for t in types] # 2 has bad results :)\n",
    "\n",
    "\n"
   ]
  },
  {
   "cell_type": "markdown",
   "metadata": {
    "ein.tags": "worksheet-0",
    "slideshow": {
     "slide_type": "-"
    }
   },
   "source": [
    "# FIG 2   -- \"weeks 50\" paper"
   ]
  },
  {
   "cell_type": "code",
   "execution_count": null,
   "metadata": {
    "autoscroll": false,
    "ein.hycell": false,
    "ein.tags": "worksheet-0",
    "slideshow": {
     "slide_type": "-"
    }
   },
   "outputs": [],
   "source": [
    "# GRAPH FROM PAPER \n",
    "def window(stuff):\n",
    "    return [ np.median(np.array( [z for z in stuff[i:i+51] if z != None] )) for i in range(0, len(stuff)-51)  ]\n",
    "papr = pandas.DataFrame( [ window(data[a][\"rpsP_rimM_trmD_rplS_96\"][0][:500]) for a in range(3)],index=types)\n",
    "#papr.T.plot.line()\n",
    "import seaborn as sns\n",
    "sns.set_context(\"talk\")\n",
    "sns.set(style=\"whitegrid\")\n",
    "g=sns.lineplot(data=papr.T, dashes=False)\n",
    "g.set_xlabel('Transcript')\n",
    "g.set_ylabel('SHAPE reactivity')\n",
    "plt.title(\"Experimental Reavtivity for mRNA#96\")\n",
    "g.set(ylim=(0, 1))\n",
    "#fig = g.get_figure()\n",
    "#fig.savefig(\"output.pdf\")"
   ]
  },
  {
   "cell_type": "markdown",
   "metadata": {
    "ein.tags": "worksheet-0",
    "slideshow": {
     "slide_type": "-"
    }
   },
   "source": [
    "#   "
   ]
  },
  {
   "cell_type": "code",
   "execution_count": null,
   "metadata": {
    "autoscroll": false,
    "ein.hycell": false,
    "ein.tags": "worksheet-0",
    "scrolled": false,
    "slideshow": {
     "slide_type": "-"
    }
   },
   "outputs": [],
   "source": [
    "# SHAKER RECONSTRUCTION   # GRADIENT BOOST OPTIMIZED\n",
    "def window(stuff):\n",
    "    return [ np.median(np.array( [z for z in stuff[i:i+51] if z != None] )) for i in range(0, len(stuff)-50)  ]\n",
    "\n",
    "keys = data[0].keys()\n",
    "keys.remove(\"rpsP_rimM_trmD_rplS_96\")\n",
    "keys = keys[:10]\n",
    "models = [ss.make_model(dat,keys,model=ss.make_xgbreg()) for dat in data ]\n",
    "predictions = [ss.predict(mod, data[0][\"rpsP_rimM_trmD_rplS_96\"][1][:500]) for mod in models]\n",
    "\n",
    "mystuff = pandas.DataFrame( [ window(p) for p in predictions],index=types)\n",
    "mystuff.T.plot.line()"
   ]
  },
  {
   "cell_type": "code",
   "execution_count": null,
   "metadata": {},
   "outputs": [],
   "source": [
    "def nv(dat):\n",
    "    arrays = np.hstack([a for a,b,c in dat.values()])\n",
    "    return np.mean(arrays[arrays!=None])\n",
    "\n",
    "normaliationvalues= map(nv,data)\n",
    "windowed = [ [ep/z for ep in window(p)] for p,z in zip(predictions,normaliationvalues)]\n",
    "mystuff = pandas.DataFrame(windowed,index=types)\n",
    "mystuff.T.plot.line()"
   ]
  },
  {
   "cell_type": "code",
   "execution_count": null,
   "metadata": {
    "autoscroll": false,
    "ein.hycell": false,
    "ein.tags": "worksheet-0",
    "slideshow": {
     "slide_type": "-"
    }
   },
   "outputs": [],
   "source": [
    "# SHAKER RECONSTRUCTION \n",
    "def window(stuff):\n",
    "    return np.array([ np.median(np.array( [z for z in stuff[i:i+51] if z != None] )) for i in range(0, len(stuff)-50)  ])\n",
    "\n",
    "keys = data[0].keys()\n",
    "keys.remove(\"rpsP_rimM_trmD_rplS_96\")\n",
    "keys = keys[:10]\n",
    "models = [ss.make_model(dat,keys,model=ss.make_forestregressor()) for dat in data ]\n",
    "predictions = [ss.predict(mod, data[0][\"rpsP_rimM_trmD_rplS_96\"][1]) for mod in models]\n",
    "mystuff = pandas.DataFrame( [ window(p) for p in predictions],index=types)\n",
    "mystuff.T.plot.line()"
   ]
  },
  {
   "cell_type": "code",
   "execution_count": null,
   "metadata": {},
   "outputs": [],
   "source": [
    "# RANDOM FOREST OPTIMIZED\n",
    "#predictions = [ss.predict(mod, data[0][\"rpsP_rimM_trmD_rplS_96\"][1])[:500] for mod in models] \n",
    "\n",
    "def nv(dat):\n",
    "    arrays = np.hstack([a for a,b,c in dat.values()])\n",
    "    return np.mean(arrays[arrays!=None])\n",
    "normaliationvalues= map(nv,data)\n",
    "windowed = [ window(p)/z for p,z in zip(predictions,normaliationvalues)]\n",
    "mystuff = pandas.DataFrame(windowed,index=types)\n",
    "mystuff.T.plot.line()"
   ]
  },
  {
   "cell_type": "markdown",
   "metadata": {},
   "source": [
    "# FIG 6   -- \"weeks 50\" paper"
   ]
  },
  {
   "cell_type": "code",
   "execution_count": null,
   "metadata": {},
   "outputs": [],
   "source": [
    "\n",
    "\n",
    "# SHAKER RECONSTRUCTION   # GRADIENT BOOST OPTIMIZED\n",
    "def window(stuff):\n",
    "    return [ np.median(np.array( [z for z in stuff[i:i+51] if z != None] )) for i in range(0, len(stuff)-50)  ]\n",
    "\n",
    "keys = data[0].keys()\n",
    "keys.remove(\"rpmB_rpmG_147\")\n",
    "keys = keys[:10]\n",
    "models = [ss.make_model(dat,keys,model=ss.make_xgbreg()) for dat in data ]\n",
    "predictions = [ss.predict(mod, data[0][\"rpmB_rpmG_147\"][1]) for mod in models]\n",
    "\n",
    "# predictions \n",
    "mystuff = pandas.DataFrame( [ window(p) for p in predictions],index=types)\n",
    "mystuff.T.plot.line()\n",
    "\n"
   ]
  },
  {
   "cell_type": "code",
   "execution_count": null,
   "metadata": {},
   "outputs": [],
   "source": [
    "from rna_tools import rnaplfold\n",
    "# accessibility based on predictions \n",
    "acc =  [ rnaplfold.rnaplfold(data[0][\"rpmB_rpmG_147\"][1], p) for p in predictions]  \n",
    "mystuff = pandas.DataFrame(acc,index=types)\n",
    "mystuff.T.plot.line()\n",
    "\n",
    "# accessibility windowed\n",
    "mystuff = pandas.DataFrame(map(window,acc),index=types)\n",
    "mystuff.T.plot.line()\n",
    "\n",
    "\n",
    "\n",
    "# ACCESS OROGINAL \n",
    "papr = pandas.DataFrame( [ window(   rnaplfold.rnaplfold(data[a][\"rpmB_rpmG_147\"][1],data[a][\"rpmB_rpmG_147\"][0])  ) for a in range(3)],index=types)\n",
    "papr.T.plot.line()"
   ]
  },
  {
   "cell_type": "markdown",
   "metadata": {},
   "source": [
    "---"
   ]
  },
  {
   "cell_type": "code",
   "execution_count": null,
   "metadata": {},
   "outputs": [],
   "source": [
    "(papr - mystuff).T.plot.line()"
   ]
  },
  {
   "cell_type": "markdown",
   "metadata": {},
   "source": [
    "# FIG 2B"
   ]
  },
  {
   "cell_type": "code",
   "execution_count": null,
   "metadata": {},
   "outputs": [],
   "source": [
    "%%time\n",
    "import data.weeks194_orig.remove_genes as d\n",
    "\n",
    "\n",
    "# get data\n",
    "keys = data[0].keys()\n",
    "\n",
    "keys_predict = [\"rpsP_rimM_trmD_rplS_96\",\"dusB_fis_130\"]\n",
    "\n",
    "keys_train = [k for k in  keys if k not in keys_predict]\n",
    "\n",
    "\n",
    "# make model\n",
    "models =[ss.make_xgbreg()  for dat in data]\n",
    "models = [ ss.make_model(dat,keys_train, model=mod)for dat,mod in zip(data,models) ]\n",
    "\n",
    "\n",
    "\n"
   ]
  },
  {
   "cell_type": "code",
   "execution_count": null,
   "metadata": {},
   "outputs": [],
   "source": [
    "%%time\n",
    "# PREDICTION\n",
    "from rna_tools.rnaplfold import rnaplfold\n",
    "\n",
    "import notebook_helper as nb\n",
    "asd=nb.getgenedict()\n",
    "\n",
    "def window(stuff):\n",
    "    return [ np.median(np.array( [z for z in stuff[i:i+51] if z != None] )) for i in range(0, len(stuff)-51)  ]\n",
    "\n",
    "\n",
    "\n",
    "# predict\n",
    "def predwrap(k,mod):\n",
    "    seq = data[0][k][1]\n",
    "    res = ss.predict(mod, seq[:600] )\n",
    "    return res\n",
    "\n",
    "def plfoldrap(k):\n",
    "    seq = data[0][k][1]\n",
    "    res = rnaplfold(seq[:600])\n",
    "    return res\n",
    "\n",
    "\n",
    "k = keys_predict[0]\n",
    "predictions = [predwrap(k,mod)  for mod in models]\n",
    "predictions.append(plfoldrap(k))\n",
    "\n",
    "\n"
   ]
  },
  {
   "cell_type": "code",
   "execution_count": null,
   "metadata": {},
   "outputs": [],
   "source": [
    "realdata = [data[i][k][0][:600] for i in range(3)]\n",
    "realdata.append(plfoldrap(k))"
   ]
  },
  {
   "cell_type": "code",
   "execution_count": null,
   "metadata": {},
   "outputs": [],
   "source": [
    "import copy\n",
    "realdata2 = copy.deepcopy(realdata)\n",
    "realdata2 = [window(p) for p in realdata2]\n",
    "\n",
    "realdata2 = [np.hstack([[np.nan]*25,p]) for p in realdata2]\n",
    "\n",
    "realdata2.append(nb.get_genetrack(k, data[0],asd)[:600])\n",
    "\n",
    "mystuff = pandas.DataFrame(realdata2,index=types+[\"plfold\",\"gene\"])\n",
    "mystuff.T.plot.line(figsize=(12,4))"
   ]
  },
  {
   "cell_type": "code",
   "execution_count": null,
   "metadata": {},
   "outputs": [],
   "source": [
    "import copy\n",
    "predictions2 = copy.deepcopy(predictions)\n",
    "predictions2 = [window(p) for p in predictions2]\n",
    "\n",
    "predictions2 = [np.hstack([[np.nan]*25,p]) for p in predictions2]\n",
    "\n",
    "predictions2.append(nb.get_genetrack(k, data[0],asd)[:600])\n",
    "\n",
    "mystuff = pandas.DataFrame(predictions2,index=types+[\"plfold\",\"gene\"])\n",
    "mystuff.T.plot.line(figsize=(12,4))"
   ]
  },
  {
   "cell_type": "markdown",
   "metadata": {},
   "source": [
    "# Fig 3d"
   ]
  },
  {
   "cell_type": "code",
   "execution_count": null,
   "metadata": {},
   "outputs": [],
   "source": [
    "keys = data[0].keys()\n",
    "keys_train = keys[:10]\n",
    "keys_predict = keys[-25:]\n",
    "models = [ss.make_model(dat,keys,model=ss.make_xgbreg()) for dat in data ]\n",
    "\n",
    "\n",
    "predictions = [[ss.predict(mod, data[0][k][1][:150]) for k in keys_predict] for mod in models]\n",
    "\n",
    "\n",
    "# predictions \n",
    "#mystuff = pandas.DataFrame( [ window(p) for p in predictions],index=types)\n",
    "#mystuff.T.plot.line()\n"
   ]
  },
  {
   "cell_type": "code",
   "execution_count": null,
   "metadata": {},
   "outputs": [],
   "source": [
    "res = [np.array(p).mean(axis=0) for p in predictions]\n",
    "\n",
    "mystuff = pandas.DataFrame([ window(p) for p in res],index=types)\n",
    "mystuff.T.plot.line()"
   ]
  },
  {
   "cell_type": "markdown",
   "metadata": {},
   "source": [
    "# DO THE SAME FOR GENESTARTSITE +-100"
   ]
  },
  {
   "cell_type": "code",
   "execution_count": null,
   "metadata": {},
   "outputs": [],
   "source": [
    "%%time\n",
    "import data.weeks194_orig.remove_genes as d\n",
    "\n",
    "\n",
    "\n",
    "# get data\n",
    "keys = data[0].keys()\n",
    "keys_train = keys[:20]\n",
    "keys_predict = keys[-25:]\n",
    "\n",
    "\n",
    "#class sklearn.linear_model.LogisticRegression(penalty=’l2’, dual=False, tol=0.0001, C=1.0, fit_intercept=True, intercept_scaling=1, class_weight=None, random_state=None, solver=’warn’, max_iter=100, multi_class=’warn’, verbose=0, warm_start=False, n_jobs=None)[source]¶\n",
    "#sklearn.linear_model.LinearRegression(fit_intercept=True, normalize=False, copy_X=True, n_jobs=None)[source]\n",
    "\n",
    "\n",
    "import sklearn.linear_model as lim\n",
    "\n",
    "# make model\n",
    "models = [ ss.make_model(dat,keys_train, model=ss.make_forestregressor())for dat in data ]\n",
    "\n",
    "\n",
    "# test again with n_estimators = 20\n",
    "\n"
   ]
  },
  {
   "cell_type": "code",
   "execution_count": null,
   "metadata": {
    "scrolled": false
   },
   "outputs": [],
   "source": [
    "%%time\n",
    "# PREDICTION\n",
    "from rna_tools.rnaplfold import rnaplfold\n",
    "\n",
    "def window(stuff):\n",
    "    return [ np.median(np.array( [z for z in stuff[i:i+51] if z != None] )) for i in range(0, len(stuff)-50)  ]\n",
    "\n",
    "keys_predict = keys[-25:]\n",
    "#keys_predict = keys[-2:]\n",
    "\n",
    "# select gene start \n",
    "genstartdict = d.read_genes()\n",
    "def get_genestart_region(k,data):\n",
    "    index = int(k.split(\"_\")[-1])\n",
    "    genestart = genstartdict[index][0][0]\n",
    "    geneend = genstartdict[index][0][1]\n",
    "    \n",
    "    sequence = data[0][k][1][:geneend]\n",
    "    endpointindex = min(genestart+150, geneend)\n",
    "    \n",
    "    pre = sequence[max(genestart-150,0):genestart]\n",
    "    post =   sequence[genestart:min(endpointindex, len(sequence))]\n",
    "    answer= pre+post , abs(min(genestart-150,0)), max(genestart+150-len(sequence),0) \n",
    "    if (len(answer[0])+answer[1]+answer[2])!= 300:\n",
    "        print answer, k,sequence, geneend\n",
    "    print \".\",\n",
    "    return answer\n",
    "    \n",
    "# predict\n",
    "def predwrap(k,mod):\n",
    "    seq, padstart, padend = get_genestart_region(k,data)\n",
    "    res = ss.predict(mod, seq )\n",
    "    a=np.full((padstart,), np.nan, dtype=float)\n",
    "    b = np.full((padend,), np.nan, dtype=float)\n",
    "    ret= np.hstack( [a,res, b] )\n",
    "    return ret\n",
    "\n",
    "def plfoldrap(k):\n",
    "    seq, padstart, padend = get_genestart_region(k,data)\n",
    "    res = rnaplfold ( seq )\n",
    "    a=np.full((padstart,), np.nan, dtype=float)\n",
    "    b = np.full((padend,), np.nan, dtype=float)\n",
    "    ret= np.hstack( [a,res, b] )\n",
    "    return ret\n",
    "\n",
    "predictions = [[predwrap(k,mod) for k in keys_predict] for mod in models]\n",
    "predictions.append([plfoldrap(k) for k in keys_predict])\n",
    "# we want the mean at nucleodide possition [-150.. 150] over all sequences...\n",
    "res = [np.nanmean(np.array(p),axis=0) for p in predictions]\n",
    "\n",
    "# windowing to smoothe the plot\n",
    "mystuff = pandas.DataFrame([ window(p) for p in res],index=types+[\"plfold\"])\n",
    "mystuff.T.plot.line(ylim=(0, 1.2))\n"
   ]
  },
  {
   "cell_type": "code",
   "execution_count": null,
   "metadata": {},
   "outputs": [],
   "source": [
    "#Original DAta\n",
    "def window(stuff):\n",
    "    return [ np.median(np.array( [z for z in stuff[i:i+51] if z != None] )) for i in range(0, len(stuff)-50)  ]\n",
    "\n",
    "\n",
    "# select gene start \n",
    "genstartdict = d.read_genes()\n",
    "def get_genestart_region2(k,data,exp_type):\n",
    "    index = int(k.split(\"_\")[-1])\n",
    "    genestart = genstartdict[index][0][0]\n",
    "    geneend = genstartdict[index][0][1]\n",
    "    \n",
    "    sequence = data[exp_type][k][0][:geneend]\n",
    "    endpointindex = min(genestart+150, geneend)\n",
    "    \n",
    "    pre = sequence[max(genestart-150,0):genestart]\n",
    "    post =   sequence[genestart:min(endpointindex, len(sequence))]\n",
    "    \n",
    "    pre = [e if e != None else np.nan for e in pre ]\n",
    "    post = [e if e != None else np.nan for e in post ]\n",
    "    \n",
    "    answer= pre+post , abs(min(genestart-150,0)), max(genestart+150-len(sequence),0) \n",
    "    if (len(answer[0])+answer[1]+answer[2])!= 300:\n",
    "        print answer, k,sequence, geneend\n",
    "    print \".\",\n",
    "    return answer\n",
    "\n",
    "def plfoldrap(k):\n",
    "    seq, padstart, padend = get_genestart_region(k,data) # this is the verison above\n",
    "    res = rnaplfold ( seq )\n",
    "    a=np.full((padstart,), np.nan, dtype=float)\n",
    "    b = np.full((padend,), np.nan, dtype=float)\n",
    "    ret= np.hstack( [a,res, b] )\n",
    "    return ret\n",
    "\n",
    "# predict\n",
    "def predwrap(k, exp):\n",
    "    seq, padstart, padend = get_genestart_region2(k,data,exp)\n",
    "    res =  seq \n",
    "    a=np.full((padstart,), np.nan, dtype=float)\n",
    "    b = np.full((padend,), np.nan, dtype=float)\n",
    "    ret= np.hstack( [a,res, b] )\n",
    "    return ret\n",
    "\n",
    "predictions = [[predwrap(k,mod) for k in keys_predict] for mod in range(3)]\n",
    "predictions.append([plfoldrap(k) for k in keys_predict])\n",
    "# we want the mean at nucleodide possition [-150.. 150] over all sequences...\n",
    "#res = [np.array(p).mean(axis=0) for p in predictions]\n",
    "\n",
    "res = [np.nanmean(np.array(p),axis=0) for p in predictions]\n",
    "\n",
    "\n",
    "# windowing to smoothe the plot\n",
    "mystuff = pandas.DataFrame([ window(p) for p in res],index=types+[\"plfold\"])\n",
    "mystuff.T.plot.line(ylim=(0, 1.2))"
   ]
  },
  {
   "cell_type": "code",
   "execution_count": null,
   "metadata": {},
   "outputs": [],
   "source": []
  },
  {
   "cell_type": "code",
   "execution_count": null,
   "metadata": {},
   "outputs": [],
   "source": []
  }
 ],
 "metadata": {
  "kernelspec": {
   "display_name": "Python 2",
   "language": "python",
   "name": "python2"
  },
  "language_info": {
   "codemirror_mode": {
    "name": "ipython",
    "version": 2
   },
   "file_extension": ".py",
   "mimetype": "text/x-python",
   "name": "python",
   "nbconvert_exporter": "python",
   "pygments_lexer": "ipython2",
   "version": "2.7.15rc1"
  },
  "name": "06_50seq_accessibility.ipynb"
 },
 "nbformat": 4,
 "nbformat_minor": 2
}
