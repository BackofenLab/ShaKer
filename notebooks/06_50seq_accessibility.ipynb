{
 "cells": [
  {
   "cell_type": "markdown",
   "metadata": {
    "ein.tags": "worksheet-0",
    "slideshow": {
     "slide_type": "-"
    }
   },
   "source": [
    "# there is the SHAPE dataset of 50 sequences, under 4 conditions... \n",
    "\n",
    "we want to see of our accessibility is good"
   ]
  },
  {
   "cell_type": "code",
   "execution_count": 4,
   "metadata": {
    "attributes": {
     "classes": null,
     "id": "",
     "n": "1"
    },
    "autoscroll": false,
    "ein.hycell": false,
    "ein.tags": "worksheet-0",
    "slideshow": {
     "slide_type": "-"
    }
   },
   "outputs": [
    {
     "name": "stdout",
     "output_type": "stream",
     "text": [
      "The autoreload extension is already loaded. To reload it, use:\n",
      "  %reload_ext autoreload\n",
      "backend module://ipykernel.pylab.backend_inline version unknown\n"
     ]
    }
   ],
   "source": [
    "%load_ext autoreload\n",
    "%autoreload 2\n",
    "%matplotlib inline\n",
    "from eden.util import configure_logging\n",
    "import logging\n",
    "configure_logging(logging.getLogger(),verbosity=3)\n",
    "\n",
    "\n",
    "import matplotlib.pyplot as plt\n",
    "import ShaKer.simushape as ss \n",
    "from scipy.stats import spearmanr as spear\n",
    "import pandas\n",
    "import numpy as np\n",
    "from ShaKer.rna_tools.rnaplfold import rnaplfold\n",
    "import notebook_helper as nb\n",
    "asd=nb.getgenedict()\n"
   ]
  },
  {
   "cell_type": "code",
   "execution_count": 5,
   "metadata": {},
   "outputs": [
    {
     "data": {
      "text/html": [
       "<style>.container { width:95% !important; }</style><style>.output_png {display: table-cell;text-align: center;vertical-align: middle;}</style>"
      ],
      "text/plain": [
       "<IPython.core.display.HTML object>"
      ]
     },
     "execution_count": 5,
     "metadata": {},
     "output_type": "execute_result"
    }
   ],
   "source": [
    "from IPython.core.display import HTML\n",
    "HTML('<style>.container { width:95% !important; }</style><style>.output_png {display: table-cell;text-align: center;vertical-align: middle;}</style>')\n"
   ]
  },
  {
   "cell_type": "markdown",
   "metadata": {
    "ein.tags": "worksheet-0",
    "slideshow": {
     "slide_type": "-"
    }
   },
   "source": [
    "# Load data"
   ]
  },
  {
   "cell_type": "code",
   "execution_count": 2,
   "metadata": {
    "autoscroll": false,
    "ein.hycell": false,
    "ein.tags": "worksheet-0",
    "scrolled": true,
    "slideshow": {
     "slide_type": "-"
    }
   },
   "outputs": [],
   "source": [
    "import ShaKer.rna_tools.rna_io as rio\n",
    "import pandas\n",
    "\n",
    "types = [\"cellfree\",\n",
    "\"incell\",\n",
    "\"kasugamycin\"]\n",
    "\n",
    "def getdata(typ):\n",
    "    return rio.get_all_data(\"../data/weeks194_orig/%s.react\" % typ,\"../data/weeks194_orig/%s.dbn\" % typ)  # {key: rea, seq, stru}\n",
    "\n",
    "data = [getdata(t) for t in types] # 2 has bad results :)\n",
    "\n",
    "\n",
    "import seaborn as sns\n",
    "def draw(data,ylabel=\"SHAPE reactivity\",piclength=6, title=\"Experimental Reavtivity for mRNA#96\",ylim=(0, 1),legend='full'):\n",
    "    fig, ax = plt.subplots()\n",
    "    # the size of A4 paper\n",
    "    fig.set_size_inches(piclength,4)\n",
    "    \n",
    "    sns.set(style=\"whitegrid\")\n",
    "    g=sns.lineplot(data=data.T, dashes=False,legend=legend)\n",
    "    g.set_xlabel('Transcript')\n",
    "    g.set_ylabel(ylabel)\n",
    "    plt.title(title)\n",
    "    g.set(ylim=ylim)\n",
    "    #fig = g.get_figure()\n",
    "    #fig.savefig(\"output.pdf\")\n",
    "    return data, g\n",
    " \n",
    "    \n",
    "def window(stuff,wdsize=50):\n",
    "    shift = wdsize/2\n",
    "    windowed = [ np.median(np.array( [z for z in stuff[i:i+wdsize] if z != None] )) for i in range(0, len(stuff)-wdsize)  ]\n",
    "    return np.hstack([[np.nan]*shift,windowed])  # add padding"
   ]
  },
  {
   "cell_type": "markdown",
   "metadata": {
    "ein.tags": "worksheet-0",
    "slideshow": {
     "slide_type": "-"
    }
   },
   "source": [
    "# FIG 2 B"
   ]
  },
  {
   "cell_type": "code",
   "execution_count": null,
   "metadata": {
    "autoscroll": false,
    "ein.hycell": false,
    "ein.tags": "worksheet-0",
    "scrolled": false,
    "slideshow": {
     "slide_type": "-"
    }
   },
   "outputs": [],
   "source": [
    "# we will wrap the result in plfold .. \n",
    "def plf(seq,reactivity=None):\n",
    "    return rnaplfold(seq,reactivity)\n",
    "    \n",
    "def makedf(predictions,seq,script):\n",
    "    names, genes = nb.get_genetrack_multigene(script,data[0],asd, drawindex=(0,len(seq)))\n",
    "    return pandas.DataFrame( [ window(plf(seq,p)) for p in predictions]+[window(plf(seq))]+genes,\n",
    "                            index=types+[\"Thermodynamics\"]+names)\n",
    "        \n",
    "    \n",
    "def makeplot(shapedata,seq,script, title = \"title\"):\n",
    "    d,g = draw(makedf(shapedata,seq,script),title=title,ylabel=\"Accessibility\",piclength=12,legend=False)\n",
    "    plt.legend(labels=d.index,\n",
    "               loc=2,\n",
    "               ncol=6, \n",
    "               borderaxespad=.5)\n",
    "\n",
    "    "
   ]
  },
  {
   "cell_type": "code",
   "execution_count": null,
   "metadata": {},
   "outputs": [],
   "source": [
    "# define problem\n",
    "keys = data[0].keys()\n",
    "keys_predict = [\"rpsP_rimM_trmD_rplS_96\",\"dusB_fis_130\"]\n",
    "keys_train = [k for k in  keys if k not in keys_predict][:10]\n",
    "# make models\n",
    "model_xgb=[ss.make_xgbreg() for i in range(len(data))]\n",
    "models = [ss.make_model(dat,keys_train,model=mod) for dat,mod in zip(data,model_xgb) ]\n",
    "\n",
    "\n",
    "for k in keys_predict:\n",
    "    \n",
    "    sequence = data[0][k][1]\n",
    "    predictions = [ss.predict(mod, sequence) for mod in models]\n",
    "    papr_data = [data[a][k][0] for a in range(3)]\n",
    "    idd= k.split(\"_\")[-1]\n",
    "    makeplot(papr_data,sequence,k, \"mRNA#%s Experimental Data\" % idd)\n",
    "    makeplot(predictions,sequence,k,\"mRNA#%s Shaker Prediction\" % idd)\n"
   ]
  },
  {
   "cell_type": "code",
   "execution_count": null,
   "metadata": {},
   "outputs": [],
   "source": [
    "\n"
   ]
  },
  {
   "cell_type": "code",
   "execution_count": null,
   "metadata": {
    "scrolled": true
   },
   "outputs": [],
   "source": [
    "# ok \n",
    "#gene/ avg_value_real, avg value pred, VA methods\n",
    "def plf(seq,reactivity=None):\n",
    "    return np.array(rnaplfold(seq,reactivity))\n",
    "\n",
    "# for all the sequences:\n",
    "for k in keys_predict:\n",
    "    t_id = int(k.split(\"_\")[-1])\n",
    "    genes = asd[t_id]\n",
    "\n",
    "    sequence = data[0][k][1]\n",
    "\n",
    "    # for all models\n",
    "    predictions = [plf(sequence,ss.predict(mod, sequence)) for mod in models]\n",
    "    #papr_data = [plf(sequence, [a if a!=None else np.nan for a in data[a][k][0]]) for a in range(3)]\n",
    "    papr_data = [plf(sequence,data[a][k][0]) for a in range(3)]\n",
    "    seqq = plf(sequence)\n",
    "    #for pred, pap in zip(predictions,papr_data):\n",
    "\n",
    "\n",
    "    # for all genes: \n",
    "    res=[]\n",
    "    for s,e in genes:\n",
    "        \n",
    "        res.append([np.nanmean(d[s:e]) for d in papr_data]+[np.nanmean(d[s:e]) for d in predictions]+[np.mean(seqq[s:e])])\n",
    "\n",
    "\n",
    "    print pandas.DataFrame(res)\n",
    "\n",
    "        \n",
    "    "
   ]
  },
  {
   "cell_type": "markdown",
   "metadata": {},
   "source": [
    "# FIG 6 -- C, D, E    DIFF PLOT TO MAKE A POINT"
   ]
  },
  {
   "cell_type": "markdown",
   "metadata": {
    "ein.tags": "worksheet-0",
    "slideshow": {
     "slide_type": "-"
    }
   },
   "source": [
    "#   "
   ]
  },
  {
   "cell_type": "code",
   "execution_count": 6,
   "metadata": {},
   "outputs": [],
   "source": [
    "# NEW VERSION WITH COKE AND HOOKERZ\n",
    "\n",
    "# define problem\n",
    "keys = data[0].keys()\n",
    "keys_predict = [\"rplM_rpsI_127\",\"rpsP_rimM_trmD_rplS_96\"]   # WHAT ARE THESE???\n",
    "keys_train = [k for k in  keys if k not in keys_predict][:10]\n",
    "\n",
    "# make models\n",
    "model_xgb=[ss.make_xgbreg() for i in range(len(data))]\n",
    "models = [ss.make_model(dat,keys_train,model=mod) for dat,mod in zip(data,model_xgb) ]\n",
    "\n",
    "\n",
    "\n"
   ]
  },
  {
   "cell_type": "code",
   "execution_count": null,
   "metadata": {
    "scrolled": false
   },
   "outputs": [],
   "source": [
    "# we will wrap the result in plfold .. \n",
    "def plff(seq,reactivity=None):\n",
    "    return rnaplfold(seq,reactivity)\n",
    "    \n",
    "def makedff(prediction,real,seq,script):\n",
    "    # TODO: \n",
    "    #      -pred,real,real-pred, plff \n",
    "    names, genes = nb.get_genetrack_multigene(script,data[0],asd, drawindex=(0,len(seq)))\n",
    "    pre,rea = [ window(plff(seq,p)) for p in [prediction, real]  ]\n",
    "    \n",
    "    #diff = np.absolute(np.array(plff(seq,real))-np.array(plff(seq,prediction))) # div in values\n",
    "    #diff = window(diff,wdsize=10)             \n",
    "    diff = np.absolute(np.array(rea)-np.array(pre))\n",
    "    return pandas.DataFrame([pre,rea,diff] +[window(plff(seq))]+genes,\n",
    "                            index=['prediction','real','difference',\"Thermodynamics\"]+names)\n",
    "\n",
    "def makeplott(pred,real,seq,script, title = \"title\"):\n",
    "    d,g = draw(makedff(pred,real,seq,script),title=title,ylabel=\"Accessibility\",piclength=12,legend=False)\n",
    "    plt.legend(labels=d.index,\n",
    "               loc=2,\n",
    "               ncol=6, \n",
    "               borderaxespad=.5)\n",
    "\n",
    "\n",
    "for k in keys_predict:\n",
    "    sequence = data[0][k][1][:400]\n",
    "    predictions = [ss.predict(mod, sequence) for mod in models]\n",
    "    papr_data = [data[a][k][0][:len(sequence)] for a in range(3)]\n",
    "    idd= k.split(\"_\")[-1]\n",
    "    for typ,pred,real in zip(types,predictions, papr_data):\n",
    "        makeplott(pred,real,sequence,k, \"mRNA#%s %s\" % (idd,typ))\n",
    "        \n",
    "    # train cfree... compare to incell\n",
    "    makeplott(predictions[0],papr_data[1],sequence,k, \"mRNA#%s  cellfree(train)_vs_incell\" % (idd))\n",
    "    makeplott(predictions[0],papr_data[2],sequence,k, \"mRNA#%s  cellfree(train)_vs_gusaga\" % (idd))\n",
    "    \n",
    "    \n",
    "    "
   ]
  },
  {
   "cell_type": "code",
   "execution_count": 13,
   "metadata": {},
   "outputs": [],
   "source": [
    "\n",
    "# degine problem\n",
    "keys = data[0].keys()\n",
    "keys_predict = [\"rplM_rpsI_127\",\"rpmH_rnpA_yidD_yidC_149\",'rpmB_rpmG_147']\n",
    "keys_train = [k for k in  keys if k not in keys_predict][:5]\n",
    "# make models\n",
    "model_xgb=[ss.make_xgbreg() for i in range(len(data))]\n",
    "models = [ss.make_model(dat,keys_train,model=mod) for dat,mod in zip(data,model_xgb) ]\n",
    "\n"
   ]
  },
  {
   "cell_type": "code",
   "execution_count": 21,
   "metadata": {},
   "outputs": [
    {
     "data": {
      "text/plain": [
       "array([False, False, False,  True,  True, False,  True, False, False,\n",
       "       False])"
      ]
     },
     "execution_count": 21,
     "metadata": {},
     "output_type": "execute_result"
    }
   ],
   "source": [
    "np.array(data[1][\"rplM_rpsI_127\"][0][:10])==None\n"
   ]
  },
  {
   "cell_type": "code",
   "execution_count": 14,
   "metadata": {},
   "outputs": [
    {
     "name": "stdout",
     "output_type": "stream",
     "text": [
      "(((((.((((((((((......))))))))))))...((((((..((((((((....)))).))))))))))........(.(((((((((((.............))))).))))))))))........................................(((((...(((((....((.....))...)))))..)))))\n",
      "accu cellfree 0.7674527732075473\n",
      "((((((((((((((((......))))))))))..((.((((((..(.((((((....)))))).).)))))))).....(((((((((((((((..........)).)))).))))))..)))))))))..(((((((((......))))))))).......(((((...(((((....(((...)))...)))))..)))))\n",
      "GUUACAAGAAAGUUUUUUUCCCAAAACUUUUUGUGUGCUGGCAUAGGCUAUUCGAAGGGGUAGGUUUGCCGGACUUUGUCGUGUGAACCUCAACAAUUGAAGACGUUUGGGUGUUCACCAACGUGUAACUAUUUAUUGGGUAAGCUUUUAAUGAAAACUUUUACAGCUAAACCAGAAACCGUAAAACGCGACUGGUAUGUUGU\n",
      "accu incell 0.7801740109433963\n",
      "((((((((((((((((......))))))))))..((.((((((..(.((((((....)))))).).)))))))).....(((((((((((((((..........)).)))).))))))..)))))))))..(((((((((......))))))))).......(((((...(((((....(((...)))...)))))..)))))\n",
      "GUUACAAGAAAGUUUUUUUCCCAAAACUUUUUGUGUGCUGGCAUAGGCUAUUCGAAGGGGUAGGUUUGCCGGACUUUGUCGUGUGAACCUCAACAAUUGAAGACGUUUGGGUGUUCACCAACGUGUAACUAUUUAUUGGGUAAGCUUUUAAUGAAAACUUUUACAGCUAAACCAGAAACCGUAAAACGCGACUGGUAUGUUGU\n",
      "accu kasugamycin 0.7807462301886792\n",
      "((((((((((((((((......))))))))))..((.((((((..(.((((((....)))))).).)))))))).....(((((((((((((((..........)).)))).))))))..)))))))))..(((((((((......))))))))).......(((((...(((((....(((...)))...)))))..)))))\n",
      "GUUACAAGAAAGUUUUUUUCCCAAAACUUUUUGUGUGCUGGCAUAGGCUAUUCGAAGGGGUAGGUUUGCCGGACUUUGUCGUGUGAACCUCAACAAUUGAAGACGUUUGGGUGUUCACCAACGUGUAACUAUUUAUUGGGUAAGCUUUUAAUGAAAACUUUUACAGCUAAACCAGAAACCGUAAAACGCGACUGGUAUGUUGU\n",
      "accu thermodynamics 0.5419060249056604\n",
      "((((((((((((((((......))))))))))..((.((((((.((.((((((....)))))).))))))))))...((.(.(((((((((((.............))))).))))))).)).))))))..(((((((((......))))))))).......(((((...(((((....(((...)))...)))))..)))))\n",
      "****\n",
      "****\n",
      "((((......(((((.(((((.....))))).)))))..................................(((((.((((.......)))).))))).............(.((((((..(((((((.(((..........))).)))))))......)))))).).........................)))).....................\n",
      "accu cellfree 0.5611791987500001\n",
      ".((((....((((((.(((((.....))))).))))))....))))(((....(((....((..(..((..(((((.((((.......)))).)))))..))..)..))...((((((...(((((((.(((..........))).))))))).......(((..(((((((....)))))))))).......)))))).......)))....))).\n",
      "GGUGUGAGGUCGUACAUUUUCCCUGCGAAAAGGUGCGGAAAAGCGCGGUAAAUAAGGAAAGAGAAUUGACUCCGGAGUGUACAAUUAUUACAAUCCGGCCUCUUUAAUCACCCAUGGCUUCGGUGUCCAUCGUUUCAUUUUUCGGCGGAUAUCCAAUAAAGCCAUUGAAUUUAUUCAAGUUUAGGUAGAAAUCGCCAUGAAACGCACUUUUCAACCG\n",
      "accu incell 0.5873049509999999\n",
      "(((.......(((((.(((((.....))))).)))))((((((.(((........((...((..(..((..(((((.((((.......)))).)))))..))..)..)).))((((((...(((((((.(((..........))).))))))).......(((..(((((((....)))))))))).......))))))...))).)))))).))).\n",
      "GGUGUGAGGUCGUACAUUUUCCCUGCGAAAAGGUGCGGAAAAGCGCGGUAAAUAAGGAAAGAGAAUUGACUCCGGAGUGUACAAUUAUUACAAUCCGGCCUCUUUAAUCACCCAUGGCUUCGGUGUCCAUCGUUUCAUUUUUCGGCGGAUAUCCAAUAAAGCCAUUGAAUUUAUUCAAGUUUAGGUAGAAAUCGCCAUGAAACGCACUUUUCAACCG\n",
      "accu kasugamycin 0.5769490744999999\n",
      ".((((....((((((.(((((.....))))).))))))....))))(((......((...((..(..((..(((((.((((.......)))).)))))..))..)..)).))((((((...(((((((.(((..........))).))))))).......(((..(((((((....)))))))))).......))))))..............))).\n",
      "GGUGUGAGGUCGUACAUUUUCCCUGCGAAAAGGUGCGGAAAAGCGCGGUAAAUAAGGAAAGAGAAUUGACUCCGGAGUGUACAAUUAUUACAAUCCGGCCUCUUUAAUCACCCAUGGCUUCGGUGUCCAUCGUUUCAUUUUUCGGCGGAUAUCCAAUAAAGCCAUUGAAUUUAUUCAAGUUUAGGUAGAAAUCGCCAUGAAACGCACUUUUCAACCG\n",
      "accu thermodynamics 0.538124735\n",
      "(((.......(((((.(((((.....))))).)))))((((((.(((..........((((((........(((((.((((.......)))).))))).)))))).......((((((...(((((((.(((..........))).))))))).......(((..(((((((....)))))))))).......))))))...))).)))))).))).\n",
      "****\n",
      "****\n",
      "(((((((((.....(((((((..((((..(((((.....))))).))))..))))))).....((((....))))))))).)))).......((((((................(((.(.......).))))))).))((((......)))).\n",
      "accu cellfree 0.8393052806976746\n",
      "(((((((((.....(((((((..((((..(((((.....))))).))))..))))))).....((((....))))))))).)))).......(((....))).....(((((..(((.(.......).))).)))))(((((......)))))\n",
      "GGGUUUGGCAUUUGGGCCUGGCAAUCGAGAGUUCACAUAGAACUGCGAUGACCGGGCUGUAAAGCCUGACGAGGCGCCAAUACCCCAUACGAAGCUCGAGCUAAUUUGAUUUUUGGAGAAUAGACAUGUCCCGAGUCUGCCAAGUUACUGGCA\n",
      "accu incell 0.7886232755813956\n",
      "(((((((((.....(((((((..((((..(((((.....))))).))))..))))))).....((((....))))))))).)))).......(((....)))...................((((.........))))((((......)))).\n",
      "GGGUUUGGCAUUUGGGCCUGGCAAUCGAGAGUUCACAUAGAACUGCGAUGACCGGGCUGUAAAGCCUGACGAGGCGCCAAUACCCCAUACGAAGCUCGAGCUAAUUUGAUUUUUGGAGAAUAGACAUGUCCCGAGUCUGCCAAGUUACUGGCA\n",
      "accu kasugamycin 0.8243298960465119\n",
      "(((((((((.....(((((((..((((..(((((.....))))).))))..))))))).....((((....))))))))).)))).......(((....))).....(((((..(((.(.......).))).)))))(((((......)))))\n",
      "GGGUUUGGCAUUUGGGCCUGGCAAUCGAGAGUUCACAUAGAACUGCGAUGACCGGGCUGUAAAGCCUGACGAGGCGCCAAUACCCCAUACGAAGCUCGAGCUAAUUUGAUUUUUGGAGAAUAGACAUGUCCCGAGUCUGCCAAGUUACUGGCA\n",
      "accu thermodynamics 0.7771446127906978\n",
      "(((((((((.....(((((((..((((..(((((.....))))).))))..))))))).....((((....))))))))).))))....(((((.((((......)))).)))))......((((.((...)).))))((((......)))).\n",
      "****\n",
      "****\n"
     ]
    }
   ],
   "source": [
    "# FIG 6 STRUCT, BUT ONLY FOLD SUBSEQUENCE ... TO AVOID INSTALLING SUPERFOLD\n",
    "from ShaKer.rna_tools.rnafold import fold\n",
    "from ShaKer.rna_tools.rna_accuracy import get_structure_accuracy\n",
    "\n",
    "def stripstruct(struct, start,end):\n",
    "    stack=[]\n",
    "    refstr= ['.']*len(struct)\n",
    "    for now,cha in enumerate(struct):\n",
    "            if cha == '(':\n",
    "                stack.append(now)\n",
    "            if cha == ')':\n",
    "                st = stack.pop()\n",
    "                if now < end and st > start:\n",
    "                    refstr[now]=')'\n",
    "                    refstr[st]='('\n",
    "\n",
    "    return ''.join(refstr)\n",
    "\n",
    "\n",
    "# for all the sequences in fig 6 c-e \n",
    "for k,(start,end) in zip(keys_predict,[(6,209),(25,242),(196,349)]):\n",
    "\n",
    "    sequence = data[0][k][1]\n",
    "    \n",
    "    # get \"real\" struct\n",
    "    incellreact = data[1][k][0]\n",
    "    struct = fold(sequence[start:end], incellreact[start:end])\n",
    "    print struct\n",
    "    \n",
    "    # get \"pred\" structures\n",
    "    predict_reas = [ss.predict(mod, sequence) for mod in models]\n",
    "\n",
    "    for typ,predict_rea in zip(types,predict_reas):\n",
    "        print \"accu %s\" % typ ,get_structure_accuracy(sequence[start:end],struct,react=predict_rea[start:end])\n",
    "        print fold(sequence[start:end],predict_rea[start:end])\n",
    "        print sequence[start:end]\n",
    "\n",
    "    print \"accu thermodynamics\" ,get_structure_accuracy(sequence[start:end],struct,react=None)\n",
    "    print fold(sequence[start:end])\n",
    "    print \"****\"\n",
    "    print \"****\"\n",
    "    "
   ]
  },
  {
   "cell_type": "code",
   "execution_count": null,
   "metadata": {},
   "outputs": [],
   "source": [
    "# Fig 6 trying on the struct stuff... \n",
    "\n",
    "# we want -150 +50 , then we fold real and use that for accu cmp, then we use thermo and do accu cmp again\n",
    "from ShaKer.rna_tools.rnafold import fold\n",
    "from ShaKer.rna_tools.rna_accuracy import get_structure_accuracy\n",
    "\n",
    "def stripstruct(struct, start,end):\n",
    "    stack=[]\n",
    "    refstr= ['.']*len(struct)\n",
    "    for now,cha in enumerate(struct):\n",
    "            if cha == '(':\n",
    "                stack.append(now)\n",
    "            if cha == ')':\n",
    "                st = stack.pop()\n",
    "                if now < end and st > start:\n",
    "                    refstr[now]=')'\n",
    "                    refstr[st]='('\n",
    "\n",
    "    return ''.join(refstr)\n",
    "\n",
    "\n",
    "# for all the sequences in fig 6 c-e \n",
    "for k,(start,end) in zip(keys_predict,[(6,209),(25,242),(196,349)]):\n",
    "\n",
    "    sequence = data[0][k][1]\n",
    "    \n",
    "    # get \"real\" struct\n",
    "    incellreact = data[1][k][0]\n",
    "    struct = fold(sequence, incellreact)\n",
    "\n",
    "    refstr = stripstruct(struct, start,end)\n",
    "    print refstr[start:end]\n",
    "    # get \"pred\" structures\n",
    "    predict_reas = [ss.predict(mod, sequence) for mod in models]\n",
    "\n",
    "    for typ,predict_rea in zip(types,predict_reas):\n",
    "        print \"accu %s\" % typ ,get_structure_accuracy(sequence,refstr,react=predict_rea)\n",
    "        print stripstruct(fold(sequence,predict_rea),start,end)[start:end]\n",
    "        print sequence[start:end]\n",
    "\n",
    "    print \"accu thermodynamics\" ,get_structure_accuracy(sequence,refstr,react=None)\n",
    "    print stripstruct(fold(sequence),start,end)[start:end]\n",
    "    print \"****\"\n",
    "    "
   ]
  },
  {
   "cell_type": "code",
   "execution_count": null,
   "metadata": {},
   "outputs": [],
   "source": [
    "# Fig 6 trying on the struct stuff... \n",
    "\n",
    "# we want -150 +50 , then we fold real and use that for accu cmp, then we use thermo and do accu cmp again\n",
    "from ShaKer.rna_tools.rnafold import fold\n",
    "from ShaKer.rna_tools.rna_accuracy import get_structure_accuracy\n",
    "\n",
    "\n",
    "\n",
    "# for all the sequences in fig 6 c-e \n",
    "for k in keys_predict:\n",
    "\n",
    "    # window of interest: \n",
    "    tid = int(k.split(\"_\")[-1])\n",
    "    start_gene1 = asd[tid][0][0]\n",
    "    start= max(start_gene1-150,0)\n",
    "    end = start_gene1+50\n",
    "    sequence = data[0][k][1]\n",
    "\n",
    "    \n",
    "    # get \"real\" struct\n",
    "    incellreact = data[1][k][0]\n",
    "    struct = fold(sequence, incellreact)\n",
    "\n",
    "    # get \"pred\" structures\n",
    "    predict_reas = [ss.predict(mod, sequence) for mod in models]\n",
    "\n",
    "    for typ,predict_rea in zip(types,predict_reas):\n",
    "        stack=[]\n",
    "        refstr= ['.']*len(struct)\n",
    "        for now,cha in enumerate(struct):\n",
    "                if cha == '(':\n",
    "                    stack.append(now)\n",
    "                if cha == ')':\n",
    "                    st = stack.pop()\n",
    "                    if now < end and st > start:\n",
    "                        refstr[now]=')'\n",
    "                        refstr[st]='('\n",
    "\n",
    "        refstr=''.join(refstr)\n",
    "\n",
    "        print \"accu %s\" % typ ,get_structure_accuracy(sequence,refstr,react=predict_rea)\n",
    "\n",
    "    print \"accu thermodynamics\" ,get_structure_accuracy(sequence,refstr,react=None)\n",
    "    print \"****\"\n",
    "    \n"
   ]
  },
  {
   "cell_type": "code",
   "execution_count": null,
   "metadata": {},
   "outputs": [],
   "source": [
    "\n",
    "\n",
    "# degine problem\n",
    "keys = data[0].keys()\n",
    "keys_predict = [\"rplM_rpsI_127\",\"rpmH_rnpA_yidD_yidC_149\",'rpmB_rpmG_147']\n",
    "keys_train = [k for k in  keys if k not in keys_predict][:5]\n",
    "# make models\n",
    "model_xgb=[ss.make_xgbreg() for i in range(len(data))]\n",
    "models = [ss.make_model(dat,keys_train,model=mod) for dat,mod in zip(data,model_xgb) ]\n",
    "\n",
    "\n",
    "for k in keys_predict:\n",
    "    sequence = data[0][k][1][:400]\n",
    "    predictions = [ss.predict(mod, sequence) for mod in models]\n",
    "    papr_data = [data[a][k][0][:len(sequence)] for a in range(3)]\n",
    "    idd= k.split(\"_\")[-1]\n",
    "    makeplot(papr_data,sequence,k, \"mRNA#%s Experimental Data\" % idd)\n",
    "    makeplot(predictions,sequence,k,\"mRNA#%s Shaker Prediction\" % idd)\n"
   ]
  },
  {
   "cell_type": "markdown",
   "metadata": {},
   "source": [
    "# FIG 6 -- C, D, E   === regular"
   ]
  },
  {
   "cell_type": "code",
   "execution_count": null,
   "metadata": {},
   "outputs": [],
   "source": [
    "\n",
    "\n",
    "# degine problem\n",
    "keys = data[0].keys()\n",
    "keys_predict = [\"rplM_rpsI_127\",\"rpmH_rnpA_yidD_yidC_149\",'rpmB_rpmG_147']\n",
    "keys_train = [k for k in  keys if k not in keys_predict][:5]\n",
    "# make models\n",
    "model_xgb=[ss.make_xgbreg() for i in range(len(data))]\n",
    "models = [ss.make_model(dat,keys_train,model=mod) for dat,mod in zip(data,model_xgb) ]\n",
    "\n",
    "\n",
    "for k in keys_predict:\n",
    "    sequence = data[0][k][1][:400]\n",
    "    predictions = [ss.predict(mod, sequence) for mod in models]\n",
    "    papr_data = [data[a][k][0][:len(sequence)] for a in range(3)]\n",
    "    idd= k.split(\"_\")[-1]\n",
    "    makeplot(papr_data,sequence,k, \"mRNA#%s Experimental Data\" % idd)\n",
    "    makeplot(predictions,sequence,k,\"mRNA#%s Shaker Prediction\" % idd)\n",
    "\n",
    "\n"
   ]
  },
  {
   "cell_type": "markdown",
   "metadata": {},
   "source": [
    "---"
   ]
  },
  {
   "cell_type": "markdown",
   "metadata": {},
   "source": [
    "# Fig 3d"
   ]
  },
  {
   "cell_type": "code",
   "execution_count": null,
   "metadata": {},
   "outputs": [],
   "source": [
    "\n",
    "keys = data[0].keys()\n",
    "keys_train = keys[:5]\n",
    "keys_predict = keys[-5:]\n",
    "\n",
    "models = [ss.make_xgbreg()  for dat in data]\n",
    "models = [ ss.make_model(dat,keys_train, model=mod)for dat,mod in zip(data,models) ]\n",
    "\n",
    "\n",
    "predictions = [[plf(data[0][k][1][:150],ss.predict(mod, data[0][k][1][:150])) for k in keys_predict] for mod in models]\n",
    "\n"
   ]
  },
  {
   "cell_type": "code",
   "execution_count": null,
   "metadata": {},
   "outputs": [],
   "source": [
    "res = [np.array(p).mean(axis=0) for p in predictions]\n",
    "mystuff = pandas.DataFrame([ window(p) for p in res],index=types)\n",
    "\n",
    "draw(mystuff)\n"
   ]
  },
  {
   "cell_type": "markdown",
   "metadata": {},
   "source": [
    "# DO THE SAME FOR GENESTARTSITE +-100"
   ]
  },
  {
   "cell_type": "code",
   "execution_count": null,
   "metadata": {},
   "outputs": [],
   "source": [
    "%%time\n",
    "import data.weeks194_orig.remove_genes as d\n",
    "\n",
    "\n",
    "\n",
    "# get data\n",
    "keys = data[0].keys()\n",
    "print len(keys)\n",
    "keys_train = keys[:100]\n",
    "keys_predict = keys[-25:]\n",
    "\n",
    "\n",
    "\n",
    "\n",
    "# make model\n",
    "models = [ss.make_xgbreg() for e in range(len(data))]\n",
    "models = [ ss.make_model(dat,keys_train, model=mod)for dat,mod in \n",
    "          zip(data,models) ]\n",
    "\n",
    "\n"
   ]
  },
  {
   "cell_type": "code",
   "execution_count": null,
   "metadata": {
    "scrolled": false
   },
   "outputs": [],
   "source": [
    "%%time\n",
    "# PREDICTION\n",
    "from rna_tools.rnaplfold import rnaplfold\n",
    "\n",
    "\n",
    "\n",
    "# select gene start \n",
    "genstartdict = d.read_genes()\n",
    "\n",
    "\n",
    "def cut_genestart(k,sequence):\n",
    "    \"\"\"there is a sequence(of anything), we center the startsite of the first gene and add padding\n",
    "    when necessary.\n",
    "    returns cut_sequence, padleft, padright\"\"\"\n",
    "    \"\"\"helper for the 2 functions below\"\"\"\n",
    "    index = int(k.split(\"_\")[-1])\n",
    "    genestart = genstartdict[index][0][0] # [transcript_index gene_index start]\n",
    "    geneend = genstartdict[index][0][1] # [transcript_index gene_index end]\n",
    "    sequence = sequence[:geneend]  # sequence[:geneend]\n",
    "    endpointindex = min(genestart+150, geneend) \n",
    "    pre = sequence[max(genestart-150,0):genestart] # everything before the genestart\n",
    "    post =   sequence[genestart:min(endpointindex, len(sequence))] # after genestart\n",
    "    \n",
    "    if type(sequence) != str:\n",
    "        pre = [e if e != None else np.nan for e in pre ]\n",
    "        post = [e if e != None else np.nan for e in post ]\n",
    "    \n",
    "    answer= pre+post , abs(min(genestart-150,0)), max(genestart+150-len(sequence),0) \n",
    "    # check error\n",
    "    if (len(answer[0])+answer[1]+answer[2])!= 300:\n",
    "        print answer, k,sequence, geneend\n",
    "    # track progress alittle biiit\n",
    "    print \".\",\n",
    "    return answer\n",
    "\n",
    "\n",
    "    \n",
    "# predict\n",
    "def predwrap(k,mod):\n",
    "    \"\"\"predicts for a transcript\"\"\"\n",
    "    seq, padstart, padend = cut_genestart(k,data[0][k][1])\n",
    "    \n",
    "    res = ss.predict(mod, seq )\n",
    "    a=np.full((padstart,), np.nan, dtype=float)\n",
    "    b = np.full((padend,), np.nan, dtype=float)\n",
    "    ret= np.hstack( [a,res, b] )\n",
    "    return ret\n",
    "\n",
    "def plfoldrap(k):\n",
    "    \"\"\"predicts for a transcript\"\"\"\n",
    "    seq, padstart, padend = cut_genestart(k,data[0][k][1])\n",
    "    res = rnaplfold ( seq )\n",
    "    a=np.full((padstart,), np.nan, dtype=float)\n",
    "    b = np.full((padend,), np.nan, dtype=float)\n",
    "    ret= np.hstack( [a,res, b] )\n",
    "    return ret\n",
    "\n",
    "\n",
    "predictions = [[predwrap(k,mod) for k in keys_predict] for mod in models]\n",
    "predictions.append([plfoldrap(k) for k in keys_predict])\n",
    "# we want the mean at nucleodide possition [-150.. 150] over all sequences...\n",
    "res = [np.nanmean(np.array(p),axis=0) for p in predictions]\n",
    "\n",
    "# windowing to smoothe the plot\n",
    "mystuff = pandas.DataFrame([ window(p) for p in res],index=types+[\"plfold\"])\n",
    "\n",
    "draw(mystuff)"
   ]
  },
  {
   "cell_type": "code",
   "execution_count": null,
   "metadata": {},
   "outputs": [],
   "source": []
  },
  {
   "cell_type": "code",
   "execution_count": null,
   "metadata": {},
   "outputs": [],
   "source": [
    "#Original DAta\n",
    "\n",
    "# select gene start \n",
    "genstartdict = d.read_genes()\n",
    "\n",
    "\n",
    "def plfoldrap(k):\n",
    "    seq, padstart, padend = cut_genestart(k,data[0][k][1]) # this is the verison above\n",
    "    res = rnaplfold ( seq )\n",
    "    a=np.full((padstart,), np.nan, dtype=float)\n",
    "    b = np.full((padend,), np.nan, dtype=float)\n",
    "    ret= np.hstack( [a,res, b] )\n",
    "    return ret\n",
    "\n",
    "# predict\n",
    "def predwrap(k, exp):\n",
    "    seq, padstart, padend = cut_genestart(k,data[exp][k][0])\n",
    "    res =  np.array(seq) \n",
    "    a=np.full((padstart,), np.nan, dtype=float)\n",
    "    b = np.full((padend,), np.nan, dtype=float)\n",
    "    ret= np.hstack( [a,res, b] )\n",
    "    return ret\n",
    "\n",
    "predictions = [[predwrap(k,mod) for k in keys_predict] for mod in range(3)]\n",
    "predictions.append([plfoldrap(k) for k in keys_predict])\n",
    "# we want the mean at nucleodide possition [-150.. 150] over all sequences...\n",
    "#res = [np.array(p).mean(axis=0) for p in predictions]\n",
    "\n",
    "res = [np.nanmean(np.array(p),axis=0) for p in predictions]\n",
    "\n",
    "\n",
    "# windowing to smoothe the plot\n",
    "mystuff = pandas.DataFrame([ window(p) for p in res],index=types+[\"plfold\"])\n",
    "draw(mystuff)"
   ]
  }
 ],
 "metadata": {
  "kernelspec": {
   "display_name": "Python 2",
   "language": "python",
   "name": "python2"
  },
  "language_info": {
   "codemirror_mode": {
    "name": "ipython",
    "version": 2
   },
   "file_extension": ".py",
   "mimetype": "text/x-python",
   "name": "python",
   "nbconvert_exporter": "python",
   "pygments_lexer": "ipython2",
   "version": "2.7.15rc1"
  },
  "name": "06_50seq_accessibility.ipynb"
 },
 "nbformat": 4,
 "nbformat_minor": 2
}
