{
 "cells": [
  {
   "cell_type": "markdown",
   "metadata": {
    "deletable": true,
    "editable": true
   },
   "source": [
    "# predict on sequence\n",
    "\n",
    "this is predicting on the in vivo stuff"
   ]
  },
  {
   "cell_type": "code",
   "execution_count": null,
   "metadata": {
    "attributes": {
     "classes": [],
     "id": "",
     "n": "1"
    },
    "collapsed": false,
    "deletable": true,
    "editable": true
   },
   "outputs": [],
   "source": [
    "%load_ext autoreload\n",
    "%autoreload 2\n",
    "%matplotlib inline\n",
    "from eden.util import configure_logging\n",
    "import logging\n",
    "configure_logging(logging.getLogger(),verbosity=3)\n",
    "\n",
    "import sys\n",
    "sys.path.insert(0,'..')\n",
    "\n",
    "from IPython.core.display import HTML\n",
    "HTML('<style>.container { width:95% !important; }</style><style>.output_png {display: table-cell;text-align: center;vertical-align: middle;}</style>')"
   ]
  },
  {
   "cell_type": "code",
   "execution_count": null,
   "metadata": {
    "collapsed": false,
    "deletable": true,
    "editable": true,
    "scrolled": true
   },
   "outputs": [],
   "source": [
    "# WE TRAIN A MODEL \n",
    "from optimization.optimize_forest import quickloaddata as load\n",
    "import simushape_nostruct as sn\n",
    "import simushape as ss\n",
    "data = load(dataset='16')\n",
    "\n",
    "#print len(data['Group1T'][0])\n",
    "#print ss.getXY(data,['Group1T'])"
   ]
  },
  {
   "cell_type": "code",
   "execution_count": null,
   "metadata": {
    "collapsed": true,
    "deletable": true,
    "editable": true
   },
   "outputs": [],
   "source": [
    "import xgboost as xgb\n",
    "reg = xgb.XGBRegressor(**{'reg_alpha': 0.8500639221640397, 'learning_rate': 0.01766263588148119, 'max_delta_step': 1, 'min_child_weight': 3, 'n_estimators': 127, 'reg_lambda': 0.70393814277000044, 'max_depth': 14, 'gamma':0, 'booster': 'dart'})\n",
    "model = ss.make_model(data, data.keys(),model=reg)\n"
   ]
  },
  {
   "cell_type": "code",
   "execution_count": null,
   "metadata": {
    "collapsed": false,
    "deletable": true,
    "editable": true,
    "scrolled": false
   },
   "outputs": [],
   "source": [
    "# WE PREDICT\n",
    "\n",
    "import simushape as ss\n",
    "import simushape_nostruct as sn\n",
    "import notebook_helper as helper\n",
    "from IPython.display import HTML, display\n",
    "import tabulate\n",
    "test_fasta = ss.read_fasta('../data/eval_rrna/galaxy31.fasta')\n",
    "test_react = ss.read_react('../data/eval_rrna/galaxy31.react')\n",
    "   \n",
    "import rnafold as rf\n",
    "\n",
    "\n",
    "def predict(model,test_fasta):\n",
    "    res=[]\n",
    "    for k,v in test_fasta:\n",
    "        if len(v) < 130:\n",
    "            a,b = sn.predict_and_scale(model,v,150)\n",
    "            res.append((k,v,a,b))\n",
    "    return res\n",
    "        \n",
    "def draw_res(res):\n",
    "    for name, seq, react, react2 in res:\n",
    "        print name\n",
    "        INVIVO=test_react[name]\n",
    "        struc = rf.fold(seq,react) # we use this for outpu\n",
    "        struc2 = rf.fold(seq,INVIVO)\n",
    "        structhighlight = [ 0 if b=='.' and a!='.' else .5 for a,b in zip(struc,struc2)    ] # b is invivo \n",
    "        print structhighlight\n",
    "        helper.draw_seq_rea(seq,[INVIVO,react,react2,structhighlight],struc)\n",
    "\n",
    "        y,x = ss.mask(react,INVIVO)\n",
    "        z,x = ss.mask(react2,INVIVO)\n",
    "        table= [x,y,z]\n",
    "        #table = zip(*table)\n",
    "        display(HTML(tabulate.tabulate(table, tablefmt='html')))  \n",
    "        \n",
    "   \n",
    "        print 'norm ',struc\n",
    "        print 'pred',struc2\n",
    "        \n",
    "        \n",
    "\n",
    "\n",
    "#print '\\t'.join( map(str,(list(res[0][2]))))\n",
    "#print ss.format_shape('asd',res[0][2])\n",
    "#print test_fasta\n",
    "\n",
    "\n",
    "#print sn.shape(test_fasta[0][1])\n",
    "\n"
   ]
  },
  {
   "cell_type": "code",
   "execution_count": null,
   "metadata": {
    "collapsed": false,
    "deletable": true,
    "editable": true,
    "scrolled": false
   },
   "outputs": [],
   "source": [
    "\n",
    "res = predict(model,test_fasta)\n",
    "\n",
    "draw_res(res)\n"
   ]
  },
  {
   "cell_type": "markdown",
   "metadata": {
    "deletable": true,
    "editable": true
   },
   "source": [
    "# DRAW FUNCTION FOR THE SHAPE DATA"
   ]
  },
  {
   "cell_type": "code",
   "execution_count": null,
   "metadata": {
    "collapsed": false,
    "deletable": true,
    "editable": true,
    "scrolled": true
   },
   "outputs": [],
   "source": [
    "print test_fasta"
   ]
  },
  {
   "cell_type": "code",
   "execution_count": null,
   "metadata": {
    "collapsed": false,
    "deletable": true,
    "editable": true
   },
   "outputs": [],
   "source": [
    "def debug_structures(fasta,react):\n",
    "    for name,seq in fasta:\n",
    "        react_= react[name]\n",
    "        struc = rf.fold(seq,react_) # we use this for outpu\n",
    "        mep = [x/7.0 if x!=None else None for x in np.array(react_)]\n",
    "        \n",
    "        struc3 = rf.fold(seq,mep) # we use this for outpu\n",
    "      \n",
    "        print struc\n",
    "        print struc3\n",
    "        print\n",
    "        \n",
    "debug_structures(test_fasta[:5], test_react)"
   ]
  },
  {
   "cell_type": "code",
   "execution_count": null,
   "metadata": {
    "collapsed": true,
    "deletable": true,
    "editable": true
   },
   "outputs": [],
   "source": []
  }
 ],
 "metadata": {
  "kernelspec": {
   "display_name": "Python 2",
   "language": "python",
   "name": "python2"
  },
  "language_info": {
   "codemirror_mode": {
    "name": "ipython",
    "version": 2
   },
   "file_extension": ".py",
   "mimetype": "text/x-python",
   "name": "python",
   "nbconvert_exporter": "python",
   "pygments_lexer": "ipython2",
   "version": "2.7.12"
  }
 },
 "nbformat": 4,
 "nbformat_minor": 2
}
