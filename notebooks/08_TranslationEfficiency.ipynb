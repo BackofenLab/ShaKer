{
 "cells": [
  {
   "cell_type": "code",
   "execution_count": 7,
   "metadata": {},
   "outputs": [
    {
     "name": "stdout",
     "output_type": "stream",
     "text": [
      "backend module://ipykernel.pylab.backend_inline version unknown\n"
     ]
    }
   ],
   "source": [
    "%load_ext autoreload\n",
    "%autoreload 2\n",
    "%matplotlib inline\n",
    "from eden.util import configure_logging\n",
    "import logging\n",
    "configure_logging(logging.getLogger(),verbosity=3)\n",
    "\n",
    "\n",
    "import matplotlib.pyplot as plt\n",
    "import ShaKer.simushape as ss \n",
    "from scipy.stats import spearmanr as spear\n",
    "from scipy.stats import pearsonr as pear\n",
    "import pandas\n",
    "import numpy as np\n",
    "from ShaKer.rna_tools.rnaplfold import rnaplfold\n",
    "import notebook_helper as nb"
   ]
  },
  {
   "cell_type": "code",
   "execution_count": 3,
   "metadata": {},
   "outputs": [
    {
     "data": {
      "text/html": [
       "<style>.container { width:95% !important; }</style><style>.output_png {display: table-cell;text-align: center;vertical-align: middle;}</style>"
      ],
      "text/plain": [
       "<IPython.core.display.HTML object>"
      ]
     },
     "execution_count": 3,
     "metadata": {},
     "output_type": "execute_result"
    }
   ],
   "source": [
    "from IPython.core.display import HTML\n",
    "HTML('<style>.container { width:95% !important; }</style><style>.output_png {display: table-cell;text-align: center;vertical-align: middle;}</style>')"
   ]
  },
  {
   "cell_type": "code",
   "execution_count": 3,
   "metadata": {},
   "outputs": [],
   "source": [
    "import ShaKer.rna_tools.rna_io as rio\n",
    "import pandas\n",
    "\n",
    "types = [\"cellfree\",\n",
    "\"incell\",\n",
    "\"kasugamycin\"]\n",
    "\n",
    "def getdata(typ):\n",
    "    return rio.get_all_data(\"../data/weeks194_orig/%s.react\" % typ,\"../data/weeks194_orig/%s.dbn\" % typ)  # {key: rea, seq, stru}\n",
    "\n",
    "data = [getdata(t) for t in types] # 2 has bad results :)\n",
    "\n",
    "TE = pandas.read_csv(\"../data/weeks194_orig/translationefficiency.csv\")\n",
    "TE = dict(zip(TE[\"Gene\"],TE[\"Translation efficiency (AU)\"]))\n",
    "\n",
    "genelocations = nb.getgenedict()\n"
   ]
  },
  {
   "cell_type": "code",
   "execution_count": null,
   "metadata": {},
   "outputs": [
    {
     "name": "stdout",
     "output_type": "stream",
     "text": [
      "crosspredict: . . . . . . . . . ."
     ]
    }
   ],
   "source": [
    "%%time \n",
    "keys= data[0].keys()\n",
    "predictions = ss.crosspredict_nfold(data[0], keys)"
   ]
  },
  {
   "cell_type": "code",
   "execution_count": null,
   "metadata": {},
   "outputs": [],
   "source": [
    "%%time \n",
    "\n",
    "keys= data[0].keys()\n",
    "predictions1 = ss.crosspredict_nfold(data[1], keys)"
   ]
  },
  {
   "cell_type": "code",
   "execution_count": null,
   "metadata": {},
   "outputs": [],
   "source": [
    "keys= data[0].keys()\n",
    "predictions2 = ss.crosspredict_nfold(data[2], keys)"
   ]
  },
  {
   "cell_type": "code",
   "execution_count": null,
   "metadata": {},
   "outputs": [],
   "source": [
    "# so i want a correlation between: shape data and TE\n",
    "\n",
    "shapes, tes = [],[]\n",
    "for i,k in enumerate(keys):\n",
    "    genes_and_id  = k.split('_')\n",
    "    genes,idd = genes_and_id[:-1], genes_and_id[-1] \n",
    "    genelocs = genelocations[idd]\n",
    "    assert len(genelocs) == len(genes)\n",
    "    tes+=[TE[gene] for gene in genes ]\n",
    "    for start, end in genelocs:\n",
    "        shapes.append( np.mean(predictions[i][start:end]) )\n",
    "\n",
    "print pear(shapes,tes)"
   ]
  },
  {
   "cell_type": "code",
   "execution_count": null,
   "metadata": {},
   "outputs": [],
   "source": [
    "range(4)[:-1]"
   ]
  }
 ],
 "metadata": {
  "kernelspec": {
   "display_name": "Python 2",
   "language": "python",
   "name": "python2"
  },
  "language_info": {
   "codemirror_mode": {
    "name": "ipython",
    "version": 2
   },
   "file_extension": ".py",
   "mimetype": "text/x-python",
   "name": "python",
   "nbconvert_exporter": "python",
   "pygments_lexer": "ipython2",
   "version": "2.7.15"
  }
 },
 "nbformat": 4,
 "nbformat_minor": 2
}
