{
 "cells": [
  {
   "cell_type": "code",
   "execution_count": null,
   "metadata": {},
   "outputs": [],
   "source": [
    "%load_ext autoreload\n",
    "%autoreload 2\n",
    "%matplotlib inline\n",
    "from eden.util import configure_logging\n",
    "import logging\n",
    "configure_logging(logging.getLogger(),verbosity=3)\n",
    "\n",
    "\n",
    "import matplotlib.pyplot as plt\n",
    "import ShaKer.simushape as ss \n",
    "from scipy.stats import spearmanr as spear\n",
    "import pandas\n",
    "import numpy as np\n",
    "from ShaKer.rna_tools.rnaplfold import rnaplfold\n",
    "import notebook_helper as nb"
   ]
  },
  {
   "cell_type": "code",
   "execution_count": null,
   "metadata": {},
   "outputs": [],
   "source": [
    "from IPython.core.display import HTML\n",
    "HTML('<style>.container { width:95% !important; }</style><style>.output_png {display: table-cell;text-align: center;vertical-align: middle;}</style>')"
   ]
  },
  {
   "cell_type": "code",
   "execution_count": null,
   "metadata": {},
   "outputs": [],
   "source": [
    "import ShaKer.rna_tools.rna_io as rio\n",
    "import pandas\n",
    "\n",
    "types = [\"cellfree\",\n",
    "\"incell\",\n",
    "\"kasugamycin\"]\n",
    "\n",
    "def getdata(typ):\n",
    "    return rio.get_all_data(\"../data/weeks194_orig/%s.react\" % typ,\"../data/weeks194_orig/%s.dbn\" % typ)  # {key: rea, seq, stru}\n",
    "\n",
    "data = [getdata(t) for t in types] # 2 has bad results :)\n",
    "\n",
    "TE = pandas.read_csv(\"../data/weeks194_orig/translationefficiency.csv\")\n",
    "TE = dict(zip(TE[\"Gene\"],TE[\"Translation efficiency (AU)\"]))\n"
   ]
  },
  {
   "cell_type": "code",
   "execution_count": null,
   "metadata": {},
   "outputs": [],
   "source": [
    "TE"
   ]
  },
  {
   "cell_type": "code",
   "execution_count": null,
   "metadata": {},
   "outputs": [],
   "source": [
    " [\"rpsP_rimM_trmD_rplS_96\",\"dusB_fis_130\"] [\"rplM_rpsI_127\",\"rpmH_rnpA_yidD_yidC_149\",'rpmB_rpmG_147']"
   ]
  }
 ],
 "metadata": {
  "kernelspec": {
   "display_name": "Python 2",
   "language": "python",
   "name": "python2"
  },
  "language_info": {
   "codemirror_mode": {
    "name": "ipython",
    "version": 2
   },
   "file_extension": ".py",
   "mimetype": "text/x-python",
   "name": "python",
   "nbconvert_exporter": "python",
   "pygments_lexer": "ipython2",
   "version": "2.7.15rc1"
  }
 },
 "nbformat": 4,
 "nbformat_minor": 2
}
