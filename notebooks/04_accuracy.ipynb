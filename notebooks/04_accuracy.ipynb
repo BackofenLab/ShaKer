{
 "cells": [
  {
   "cell_type": "markdown",
   "metadata": {},
   "source": [
    "# meassurement of the accuracy \n",
    "\n",
    "accuracy is \n",
    "mean{ p in dotplot @ i,j  |  i,j in real_structure }"
   ]
  },
  {
   "cell_type": "code",
   "execution_count": 1,
   "metadata": {
    "attributes": {
     "classes": [],
     "id": "",
     "n": "1"
    }
   },
   "outputs": [
    {
     "name": "stdout",
     "output_type": "stream",
     "text": [
      "backend module://ipykernel.pylab.backend_inline version unknown\n"
     ]
    }
   ],
   "source": [
    "%load_ext autoreload\n",
    "%autoreload 2\n",
    "%matplotlib inline\n",
    "from eden.util import configure_logging\n",
    "import logging\n",
    "configure_logging(logging.getLogger(),verbosity=3)\n",
    "\n",
    "from IPython.core.display import HTML\n",
    "HTML('<style>.container { width:95% !important; }</style><style>.output_png {display: table-cell;text-align: center;vertical-align: middle;}</style>')\n",
    "import matplotlib.pyplot as plt"
   ]
  },
  {
   "cell_type": "markdown",
   "metadata": {},
   "source": [
    "# Load data"
   ]
  },
  {
   "cell_type": "code",
   "execution_count": 2,
   "metadata": {
    "scrolled": true
   },
   "outputs": [
    {
     "name": "stdout",
     "output_type": "stream",
     "text": [
      "TRP5 \t202\n",
      "5srRNA \t170\n",
      "GLYCFN \t205\n",
      "RNAsep \t154\n",
      "adenin \t71\n",
      "Z-CIDGMP-1 \t135\n",
      "R009 \t1542\n",
      "ZHCV \t95\n",
      "MDLOOP \t80\n",
      "srRNA \t120\n",
      "p564 \t155\n",
      "tRNAphe \t76\n",
      "ZGLY \t198\n",
      "23sRNA \t2904\n",
      "ADDRSW \t121\n",
      "tRNA-asp \t75\n"
     ]
    }
   ],
   "source": [
    "import ShaKer.rna_tools.rna_io as rio\n",
    "\n",
    "def getdata():\n",
    "    return rio.get_all_data(\"../data/RNA16.react\",\"../data/RNA16.dbn\")  # {key: rea, seq, stru}\n",
    "\n",
    "data = getdata()\n",
    "\n",
    "for k,v in data.items():print k,\"\\t\",  len(v[1])"
   ]
  },
  {
   "cell_type": "markdown",
   "metadata": {},
   "source": [
    "# train predict"
   ]
  },
  {
   "cell_type": "code",
   "execution_count": 3,
   "metadata": {},
   "outputs": [],
   "source": [
    "import ShaKer.simushape as sim\n",
    "from ShaKer.rna_tools.rnaplfold import rnaplfold\n",
    "\n",
    "data = getdata()\n",
    "model  = sim.make_model(data,['23sRNA','R009'],sim.make_forestregressor())\n",
    "data.pop(\"23sRNA\")\n",
    "data.pop(\"R009\")\n",
    "keys = data.keys()\n",
    "\n",
    "def get_str(seq):\n",
    "    for _, data_seq, db in data.values():\n",
    "        if seq == data_seq:\n",
    "            return [db]\n",
    "    print \"SHIT\"\n",
    "\n",
    "# acc_calculator needs seq struct rea\n",
    "predictions = { k: (data[k][1],data[k][2],sim.predict(model,data[k][1], seq_to_db_function=get_str)) for k in keys  }\n",
    "\n",
    "shaker_plain = { k: (data[k][1],data[k][2],sim.predict(model,data[k][1])) for k in keys  }\n"
   ]
  },
  {
   "cell_type": "code",
   "execution_count": null,
   "metadata": {},
   "outputs": [],
   "source": []
  },
  {
   "cell_type": "markdown",
   "metadata": {},
   "source": [
    "# get accuracy"
   ]
  },
  {
   "cell_type": "code",
   "execution_count": 4,
   "metadata": {},
   "outputs": [
    {
     "name": "stdout",
     "output_type": "stream",
     "text": [
      "[{'TRP5': 0.8541103689583331, '5srRNA': 0.925412454117647, 'GLYCFN': 0.9364163655813953, 'RNAsep': 0.6695184375555556, 'adenin': 0.9890717804761906, 'Z-CIDGMP-1': 0.7908001144000001, 'ZHCV': 0.6568404530769231, 'MDLOOP': 0.9992015220000001, 'srRNA': 0.5540005202857143, 'p564': 0.8797657289655173, 'tRNAphe': 0.9969042895238096, 'tRNA-asp': 0.5930854254545453, 'ADDRSW': 0.9908173757142859, 'ZGLY': 0.8844111627500002}, {'TRP5': 0.8993863291666667, '5srRNA': 0.9264312420588237, 'GLYCFN': 0.93739841627907, 'RNAsep': 0.6765015468888889, 'adenin': 0.9794026971428571, 'Z-CIDGMP-1': 0.8275329604000001, 'ZHCV': 0.88038735, 'MDLOOP': 0.995198083, 'srRNA': 0.2998737648571428, 'p564': 0.8462508512068966, 'tRNAphe': 0.9948702609523808, 'tRNA-asp': 0.9213447395454545, 'ADDRSW': 0.9980241095238097, 'ZGLY': 0.7005045240000001}, {'TRP5': 0.9180318164583334, '5srRNA': 0.9805092994117646, 'GLYCFN': 0.7683521358139538, 'RNAsep': 0.7356667617777778, 'adenin': 0.986934125714286, 'Z-CIDGMP-1': 0.6777399836, 'ZHCV': 0.7731554753846155, 'MDLOOP': 0.995348517, 'srRNA': 0.7132447297142858, 'p564': 0.8778534024137931, 'tRNAphe': 0.9936309671428573, 'tRNA-asp': 0.9103271413636365, 'ADDRSW': 0.9902593590476192, 'ZGLY': 0.9411011530000002}, {'TRP5': 0.9205242989583331, '5srRNA': 0.7575810058823532, 'GLYCFN': 0.9385800520930236, 'RNAsep': 0.6967623333333336, 'adenin': 0.9979203176190478, 'Z-CIDGMP-1': 0.8097155211999998, 'ZHCV': 0.9015143292307692, 'MDLOOP': 0.9978289730000001, 'srRNA': 0.79378671, 'p564': 0.8858149820689656, 'tRNAphe': 0.9773067033333336, 'tRNA-asp': 0.7001397472727273, 'ADDRSW': 0.9973537071428573, 'ZGLY': 0.9522351330000003}, {'TRP5': 0.7909292093749999, '5srRNA': 0.829129888529412, 'GLYCFN': 0.9375454974418606, 'RNAsep': 0.6633663868888889, 'adenin': 0.9885665538095239, 'Z-CIDGMP-1': 0.8765901604000002, 'ZHCV': 0.8373316784615386, 'MDLOOP': 0.9979898030000001, 'srRNA': 0.882874893714286, 'p564': 0.923498285689655, 'tRNAphe': 0.9855847423809524, 'tRNA-asp': 0.8170626181818182, 'ADDRSW': 0.9904954376190477, 'ZGLY': 0.92113524725}]\n"
     ]
    }
   ],
   "source": [
    "from ShaKer.rna_tools.sukosd import sukosd\n",
    "from ShaKer.rna_tools.rna_accuracy import get_structure_accuracy\n",
    "import ShaKer.rna_tools.sukosd as suk\n",
    "\n",
    "acc_shaker = {k: get_structure_accuracy (*predictions[k])  for  k in keys} \n",
    "acc_shaker_plain = {k: get_structure_accuracy(*shaker_plain[k]) for  k in keys} \n",
    "predictions_suko = [{ k: (data[k][1],data[k][2],sukosd(data[k][2])) for k in keys } for i in range(5)] \n",
    "\n",
    "\n",
    "acc_suko = [{k: get_structure_accuracy(*predictions_suko[i][k])  for  k in keys} for i in range(0,5)] \n",
    "\n",
    "acc_suko.sort(key=lambda x: sum(x.values()))\n",
    "print acc_suko \n",
    "acc_suko = acc_suko[2] \n",
    "\n",
    "acc_real = {k: get_structure_accuracy(data[k][1],data[k][2],data[k][0])  for  k in keys}\n",
    "acc_noshape = {k: get_structure_accuracy(data[k][1],data[k][2],None)  for  k in keys}\n",
    "acc_thoretical_best = {k: get_structure_accuracy(data[k][1],data[k][2],[1.0 if e =='.' else 0.0 for e in data[k][2]]) for k in keys} \n",
    "\n",
    "\n",
    "#predictions_suko_predicted = { k: (data[k][1],data[k][2],suk.predict_Suko(data[k][1])) for k in keys }\n",
    "#acc_suko_predicted = {k: get_structure_accuracy(*predictions_suko_predicted[k])  for  k in keys} \n",
    "\n"
   ]
  },
  {
   "cell_type": "code",
   "execution_count": 5,
   "metadata": {},
   "outputs": [],
   "source": [
    "maxmultistruct = { k: (data[k][1],data[k][2],suk.predict_tmp(data[k][1])) for k in keys }\n",
    "maxmultistructt = {k: get_structure_accuracy(*maxmultistruct[k])  for  k in keys} \n",
    "#pandata.to_csv(r'pandas.txt', header=None, index=index, sep=' ', mode='a')"
   ]
  },
  {
   "cell_type": "markdown",
   "metadata": {},
   "source": [
    "# Visualize "
   ]
  },
  {
   "cell_type": "code",
   "execution_count": 15,
   "metadata": {
    "scrolled": false
   },
   "outputs": [
    {
     "name": "stdout",
     "output_type": "stream",
     "text": [
      "Means:\n",
      "0.875868204845923\n",
      "0.8928504713587195\n",
      "0.6787183516061772\n",
      "0.6289317470655138\n",
      "0.7261917444858013\n",
      "Standard deviation:\n",
      "0.11313899637813844\n",
      "0.09624214191058415\n",
      "0.2649934535736531\n",
      "0.2135751340820504\n",
      "0.2896436406236981\n",
      "Assigning font /F1 = u'/home/ikea/.local/lib/python3.6/site-packages/matplotlib/mpl-data/fonts/ttf/DejaVuSans.ttf'\n",
      "Embedding font /home/ikea/.local/lib/python3.6/site-packages/matplotlib/mpl-data/fonts/ttf/DejaVuSans.ttf.\n",
      "Writing TrueType font.\n",
      "Assigning font /F1 = u'/home/ikea/.local/lib/python3.6/site-packages/matplotlib/mpl-data/fonts/ttf/DejaVuSans.ttf'\n",
      "Embedding font /home/ikea/.local/lib/python3.6/site-packages/matplotlib/mpl-data/fonts/ttf/DejaVuSans.ttf.\n",
      "Writing TrueType font.\n"
     ]
    },
    {
     "data": {
      "image/png": "[encoded data removed]",
      "text/plain": [
       "<Figure size 432x288 with 1 Axes>"
      ]
     },
     "metadata": {},
     "output_type": "display_data"
    }
   ],
   "source": [
    "import pandas\n",
    "import numpy as np\n",
    "#index= ['Sukosd',\"ShaKer+Structure\", \"known_strucure_max\",\"ShaKer\",\"Thermodynamic\",'Experimental',\"Sukosd multistructure\", \"Max Multistructure\"]\n",
    "\n",
    "index= [u\"Sükösd et al.\\n(ref. structure known)\",\n",
    "        \"ShaKer\\n(ref. structure known)\", \n",
    "        #\"Trivial binary\\n(ref. structure known)\",\n",
    "        \"ShaKer\",\n",
    "        \"Thermodynamic\\nprediction\", \"wetlab SHAPE\"]\n",
    "\n",
    "#data = map(lambda x: [x[k] for k in keys] ,[acc_suko, acc_shaker,acc_thoretical_best,acc_shaker_plain,acc_noshape, acc_real])\n",
    "data = map(lambda x: [x[k] for k in keys] ,[acc_suko, acc_shaker,acc_shaker_plain,acc_noshape, acc_real])\n",
    "\n",
    "print \"Means:\"\n",
    "for i in range(0,5):\n",
    "    print np.mean(data[i]) \n",
    "print \"Standard deviation:\"\n",
    "for i in range(0,5):\n",
    "    print np.std(data[i])\n",
    "\n",
    "import seaborn as sns\n",
    "sns.set_context(\"paper\")\n",
    "sns.set_style('darkgrid')\n",
    "sns.set(font_scale=1.2)\n",
    "plt.xticks(rotation=60)\n",
    "\n",
    "meanpointprops = dict(marker='o', markeredgecolor='green',markerfacecolor='w')\n",
    "sns.boxplot(data=pandas.DataFrame(data, index=index).T,meanprops=meanpointprops, showmeans=True)\n",
    "plt.title(\"Base pair Accuracy\")\n",
    "plt.grid()\n",
    "axes = plt.gca()\n",
    "axes.set_ylim([-0.005,1.005])\n",
    "axes.set_ylabel(\"Accuracy\")\n",
    "axes.grid(b=True, which='major', color='w', linewidth=1.0)\n",
    "plt.savefig(\"Accuracy.pdf\", bbox_inches='tight')\n"
   ]
  },
  {
   "cell_type": "code",
   "execution_count": 12,
   "metadata": {},
   "outputs": [],
   "source": [
    "# SAVING REULT\n",
    "# is in repo\n",
    "#asdf=pandas.DataFrame(data, index=index).T\n",
    "#asdf.to_csv(\"accuracy_PAPER.csv\",encoding = \"utf-8\")\n"
   ]
  },
  {
   "cell_type": "code",
   "execution_count": null,
   "metadata": {},
   "outputs": [],
   "source": []
  },
  {
   "cell_type": "code",
   "execution_count": null,
   "metadata": {},
   "outputs": [],
   "source": []
  },
  {
   "cell_type": "code",
   "execution_count": null,
   "metadata": {},
   "outputs": [],
   "source": [
    "# OUTPUT TABLE\n",
    "#map(lambda x:x.append(np.mean(x)),data)\n",
    "#df = pandas.DataFrame(data, columns=keys+['mean'], index=index).T\n",
    "#print df.to_latex()\n",
    "#from tabulate import tabulate \n",
    "#print tabulate(df, headers=\"keys\", tablefmt=\"orgtbl\")"
   ]
  },
  {
   "cell_type": "markdown",
   "metadata": {},
   "source": [
    "---"
   ]
  }
 ],
 "metadata": {
  "kernelspec": {
   "display_name": "Python 2",
   "language": "python",
   "name": "python2"
  },
  "language_info": {
   "codemirror_mode": {
    "name": "ipython",
    "version": 3
   },
   "file_extension": ".py",
   "mimetype": "text/x-python",
   "name": "python",
   "nbconvert_exporter": "python",
   "pygments_lexer": "ipython3",
   "version": "3.6.7"
  }
 },
 "nbformat": 4,
 "nbformat_minor": 2
}
