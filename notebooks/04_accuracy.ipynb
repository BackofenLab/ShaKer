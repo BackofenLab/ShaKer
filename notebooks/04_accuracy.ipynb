{
 "cells": [
  {
   "cell_type": "markdown",
   "metadata": {},
   "source": [
    "# meassurement of the accuracy \n",
    "\n",
    "accuracy is \n",
    "mean{ p in dotplot @ i,j  |  i,j in real_structure }"
   ]
  },
  {
   "cell_type": "code",
   "execution_count": 1,
   "metadata": {
    "attributes": {
     "classes": [],
     "id": "",
     "n": "1"
    }
   },
   "outputs": [
    {
     "name": "stdout",
     "output_type": "stream",
     "text": [
      "backend module://ipykernel.pylab.backend_inline version unknown\n"
     ]
    }
   ],
   "source": [
    "%load_ext autoreload\n",
    "%autoreload 2\n",
    "%matplotlib inline\n",
    "from eden.util import configure_logging\n",
    "import logging\n",
    "configure_logging(logging.getLogger(),verbosity=3)\n",
    "import sys\n",
    "sys.path.insert(0,'..')\n",
    "from IPython.core.display import HTML\n",
    "HTML('<style>.container { width:95% !important; }</style><style>.output_png {display: table-cell;text-align: center;vertical-align: middle;}</style>')\n",
    "import matplotlib.pyplot as plt"
   ]
  },
  {
   "cell_type": "markdown",
   "metadata": {},
   "source": [
    "# Load data"
   ]
  },
  {
   "cell_type": "code",
   "execution_count": 2,
   "metadata": {
    "scrolled": true
   },
   "outputs": [
    {
     "name": "stdout",
     "output_type": "stream",
     "text": [
      "TRP5 \t202\n",
      "5srRNA \t170\n",
      "GLYCFN \t205\n",
      "RNAsep \t154\n",
      "adenin \t71\n",
      "Z-CIDGMP-1 \t135\n",
      "R009 \t1542\n",
      "ZHCV \t95\n",
      "MDLOOP \t80\n",
      "srRNA \t120\n",
      "p564 \t155\n",
      "tRNAphe \t76\n",
      "ZGLY \t198\n",
      "23sRNA \t2904\n",
      "ADDRSW \t121\n",
      "tRNA-asp \t75\n"
     ]
    }
   ],
   "source": [
    "import rna_tools.rna_io as rio\n",
    "\n",
    "def getdata():\n",
    "    return rio.get_all_data(\"../data/RNA16.react\",\"../data/RNA16.dbn\")  # {key: rea, seq, stru}\n",
    "\n",
    "data = getdata()\n",
    "\n",
    "for k,v in data.items():print k,\"\\t\",  len(v[1])"
   ]
  },
  {
   "cell_type": "markdown",
   "metadata": {},
   "source": [
    "# train predict"
   ]
  },
  {
   "cell_type": "code",
   "execution_count": 3,
   "metadata": {},
   "outputs": [],
   "source": [
    "import simushape as sim\n",
    "from rna_tools.rnaplfold import rnaplfold\n",
    "\n",
    "data = getdata()\n",
    "model  = sim.make_model(data,['23sRNA','R009'],sim.make_forestregressor())\n",
    "data.pop(\"23sRNA\")\n",
    "data.pop(\"R009\")\n",
    "keys = data.keys()\n",
    "\n",
    "def get_str(seq):\n",
    "    for _, data_seq, db in data.values():\n",
    "        if seq == data_seq:\n",
    "            return [db]\n",
    "    print \"SHIT\"\n",
    "\n",
    "# acc_calculator needs seq struct rea\n",
    "predictions = { k: (data[k][1],data[k][2],sim.predict(model,data[k][1], seq_to_db_function=get_str)) for k in keys  }\n",
    "\n",
    "shaker_plain = { k: (data[k][1],data[k][2],sim.predict(model,data[k][1])) for k in keys  }\n"
   ]
  },
  {
   "cell_type": "code",
   "execution_count": null,
   "metadata": {},
   "outputs": [],
   "source": []
  },
  {
   "cell_type": "markdown",
   "metadata": {},
   "source": [
    "# get accuracy"
   ]
  },
  {
   "cell_type": "code",
   "execution_count": 4,
   "metadata": {},
   "outputs": [],
   "source": [
    "from rna_tools.sukosd import sukosd\n",
    "from rna_tools.rna_accuracy import get_structure_accuracy\n",
    "import rna_tools.sukosd as suk\n",
    "\n",
    "acc_shaker = {k: get_structure_accuracy (*predictions[k])  for  k in keys} \n",
    "acc_shaker_plain = {k: get_structure_accuracy(*shaker_plain[k]) for  k in keys} \n",
    "predictions_suko = { k: (data[k][1],data[k][2],sukosd(data[k][2])) for k in keys }\n",
    "\n",
    "acc_suko = {k: get_structure_accuracy(*predictions_suko[k])  for  k in keys} \n",
    "acc_real = {k: get_structure_accuracy(data[k][1],data[k][2],data[k][0])  for  k in keys}\n",
    "acc_noshape = {k: get_structure_accuracy(data[k][1],data[k][2],None)  for  k in keys}\n",
    "\n",
    "predictions_suko_predicted = { k: (data[k][1],data[k][2],suk.predict_Suko(data[k][1])) for k in keys }\n",
    "acc_suko_predicted = {k: get_structure_accuracy(*predictions_suko_predicted[k])  for  k in keys} \n",
    "\n",
    "\n",
    "acc_thoretical_best = {k: get_structure_accuracy(data[k][1],data[k][2],[1.0 if e =='.' else 0.0 for e in data[k][2]]) for k in keys} \n",
    "\n"
   ]
  },
  {
   "cell_type": "code",
   "execution_count": null,
   "metadata": {},
   "outputs": [],
   "source": []
  },
  {
   "cell_type": "markdown",
   "metadata": {},
   "source": [
    "# Visualize "
   ]
  },
  {
   "cell_type": "code",
   "execution_count": 7,
   "metadata": {
    "scrolled": false
   },
   "outputs": [
    {
     "data": {
      "image/png": "[encoded data removed]",
      "text/plain": [
       "<Figure size 432x288 with 1 Axes>"
      ]
     },
     "metadata": {
      "needs_background": "light"
     },
     "output_type": "display_data"
    }
   ],
   "source": [
    "import pandas\n",
    "import numpy as np\n",
    "index= ['Sukosd',\"ShaKer+Structure\", \"known_strucure_max\",\"ShaKer\",\"Thermodynamic\",'Experimental',\"Sukosd multistructure\"]\n",
    "\n",
    "\n",
    "data = map(lambda x: [x[k] for k in keys] ,[acc_suko, acc_shaker,acc_thoretical_best,acc_shaker_plain, acc_noshape, acc_real,acc_suko_predicted])\n",
    "\n",
    "#import notebook_helper as nbh\n",
    "#nbh.boxplotDraw(data,index,\"i am the fig title\",\"\",\"FUCKOFF\")\n",
    "\n",
    "import seaborn as sns\n",
    "plt.xticks(rotation=70)\n",
    "g=sns.boxplot(data=pandas.DataFrame(data, index=index).T)\n",
    "plt.title(\"Accuracy\")\n",
    "g.set(ylim=(0, 1))\n",
    "plt.grid()\n",
    "\n"
   ]
  },
  {
   "cell_type": "code",
   "execution_count": 8,
   "metadata": {},
   "outputs": [
    {
     "name": "stdout",
     "output_type": "stream",
     "text": [
      "\\begin{tabular}{lrrrrrrr}\n",
      "\\toprule\n",
      "{} &    Sukosd &  ShaKer+Structure &  known\\_strucure\\_max &    ShaKer &  Thermodynamic &  Experimental &  Sukosd multistructure \\\\\n",
      "\\midrule\n",
      "TRP5       &  0.889256 &          0.900539 &            0.958850 &  0.898664 &       0.838098 &      0.821419 &               0.902779 \\\\\n",
      "5srRNA     &  0.905238 &          0.924478 &            0.997156 &  0.258704 &       0.260634 &      0.252744 &               0.253065 \\\\\n",
      "GLYCFN     &  0.979977 &          0.983376 &            0.999256 &  0.391439 &       0.565605 &      0.000000 &               0.370368 \\\\\n",
      "RNAsep     &  0.762381 &          0.682258 &            0.766092 &  0.682743 &       0.530544 &      0.676623 &               0.681566 \\\\\n",
      "adenin     &  0.996944 &          0.989105 &            0.999496 &  0.989068 &       0.871697 &      0.981553 &               0.989032 \\\\\n",
      "Z-CIDGMP-1 &  0.776530 &          0.822367 &            0.987850 &  0.746126 &       0.727020 &      0.759976 &               0.762059 \\\\\n",
      "ZHCV       &  0.816713 &          0.799648 &            0.904532 &  0.882256 &       0.744884 &      0.533042 &               0.899952 \\\\\n",
      "MDLOOP     &  0.984510 &          0.998049 &            0.999880 &  0.997950 &       0.988975 &      0.991718 &               0.998525 \\\\\n",
      "srRNA      &  0.672451 &          0.746829 &            0.971363 &  0.276819 &       0.274786 &      0.849606 &               0.282864 \\\\\n",
      "p564       &  0.890748 &          0.898698 &            0.947829 &  0.716817 &       0.625162 &      0.904553 &               0.685260 \\\\\n",
      "tRNAphe    &  0.974217 &          0.991678 &            0.999126 &  0.819408 &       0.504352 &      0.995362 &               0.656774 \\\\\n",
      "ZGLY       &  0.674786 &          0.899463 &            0.999241 &  0.422276 &       0.482860 &      0.862487 &               0.422266 \\\\\n",
      "ADDRSW     &  0.932343 &          0.993098 &            0.999629 &  0.993013 &       0.872423 &      0.987444 &               0.992128 \\\\\n",
      "tRNA-asp   &  0.929597 &          0.838549 &            0.948568 &  0.498837 &       0.518002 &      0.550157 &               0.496543 \\\\\n",
      "mean       &  0.870407 &          0.890581 &            0.962776 &  0.683866 &       0.628932 &      0.726192 &               0.670941 \\\\\n",
      "\\bottomrule\n",
      "\\end{tabular}\n",
      "\n"
     ]
    }
   ],
   "source": [
    "\n",
    "map(lambda x:x.append(np.mean(x)),data)\n",
    "df = pandas.DataFrame(data, columns=keys+['mean'], index=index).T\n",
    "\n",
    "print df.to_latex()"
   ]
  },
  {
   "cell_type": "code",
   "execution_count": 9,
   "metadata": {},
   "outputs": [
    {
     "name": "stdout",
     "output_type": "stream",
     "text": [
      "|            |   Sukosd |   ShaKer+Structure |   known_strucure_max |   ShaKer |   Thermodynamic |   Experimental |   Sukosd multistructure |\n",
      "|------------+----------+--------------------+----------------------+----------+-----------------+----------------+-------------------------|\n",
      "| TRP5       | 0.889256 |           0.900539 |             0.95885  | 0.898664 |        0.838098 |       0.821419 |                0.902779 |\n",
      "| 5srRNA     | 0.905238 |           0.924478 |             0.997156 | 0.258704 |        0.260634 |       0.252744 |                0.253065 |\n",
      "| GLYCFN     | 0.979977 |           0.983376 |             0.999256 | 0.391439 |        0.565605 |       0        |                0.370368 |\n",
      "| RNAsep     | 0.762381 |           0.682258 |             0.766092 | 0.682743 |        0.530544 |       0.676623 |                0.681566 |\n",
      "| adenin     | 0.996944 |           0.989105 |             0.999496 | 0.989068 |        0.871697 |       0.981553 |                0.989032 |\n",
      "| Z-CIDGMP-1 | 0.77653  |           0.822367 |             0.98785  | 0.746126 |        0.72702  |       0.759976 |                0.762059 |\n",
      "| ZHCV       | 0.816713 |           0.799648 |             0.904532 | 0.882256 |        0.744884 |       0.533042 |                0.899952 |\n",
      "| MDLOOP     | 0.98451  |           0.998049 |             0.99988  | 0.99795  |        0.988975 |       0.991718 |                0.998525 |\n",
      "| srRNA      | 0.672451 |           0.746829 |             0.971363 | 0.276819 |        0.274786 |       0.849606 |                0.282864 |\n",
      "| p564       | 0.890748 |           0.898698 |             0.947829 | 0.716817 |        0.625162 |       0.904553 |                0.68526  |\n",
      "| tRNAphe    | 0.974217 |           0.991678 |             0.999126 | 0.819408 |        0.504352 |       0.995362 |                0.656774 |\n",
      "| ZGLY       | 0.674786 |           0.899463 |             0.999241 | 0.422276 |        0.48286  |       0.862487 |                0.422266 |\n",
      "| ADDRSW     | 0.932343 |           0.993098 |             0.999629 | 0.993013 |        0.872423 |       0.987444 |                0.992128 |\n",
      "| tRNA-asp   | 0.929597 |           0.838549 |             0.948568 | 0.498837 |        0.518002 |       0.550157 |                0.496543 |\n",
      "| mean       | 0.870407 |           0.890581 |             0.962776 | 0.683866 |        0.628932 |       0.726192 |                0.670941 |\n"
     ]
    }
   ],
   "source": [
    "from tabulate import tabulate \n",
    "print tabulate(df, headers=\"keys\", tablefmt=\"orgtbl\")"
   ]
  },
  {
   "cell_type": "markdown",
   "metadata": {},
   "source": [
    "---"
   ]
  }
 ],
 "metadata": {
  "kernelspec": {
   "display_name": "Python 2",
   "language": "python",
   "name": "python2"
  },
  "language_info": {
   "codemirror_mode": {
    "name": "ipython",
    "version": 2
   },
   "file_extension": ".py",
   "mimetype": "text/x-python",
   "name": "python",
   "nbconvert_exporter": "python",
   "pygments_lexer": "ipython2",
   "version": "2.7.15rc1"
  }
 },
 "nbformat": 4,
 "nbformat_minor": 2
}
