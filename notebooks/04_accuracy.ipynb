{
 "cells": [
  {
   "cell_type": "code",
   "execution_count": 1,
   "metadata": {},
   "outputs": [],
   "source": [
    "# meassurement of the accuracy \n",
    "\n",
    "#accuracy is mean{ p in dotplot @ i,j  |  i,j in real_structure }"
   ]
  },
  {
   "cell_type": "code",
   "execution_count": 2,
   "metadata": {
    "attributes": {
     "classes": [],
     "id": "",
     "n": "1"
    }
   },
   "outputs": [
    {
     "data": {
      "text/html": [
       "<style>.container { width:95% !important; }</style><style>.output_png {display: table-cell;text-align: center;vertical-align: middle;}</style>"
      ],
      "text/plain": [
       "<IPython.core.display.HTML object>"
      ]
     },
     "execution_count": 2,
     "metadata": {},
     "output_type": "execute_result"
    }
   ],
   "source": [
    "%load_ext autoreload\n",
    "%autoreload 2\n",
    "%matplotlib inline\n",
    "from eden.util import configure_logging\n",
    "import logging\n",
    "configure_logging(logging.getLogger(),verbosity=3)\n",
    "import sys\n",
    "sys.path.insert(0,'..')\n",
    "from IPython.core.display import HTML\n",
    "HTML('<style>.container { width:95% !important; }</style><style>.output_png {display: table-cell;text-align: center;vertical-align: middle;}</style>')"
   ]
  },
  {
   "cell_type": "markdown",
   "metadata": {},
   "source": [
    "# Load data"
   ]
  },
  {
   "cell_type": "code",
   "execution_count": 3,
   "metadata": {
    "scrolled": true
   },
   "outputs": [
    {
     "name": "stdout",
     "output_type": "stream",
     "text": [
      "ADDRSW \t121\n",
      "GLYCFN \t205\n",
      "tRNAphe \t76\n",
      "RNAsep \t154\n",
      "ZHCV \t95\n",
      "Z-CIDGMP-1 \t135\n",
      "adenin \t71\n",
      "tRNA-asp \t75\n",
      "23sRNA \t2904\n",
      "p564 \t155\n",
      "srRNA \t120\n",
      "ZGLY \t198\n",
      "MDLOOP \t80\n",
      "R009 \t1542\n",
      "5srRNA \t170\n",
      "TRP5 \t202\n"
     ]
    }
   ],
   "source": [
    "import rna_tools.rna_io as rio\n",
    "\n",
    "def getdata():\n",
    "    return rio.get_all_data(\"../data/RNA16.react\",\"../data/RNA16.dbn\")  # {key: rea, seq, stru}\n",
    "\n",
    "data = getdata()\n",
    "\n",
    "for k,v in data.items():print k,\"\\t\",  len(v[1])"
   ]
  },
  {
   "cell_type": "markdown",
   "metadata": {},
   "source": [
    "# train predict"
   ]
  },
  {
   "cell_type": "code",
   "execution_count": 4,
   "metadata": {},
   "outputs": [],
   "source": [
    "import simushape as sim\n",
    "from rna_tools.rnaplfold import rnaplfold\n",
    "\n",
    "data = getdata()\n",
    "model  = sim.make_model(data,['23sRNA','R009'])\n",
    "data.pop(\"23sRNA\")\n",
    "data.pop(\"R009\")\n",
    "keys = data.keys()[:20]\n",
    "\n",
    "def get_str(seq):\n",
    "    for _, data_seq, db in data.values():\n",
    "        if seq == data_seq:\n",
    "            return [db]\n",
    "    print \"SHIT\"\n",
    "\n",
    "# acc_calculator needs seq struct rea\n",
    "predictions = { k: (data[k][1],data[k][2],sim.predict(model,data[k][1], seq_to_db_function=get_str)) for k in keys  }\n",
    "\n"
   ]
  },
  {
   "cell_type": "code",
   "execution_count": null,
   "metadata": {},
   "outputs": [],
   "source": []
  },
  {
   "cell_type": "markdown",
   "metadata": {},
   "source": [
    "# get accuracy"
   ]
  },
  {
   "cell_type": "code",
   "execution_count": 5,
   "metadata": {},
   "outputs": [
    {
     "name": "stderr",
     "output_type": "stream",
     "text": [
      "../rna_tools/rnaplfold.py:31: FutureWarning: comparison to `None` will result in an elementwise object comparison in the future.\n",
      "  if react == None:\n"
     ]
    }
   ],
   "source": [
    "from rna_tools.sukosd import sukosd\n",
    "from rna_tools.rna_accuracy import get_structure_accuracy\n",
    "\n",
    "acc_shaker = {k: get_structure_accuracy(*predictions[k])  for  k in keys} \n",
    "\n",
    "\n",
    "predictions_suko = { k: (data[k][1],data[k][2],sukosd(data[k][2])) for k in keys }\n",
    "\n",
    "acc_suko = {k: get_structure_accuracy(*predictions_suko[k])  for  k in keys} \n",
    "\n",
    "acc_real = {k: get_structure_accuracy(data[k][1],data[k][2],data[k][0])  for  k in keys}\n",
    "\n",
    "\n",
    "acc_noshape = {k: get_structure_accuracy(data[k][1],data[k][2],None)  for  k in keys}\n",
    "\n",
    "\n"
   ]
  },
  {
   "cell_type": "code",
   "execution_count": null,
   "metadata": {},
   "outputs": [],
   "source": []
  },
  {
   "cell_type": "markdown",
   "metadata": {},
   "source": [
    "# Visualize "
   ]
  },
  {
   "cell_type": "code",
   "execution_count": 46,
   "metadata": {
    "scrolled": false
   },
   "outputs": [
    {
     "name": "stdout",
     "output_type": "stream",
     "text": [
      "                suko    shaker      real  no_shape\n",
      "ADDRSW      0.993844  0.992601  0.987444  0.872423\n",
      "GLYCFN      0.870842  0.957059  0.000000  0.565605\n",
      "tRNAphe     0.647425  0.993299  0.995362  0.504352\n",
      "RNAsep      0.718921  0.690159  0.676623  0.530544\n",
      "ZHCV        0.853871  0.896065  0.533042  0.744884\n",
      "Z-CIDGMP-1  0.736053  0.844408  0.759976  0.727020\n",
      "adenin      0.942925  0.988006  0.981553  0.871697\n",
      "tRNA-asp    0.942070  0.805720  0.550157  0.518002\n",
      "p564        0.718394  0.906855  0.904553  0.625162\n",
      "srRNA       0.750333  0.892955  0.849606  0.274786\n",
      "ZGLY        0.973732  0.958706  0.862487  0.482860\n",
      "MDLOOP      0.998663  0.998248  0.991718  0.988975\n",
      "5srRNA      0.935057  0.965159  0.252744  0.260634\n",
      "TRP5        0.884912  0.903555  0.821419  0.838098\n",
      "mean        0.854789  0.913771  0.726192  0.628932\n"
     ]
    },
    {
     "data": {
      "image/png": "[encoded data removed]",
      "text/plain": [
       "<matplotlib.figure.Figure at 0x7f0166c6f050>"
      ]
     },
     "metadata": {},
     "output_type": "display_data"
    }
   ],
   "source": [
    "import pandas\n",
    "import numpy as np\n",
    "import matplotlib.pyplot as plt\n",
    "index= ['suko',\"shaker\",'real',\"no_shape\"]\n",
    "data = map(lambda x: [x[k] for k in keys] ,[acc_suko, acc_shaker, acc_real, acc_noshape])\n",
    "map(lambda x:x.append(np.mean(x)),data)\n",
    "F = pandas.DataFrame(data, columns=keys+['mean'], index=index).T\n",
    "print F\n",
    "\n",
    "fig = plt.figure(figsize=(8,6))\n",
    "plt.boxplot(data, 0, 'rs', 1)\n",
    "plt.xticks([y+1 for y in range(len(data))], ['Sukosd et al.',\"Shaker\",'Exp. SHAPE',\"no. SHAPE\"])\n",
    "plt.xlabel(\"Comparison of accuracies\")\n",
    "plt.ylim((0,1))\n",
    "ax = fig.add_subplot(1, 1, 1)\n",
    "major_ticks = np.arange(0, 1, 0.05)\n",
    "minor_ticks = np.arange(0, 1, 0.05)\n",
    "ax.set_yticks(major_ticks)\n",
    "ax.set_yticks(minor_ticks, minor=True)\n",
    "ax.grid(which='both')\n",
    "ax.grid(which='minor', alpha=0.2)\n",
    "ax.grid(which='major', alpha=0.2)\n",
    "plt.xlabel(\"Comparison of accuracie\")\n",
    "plt.show()\n",
    "fig.savefig(\"Accuracy-ShakerRNAfold-SukosdMFE\"+ '.png', bbox_inches='tight')"
   ]
  },
  {
   "cell_type": "code",
   "execution_count": null,
   "metadata": {},
   "outputs": [],
   "source": []
  }
 ],
 "metadata": {
  "kernelspec": {
   "display_name": "Python 2",
   "language": "python",
   "name": "python2"
  },
  "language_info": {
   "codemirror_mode": {
    "name": "ipython",
    "version": 2
   },
   "file_extension": ".py",
   "mimetype": "text/x-python",
   "name": "python",
   "nbconvert_exporter": "python",
   "pygments_lexer": "ipython2",
   "version": "2.7.11"
  }
 },
 "nbformat": 4,
 "nbformat_minor": 2
}
