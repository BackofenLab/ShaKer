{
 "cells": [
  {
   "cell_type": "markdown",
   "metadata": {
    "deletable": true,
    "editable": true
   },
   "source": [
    "# meassurement of the accuracy \n",
    "\n",
    "accuracy is \n",
    "mean{ p in dotplot @ i,j  |  i,j in real_structure }"
   ]
  },
  {
   "cell_type": "code",
   "execution_count": 1,
   "metadata": {
    "collapsed": true,
    "deletable": true,
    "editable": true
   },
   "outputs": [],
   "source": [
    "import sys\n",
    "sys.path.insert(0,'..')\n",
    "sys.path.insert(0,'/home/ikea/miniconda2/lib/python2.7/site-packages')\n"
   ]
  },
  {
   "cell_type": "code",
   "execution_count": 2,
   "metadata": {
    "attributes": {
     "classes": [],
     "id": "",
     "n": "1"
    },
    "collapsed": false,
    "deletable": true,
    "editable": true
   },
   "outputs": [
    {
     "data": {
      "text/html": [
       "<style>.container { width:95% !important; }</style><style>.output_png {display: table-cell;text-align: center;vertical-align: middle;}</style>"
      ],
      "text/plain": [
       "<IPython.core.display.HTML object>"
      ]
     },
     "execution_count": 2,
     "metadata": {},
     "output_type": "execute_result"
    }
   ],
   "source": [
    "%load_ext autoreload\n",
    "%autoreload 2\n",
    "%matplotlib inline\n",
    "from eden.util import configure_logging\n",
    "import logging\n",
    "configure_logging(logging.getLogger(),verbosity=3)\n",
    "import sys\n",
    "sys.path.insert(0,'..')\n",
    "from IPython.core.display import HTML\n",
    "HTML('<style>.container { width:95% !important; }</style><style>.output_png {display: table-cell;text-align: center;vertical-align: middle;}</style>')"
   ]
  },
  {
   "cell_type": "markdown",
   "metadata": {
    "deletable": true,
    "editable": true
   },
   "source": [
    "# Load data"
   ]
  },
  {
   "cell_type": "code",
   "execution_count": 3,
   "metadata": {
    "collapsed": false,
    "deletable": true,
    "editable": true,
    "scrolled": true
   },
   "outputs": [
    {
     "name": "stdout",
     "output_type": "stream",
     "text": [
      "data for 'tRNA-asp' is corrupted, ignoring...\n",
      "ADDRSW \t121\n",
      "GLYCFN \t205\n",
      "tRNAphe \t76\n",
      "RNAsep \t154\n",
      "ZHCV \t95\n",
      "Z-CIDGMP-1 \t135\n",
      "adenin \t71\n",
      "23sRNA \t2904\n",
      "p564 \t155\n",
      "srRNA \t120\n",
      "ZGLY \t198\n",
      "MDLOOP \t80\n",
      "R009 \t1542\n",
      "5srRNA \t170\n",
      "TRP5 \t202\n"
     ]
    }
   ],
   "source": [
    "import rna_tools.rna_io as rio\n",
    "\n",
    "def getdata():\n",
    "    return rio.get_all_data(\"../data/RNA16.react\",\"../data/RNA16.dbn\")  # {key: rea, seq, stru}\n",
    "\n",
    "data = getdata()\n",
    "\n",
    "for k,v in data.items():print k,\"\\t\",  len(v[1])"
   ]
  },
  {
   "cell_type": "markdown",
   "metadata": {
    "deletable": true,
    "editable": true
   },
   "source": [
    "# train predict"
   ]
  },
  {
   "cell_type": "code",
   "execution_count": 4,
   "metadata": {
    "collapsed": false,
    "deletable": true,
    "editable": true
   },
   "outputs": [
    {
     "name": "stdout",
     "output_type": "stream",
     "text": [
      "data for 'tRNA-asp' is corrupted, ignoring...\n"
     ]
    }
   ],
   "source": [
    "import simushape as sim\n",
    "from rna_tools.rnaplfold import rnaplfold\n",
    "\n",
    "data = getdata()\n",
    "model  = sim.make_model(data,['23sRNA','R009'],sim.make_forestregressor())\n",
    "data.pop(\"23sRNA\")\n",
    "data.pop(\"R009\")\n",
    "keys = data.keys()\n",
    "\n",
    "def get_str(seq):\n",
    "    for _, data_seq, db in data.values():\n",
    "        if seq == data_seq:\n",
    "            return [db]\n",
    "    print \"SHIT\"\n",
    "\n",
    "# acc_calculator needs seq struct rea\n",
    "predictions = { k: (data[k][1],data[k][2],sim.predict(model,data[k][1], seq_to_db_function=get_str)) for k in keys  }\n",
    "\n",
    "shaker_plain = { k: (data[k][1],data[k][2],sim.predict(model,data[k][1])) for k in keys  }\n"
   ]
  },
  {
   "cell_type": "code",
   "execution_count": null,
   "metadata": {
    "collapsed": true,
    "deletable": true,
    "editable": true
   },
   "outputs": [],
   "source": []
  },
  {
   "cell_type": "markdown",
   "metadata": {
    "deletable": true,
    "editable": true
   },
   "source": [
    "# get accuracy"
   ]
  },
  {
   "cell_type": "code",
   "execution_count": 5,
   "metadata": {
    "collapsed": false,
    "deletable": true,
    "editable": true
   },
   "outputs": [
    {
     "name": "stderr",
     "output_type": "stream",
     "text": [
      "../rna_tools/rnaplfold.py:31: FutureWarning: comparison to `None` will result in an elementwise object comparison in the future.\n",
      "  if react == None:\n"
     ]
    }
   ],
   "source": [
    "from rna_tools.sukosd import sukosd\n",
    "from rna_tools.rna_accuracy import get_structure_accuracy\n",
    "\n",
    "acc_shaker = {k: v\n",
    "              (*predictions[k])  for  k in keys} \n",
    "acc_shaker_plain = {k: get_structure_accuracy(*shaker_plain[k]) for  k in keys} \n",
    "predictions_suko = { k: (data[k][1],data[k][2],sukosd(data[k][2])) for k in keys }\n",
    "acc_suko = {k: get_structure_accuracy(*predictions_suko[k])  for  k in keys} \n",
    "acc_real = {k: get_structure_accuracy(data[k][1],data[k][2],data[k][0])  for  k in keys}\n",
    "acc_noshape = {k: get_structure_accuracy(data[k][1],data[k][2],None)  for  k in keys}\n",
    "\n",
    "\n"
   ]
  },
  {
   "cell_type": "code",
   "execution_count": null,
   "metadata": {
    "collapsed": true,
    "deletable": true,
    "editable": true
   },
   "outputs": [],
   "source": []
  },
  {
   "cell_type": "markdown",
   "metadata": {
    "deletable": true,
    "editable": true
   },
   "source": [
    "# Visualize "
   ]
  },
  {
   "cell_type": "code",
   "execution_count": 6,
   "metadata": {
    "collapsed": false,
    "deletable": true,
    "editable": true,
    "scrolled": false
   },
   "outputs": [
    {
     "name": "stdout",
     "output_type": "stream",
     "text": [
      "                suko    shaker  shaker_plain      real  no_shape\n",
      "ADDRSW      0.975322  0.993288      0.993241  0.987444  0.872423\n",
      "GLYCFN      0.851236  0.972468      0.661192  0.000000  0.565605\n",
      "tRNAphe     0.973463  0.994329      0.986253  0.995362  0.504352\n",
      "RNAsep      0.689783  0.696040      0.683036  0.676623  0.530544\n",
      "ZHCV        0.854657  0.897167      0.897715  0.533042  0.744884\n",
      "Z-CIDGMP-1  0.774839  0.913900      0.746818  0.759976  0.727020\n",
      "adenin      0.998081  0.990202      0.990312  0.981553  0.871697\n",
      "p564        0.893542  0.859896      0.447638  0.904553  0.625162\n",
      "srRNA       0.881829  0.906264      0.277575  0.849606  0.274786\n",
      "ZGLY        0.936920  0.968255      0.422640  0.862487  0.482860\n",
      "MDLOOP      0.999660  0.998307      0.998486  0.991718  0.988975\n",
      "5srRNA      0.936069  0.969630      0.259991  0.252744  0.260634\n",
      "TRP5        0.920135  0.909863      0.899801  0.821419  0.838098\n",
      "mean        0.898887  0.928431      0.712669  0.739733  0.637465\n"
     ]
    }
   ],
   "source": [
    "import pandas\n",
    "import numpy as np\n",
    "index= ['suko',\"shaker\",\"shaker_plain\",'real',\"no_shape\"]\n",
    "data = map(lambda x: [x[k] for k in keys] ,[acc_suko, acc_shaker,acc_shaker_plain, acc_real, acc_noshape])\n",
    "map(lambda x:x.append(np.mean(x)),data)\n",
    "df = pandas.DataFrame(data, columns=keys+['mean'], index=index).T\n",
    "\n",
    "print df"
   ]
  },
  {
   "cell_type": "code",
   "execution_count": 7,
   "metadata": {
    "collapsed": false,
    "deletable": true,
    "editable": true
   },
   "outputs": [
    {
     "name": "stdout",
     "output_type": "stream",
     "text": [
      "\\begin{tabular}{lrrrrr}\n",
      "\\toprule\n",
      "{} &      suko &    shaker &  shaker\\_plain &      real &  no\\_shape \\\\\n",
      "\\midrule\n",
      "ADDRSW     &  0.975322 &  0.993288 &      0.993241 &  0.987444 &  0.872423 \\\\\n",
      "GLYCFN     &  0.851236 &  0.972468 &      0.661192 &  0.000000 &  0.565605 \\\\\n",
      "tRNAphe    &  0.973463 &  0.994329 &      0.986253 &  0.995362 &  0.504352 \\\\\n",
      "RNAsep     &  0.689783 &  0.696040 &      0.683036 &  0.676623 &  0.530544 \\\\\n",
      "ZHCV       &  0.854657 &  0.897167 &      0.897715 &  0.533042 &  0.744884 \\\\\n",
      "Z-CIDGMP-1 &  0.774839 &  0.913900 &      0.746818 &  0.759976 &  0.727020 \\\\\n",
      "adenin     &  0.998081 &  0.990202 &      0.990312 &  0.981553 &  0.871697 \\\\\n",
      "p564       &  0.893542 &  0.859896 &      0.447638 &  0.904553 &  0.625162 \\\\\n",
      "srRNA      &  0.881829 &  0.906264 &      0.277575 &  0.849606 &  0.274786 \\\\\n",
      "ZGLY       &  0.936920 &  0.968255 &      0.422640 &  0.862487 &  0.482860 \\\\\n",
      "MDLOOP     &  0.999660 &  0.998307 &      0.998486 &  0.991718 &  0.988975 \\\\\n",
      "5srRNA     &  0.936069 &  0.969630 &      0.259991 &  0.252744 &  0.260634 \\\\\n",
      "TRP5       &  0.920135 &  0.909863 &      0.899801 &  0.821419 &  0.838098 \\\\\n",
      "mean       &  0.898887 &  0.928431 &      0.712669 &  0.739733 &  0.637465 \\\\\n",
      "\\bottomrule\n",
      "\\end{tabular}\n",
      "\n"
     ]
    }
   ],
   "source": [
    "print df.to_latex()"
   ]
  },
  {
   "cell_type": "code",
   "execution_count": 12,
   "metadata": {
    "collapsed": false
   },
   "outputs": [
    {
     "name": "stdout",
     "output_type": "stream",
     "text": [
      "|            |     suko |   shaker |   shaker_plain |     real |   no_shape |\n",
      "|------------+----------+----------+----------------+----------+------------|\n",
      "| ADDRSW     | 0.975322 | 0.993288 |       0.993241 | 0.987444 |   0.872423 |\n",
      "| GLYCFN     | 0.851236 | 0.972468 |       0.661192 | 0        |   0.565605 |\n",
      "| tRNAphe    | 0.973463 | 0.994329 |       0.986253 | 0.995362 |   0.504352 |\n",
      "| RNAsep     | 0.689783 | 0.69604  |       0.683036 | 0.676623 |   0.530544 |\n",
      "| ZHCV       | 0.854657 | 0.897167 |       0.897715 | 0.533042 |   0.744884 |\n",
      "| Z-CIDGMP-1 | 0.774839 | 0.9139   |       0.746818 | 0.759976 |   0.72702  |\n",
      "| adenin     | 0.998081 | 0.990202 |       0.990312 | 0.981553 |   0.871697 |\n",
      "| p564       | 0.893542 | 0.859896 |       0.447638 | 0.904553 |   0.625162 |\n",
      "| srRNA      | 0.881829 | 0.906264 |       0.277575 | 0.849606 |   0.274786 |\n",
      "| ZGLY       | 0.93692  | 0.968255 |       0.42264  | 0.862487 |   0.48286  |\n",
      "| MDLOOP     | 0.99966  | 0.998307 |       0.998486 | 0.991718 |   0.988975 |\n",
      "| 5srRNA     | 0.936069 | 0.96963  |       0.259991 | 0.252744 |   0.260634 |\n",
      "| TRP5       | 0.920135 | 0.909863 |       0.899801 | 0.821419 |   0.838098 |\n",
      "| mean       | 0.898887 | 0.928431 |       0.712669 | 0.739733 |   0.637465 |\n"
     ]
    }
   ],
   "source": [
    "from tabulate import tabulate \n",
    "print tabulate(df, headers=\"keys\", tablefmt=\"orgtbl\")"
   ]
  },
  {
   "cell_type": "code",
   "execution_count": null,
   "metadata": {
    "collapsed": true
   },
   "outputs": [],
   "source": []
  }
 ],
 "metadata": {
  "kernelspec": {
   "display_name": "Python 2",
   "language": "python",
   "name": "python2"
  },
  "language_info": {
   "codemirror_mode": {
    "name": "ipython",
    "version": 2
   },
   "file_extension": ".py",
   "mimetype": "text/x-python",
   "name": "python",
   "nbconvert_exporter": "python",
   "pygments_lexer": "ipython2",
   "version": "2.7.12"
  }
 },
 "nbformat": 4,
 "nbformat_minor": 2
}
