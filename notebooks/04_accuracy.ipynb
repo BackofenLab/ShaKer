{
 "cells": [
  {
   "cell_type": "markdown",
   "metadata": {},
   "source": [
    "# meassurement of the accuracy \n",
    "\n",
    "accuracy is \n",
    "mean{ p in dotplot @ i,j  |  i,j in real_structure }"
   ]
  },
  {
   "cell_type": "code",
   "execution_count": 1,
   "metadata": {
    "attributes": {
     "classes": [],
     "id": "",
     "n": "1"
    }
   },
   "outputs": [],
   "source": [
    "%load_ext autoreload\n",
    "%autoreload 2\n",
    "%matplotlib inline\n",
    "from eden.util import configure_logging\n",
    "import logging\n",
    "configure_logging(logging.getLogger(),verbosity=3)\n",
    "import sys\n",
    "sys.path.insert(0,'..')\n",
    "from IPython.core.display import HTML\n",
    "HTML('<style>.container { width:95% !important; }</style><style>.output_png {display: table-cell;text-align: center;vertical-align: middle;}</style>')\n",
    "import matplotlib.pyplot as plt"
   ]
  },
  {
   "cell_type": "markdown",
   "metadata": {},
   "source": [
    "# Load data"
   ]
  },
  {
   "cell_type": "code",
   "execution_count": 2,
   "metadata": {
    "scrolled": true
   },
   "outputs": [
    {
     "name": "stdout",
     "output_type": "stream",
     "text": [
      "ADDRSW \t121\n",
      "GLYCFN \t205\n",
      "tRNAphe \t76\n",
      "RNAsep \t154\n",
      "ZHCV \t95\n",
      "Z-CIDGMP-1 \t135\n",
      "adenin \t71\n",
      "tRNA-asp \t75\n",
      "23sRNA \t2904\n",
      "p564 \t155\n",
      "srRNA \t120\n",
      "ZGLY \t198\n",
      "MDLOOP \t80\n",
      "R009 \t1542\n",
      "5srRNA \t170\n",
      "TRP5 \t202\n"
     ]
    }
   ],
   "source": [
    "import rna_tools.rna_io as rio\n",
    "\n",
    "def getdata():\n",
    "    return rio.get_all_data(\"../data/RNA16.react\",\"../data/RNA16.dbn\")  # {key: rea, seq, stru}\n",
    "\n",
    "data = getdata()\n",
    "\n",
    "for k,v in data.items():print k,\"\\t\",  len(v[1])"
   ]
  },
  {
   "cell_type": "markdown",
   "metadata": {},
   "source": [
    "# train predict"
   ]
  },
  {
   "cell_type": "code",
   "execution_count": 3,
   "metadata": {},
   "outputs": [],
   "source": [
    "import simushape as sim\n",
    "from rna_tools.rnaplfold import rnaplfold\n",
    "\n",
    "data = getdata()\n",
    "model  = sim.make_model(data,['23sRNA','R009'],sim.make_forestregressor())\n",
    "data.pop(\"23sRNA\")\n",
    "data.pop(\"R009\")\n",
    "keys = data.keys()\n",
    "\n",
    "def get_str(seq):\n",
    "    for _, data_seq, db in data.values():\n",
    "        if seq == data_seq:\n",
    "            return [db]\n",
    "    print \"SHIT\"\n",
    "\n",
    "# acc_calculator needs seq struct rea\n",
    "predictions = { k: (data[k][1],data[k][2],sim.predict(model,data[k][1], seq_to_db_function=get_str)) for k in keys  }\n",
    "\n",
    "shaker_plain = { k: (data[k][1],data[k][2],sim.predict(model,data[k][1])) for k in keys  }\n"
   ]
  },
  {
   "cell_type": "code",
   "execution_count": null,
   "metadata": {},
   "outputs": [],
   "source": []
  },
  {
   "cell_type": "markdown",
   "metadata": {},
   "source": [
    "# get accuracy"
   ]
  },
  {
   "cell_type": "code",
   "execution_count": 4,
   "metadata": {},
   "outputs": [],
   "source": [
    "from rna_tools.sukosd import sukosd\n",
    "from rna_tools.rna_accuracy import get_structure_accuracy\n",
    "import rna_tools.sukosd as suk\n",
    "\n",
    "acc_shaker = {k: get_structure_accuracy (*predictions[k])  for  k in keys} \n",
    "acc_shaker_plain = {k: get_structure_accuracy(*shaker_plain[k]) for  k in keys} \n",
    "predictions_suko = { k: (data[k][1],data[k][2],sukosd(data[k][2])) for k in keys }\n",
    "\n",
    "acc_suko = {k: get_structure_accuracy(*predictions_suko[k])  for  k in keys} \n",
    "acc_real = {k: get_structure_accuracy(data[k][1],data[k][2],data[k][0])  for  k in keys}\n",
    "acc_noshape = {k: get_structure_accuracy(data[k][1],data[k][2],None)  for  k in keys}\n",
    "\n",
    "predictions_suko_predicted = { k: (data[k][1],data[k][2],suk.predict_Suko(data[k][1])) for k in keys }\n",
    "acc_suko_predicted = {k: get_structure_accuracy(*predictions_suko_predicted[k])  for  k in keys} \n",
    "\n",
    "\n",
    "acc_thoretical_best = {k: get_structure_accuracy(data[k][1],data[k][2],[1.0 if e =='.' else 0.0 for e in data[k][2]]) for k in keys} ### DOES THIS WORK? \n",
    "\n"
   ]
  },
  {
   "cell_type": "code",
   "execution_count": null,
   "metadata": {},
   "outputs": [],
   "source": []
  },
  {
   "cell_type": "markdown",
   "metadata": {},
   "source": [
    "# Visualize "
   ]
  },
  {
   "cell_type": "code",
   "execution_count": 5,
   "metadata": {
    "scrolled": false
   },
   "outputs": [
    {
     "data": {
      "image/png": "[encoded data removed]",
      "text/plain": [
       "<matplotlib.figure.Figure at 0x7f687d640610>"
      ]
     },
     "metadata": {},
     "output_type": "display_data"
    }
   ],
   "source": [
    "import pandas\n",
    "import numpy as np\n",
    "index= ['suko',\"shaker\", \"best\",\"shaker_plain\",'real',\"no_shape\", \"suko_predicted\"]\n",
    "data = map(lambda x: [x[k] for k in keys] ,[acc_suko, acc_shaker,acc_thoretical_best,acc_shaker_plain, acc_real, acc_noshape, acc_suko_predicted])\n",
    "\n",
    "#import notebook_helper as nbh\n",
    "#nbh.boxplotDraw(data,index,\"i am the fig title\",\"\",\"FUCKOFF\")\n",
    "\n",
    "import seaborn as sns\n",
    "sns.boxplot(data=pandas.DataFrame(data[:7], index=index[:7]).T)\n",
    "\n",
    "plt.title(\"SOME TITLE\")\n",
    "plt.grid()"
   ]
  },
  {
   "cell_type": "code",
   "execution_count": 6,
   "metadata": {},
   "outputs": [
    {
     "data": {
      "image/png": "[encoded data removed]",
      "text/plain": [
       "<matplotlib.figure.Figure at 0x7f68b866e610>"
      ]
     },
     "metadata": {},
     "output_type": "display_data"
    }
   ],
   "source": [
    "sns.boxplot(data=pandas.DataFrame(data[3:], index=index[3:]).T)\n",
    "plt.title(\"SOME TITLE\")\n",
    "plt.grid()"
   ]
  },
  {
   "cell_type": "code",
   "execution_count": 7,
   "metadata": {},
   "outputs": [
    {
     "name": "stdout",
     "output_type": "stream",
     "text": [
      "\\begin{tabular}{lrrrrrrr}\n",
      "\\toprule\n",
      "{} &      suko &    shaker &      best &  shaker\\_plain &      real &  no\\_shape &  suko\\_predicted \\\\\n",
      "\\midrule\n",
      "ADDRSW     &  0.995418 &  0.994677 &  0.999629 &      0.994575 &  0.987444 &  0.872423 &        0.993141 \\\\\n",
      "GLYCFN     &  0.933740 &  0.978361 &  0.999256 &      0.370027 &  0.000000 &  0.565605 &        0.369688 \\\\\n",
      "tRNAphe    &  0.993876 &  0.994838 &  0.999126 &      0.783283 &  0.995362 &  0.504352 &        0.971549 \\\\\n",
      "RNAsep     &  0.709765 &  0.694212 &  0.766092 &      0.652954 &  0.676623 &  0.530544 &        0.411861 \\\\\n",
      "ZHCV       &  0.842766 &  0.892499 &  0.904532 &      0.895701 &  0.533042 &  0.744884 &        0.900175 \\\\\n",
      "Z-CIDGMP-1 &  0.846538 &  0.855160 &  0.987850 &      0.724772 &  0.759976 &  0.727020 &        0.714203 \\\\\n",
      "adenin     &  0.996870 &  0.989374 &  0.999496 &      0.989459 &  0.981553 &  0.871697 &        0.989712 \\\\\n",
      "tRNA-asp   &  0.912563 &  0.851969 &  0.948568 &      0.497743 &  0.550157 &  0.518002 &        0.495275 \\\\\n",
      "p564       &  0.877607 &  0.911009 &  0.947829 &      0.631470 &  0.904553 &  0.625162 &        0.535767 \\\\\n",
      "srRNA      &  0.820452 &  0.905431 &  0.971363 &      0.279168 &  0.849606 &  0.274786 &        0.282502 \\\\\n",
      "ZGLY       &  0.899836 &  0.962379 &  0.999241 &      0.421730 &  0.862487 &  0.482860 &        0.409989 \\\\\n",
      "MDLOOP     &  0.999760 &  0.997931 &  0.999880 &      0.998188 &  0.991718 &  0.988975 &        0.995101 \\\\\n",
      "5srRNA     &  0.949608 &  0.967690 &  0.997156 &      0.262816 &  0.252744 &  0.260634 &        0.262527 \\\\\n",
      "TRP5       &  0.906237 &  0.907974 &  0.958850 &      0.902826 &  0.821419 &  0.838098 &        0.892773 \\\\\n",
      "mean       &  0.906074 &  0.921679 &  0.962776 &      0.671765 &  0.726192 &  0.628932 &        0.658876 \\\\\n",
      "\\bottomrule\n",
      "\\end{tabular}\n",
      "\n"
     ]
    }
   ],
   "source": [
    "\n",
    "map(lambda x:x.append(np.mean(x)),data)\n",
    "df = pandas.DataFrame(data, columns=keys+['mean'], index=index).T\n",
    "\n",
    "print df.to_latex()"
   ]
  },
  {
   "cell_type": "code",
   "execution_count": 8,
   "metadata": {},
   "outputs": [
    {
     "name": "stdout",
     "output_type": "stream",
     "text": [
      "|            |     suko |   shaker |     best |   shaker_plain |     real |   no_shape |   suko_predicted |\n",
      "|------------+----------+----------+----------+----------------+----------+------------+------------------|\n",
      "| ADDRSW     | 0.995418 | 0.994677 | 0.999629 |       0.994575 | 0.987444 |   0.872423 |         0.993141 |\n",
      "| GLYCFN     | 0.93374  | 0.978361 | 0.999256 |       0.370027 | 0        |   0.565605 |         0.369688 |\n",
      "| tRNAphe    | 0.993876 | 0.994838 | 0.999126 |       0.783283 | 0.995362 |   0.504352 |         0.971549 |\n",
      "| RNAsep     | 0.709765 | 0.694212 | 0.766092 |       0.652954 | 0.676623 |   0.530544 |         0.411861 |\n",
      "| ZHCV       | 0.842766 | 0.892499 | 0.904532 |       0.895701 | 0.533042 |   0.744884 |         0.900175 |\n",
      "| Z-CIDGMP-1 | 0.846538 | 0.85516  | 0.98785  |       0.724772 | 0.759976 |   0.72702  |         0.714203 |\n",
      "| adenin     | 0.99687  | 0.989374 | 0.999496 |       0.989459 | 0.981553 |   0.871697 |         0.989712 |\n",
      "| tRNA-asp   | 0.912563 | 0.851969 | 0.948568 |       0.497743 | 0.550157 |   0.518002 |         0.495275 |\n",
      "| p564       | 0.877607 | 0.911009 | 0.947829 |       0.63147  | 0.904553 |   0.625162 |         0.535767 |\n",
      "| srRNA      | 0.820452 | 0.905431 | 0.971363 |       0.279168 | 0.849606 |   0.274786 |         0.282502 |\n",
      "| ZGLY       | 0.899836 | 0.962379 | 0.999241 |       0.42173  | 0.862487 |   0.48286  |         0.409989 |\n",
      "| MDLOOP     | 0.99976  | 0.997931 | 0.99988  |       0.998188 | 0.991718 |   0.988975 |         0.995101 |\n",
      "| 5srRNA     | 0.949608 | 0.96769  | 0.997156 |       0.262816 | 0.252744 |   0.260634 |         0.262527 |\n",
      "| TRP5       | 0.906237 | 0.907974 | 0.95885  |       0.902826 | 0.821419 |   0.838098 |         0.892773 |\n",
      "| mean       | 0.906074 | 0.921679 | 0.962776 |       0.671765 | 0.726192 |   0.628932 |         0.658876 |\n"
     ]
    }
   ],
   "source": [
    "from tabulate import tabulate \n",
    "print tabulate(df, headers=\"keys\", tablefmt=\"orgtbl\")"
   ]
  },
  {
   "cell_type": "markdown",
   "metadata": {},
   "source": [
    "---"
   ]
  }
 ],
 "metadata": {
  "kernelspec": {
   "display_name": "Python 2",
   "language": "python",
   "name": "python2"
  },
  "language_info": {
   "codemirror_mode": {
    "name": "ipython",
    "version": 2
   },
   "file_extension": ".py",
   "mimetype": "text/x-python",
   "name": "python",
   "nbconvert_exporter": "python",
   "pygments_lexer": "ipython2",
   "version": "2.7.11"
  }
 },
 "nbformat": 4,
 "nbformat_minor": 2
}
