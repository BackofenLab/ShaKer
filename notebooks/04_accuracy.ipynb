{
 "cells": [
  {
   "cell_type": "markdown",
   "metadata": {},
   "source": [
    "# meassurement of the accuracy \n",
    "\n",
    "accuracy is \n",
    "mean{ p in dotplot @ i,j  |  i,j in real_structure }"
   ]
  },
  {
   "cell_type": "code",
   "execution_count": 1,
   "metadata": {
    "attributes": {
     "classes": [],
     "id": "",
     "n": "1"
    }
   },
   "outputs": [
    {
     "data": {
      "text/html": [
       "<style>.container { width:95% !important; }</style><style>.output_png {display: table-cell;text-align: center;vertical-align: middle;}</style>"
      ],
      "text/plain": [
       "<IPython.core.display.HTML object>"
      ]
     },
     "execution_count": 1,
     "metadata": {},
     "output_type": "execute_result"
    },
    {
     "name": "stdout",
     "output_type": "stream",
     "text": [
      "backend module://ipykernel.pylab.backend_inline version unknown\n"
     ]
    }
   ],
   "source": [
    "%load_ext autoreload\n",
    "%autoreload 2\n",
    "%matplotlib inline\n",
    "from eden.util import configure_logging\n",
    "import logging\n",
    "configure_logging(logging.getLogger(),verbosity=3)\n",
    "import sys\n",
    "sys.path.insert(0,'..')\n",
    "from IPython.core.display import HTML\n",
    "HTML('<style>.container { width:95% !important; }</style><style>.output_png {display: table-cell;text-align: center;vertical-align: middle;}</style>')\n",
    "import matplotlib.pyplot as plt"
   ]
  },
  {
   "cell_type": "markdown",
   "metadata": {},
   "source": [
    "# Load data"
   ]
  },
  {
   "cell_type": "code",
   "execution_count": 2,
   "metadata": {
    "scrolled": true
   },
   "outputs": [
    {
     "name": "stdout",
     "output_type": "stream",
     "text": [
      "TRP5 \t202\n",
      "5srRNA \t170\n",
      "GLYCFN \t205\n",
      "RNAsep \t154\n",
      "adenin \t71\n",
      "Z-CIDGMP-1 \t135\n",
      "R009 \t1542\n",
      "ZHCV \t95\n",
      "MDLOOP \t80\n",
      "srRNA \t120\n",
      "p564 \t155\n",
      "tRNAphe \t76\n",
      "ZGLY \t198\n",
      "23sRNA \t2904\n",
      "ADDRSW \t121\n",
      "tRNA-asp \t75\n"
     ]
    }
   ],
   "source": [
    "import rna_tools.rna_io as rio\n",
    "\n",
    "def getdata():\n",
    "    return rio.get_all_data(\"../data/RNA16.react\",\"../data/RNA16.dbn\")  # {key: rea, seq, stru}\n",
    "\n",
    "data = getdata()\n",
    "\n",
    "for k,v in data.items():print k,\"\\t\",  len(v[1])"
   ]
  },
  {
   "cell_type": "markdown",
   "metadata": {},
   "source": [
    "# train predict"
   ]
  },
  {
   "cell_type": "code",
   "execution_count": 3,
   "metadata": {},
   "outputs": [],
   "source": [
    "import simushape as sim\n",
    "from rna_tools.rnaplfold import rnaplfold\n",
    "\n",
    "data = getdata()\n",
    "model  = sim.make_model(data,['23sRNA','R009'],sim.make_forestregressor())\n",
    "data.pop(\"23sRNA\")\n",
    "data.pop(\"R009\")\n",
    "keys = data.keys()\n",
    "\n",
    "def get_str(seq):\n",
    "    for _, data_seq, db in data.values():\n",
    "        if seq == data_seq:\n",
    "            return [db]\n",
    "    print \"SHIT\"\n",
    "\n",
    "# acc_calculator needs seq struct rea\n",
    "predictions = { k: (data[k][1],data[k][2],sim.predict(model,data[k][1], seq_to_db_function=get_str)) for k in keys  }\n",
    "\n",
    "shaker_plain = { k: (data[k][1],data[k][2],sim.predict(model,data[k][1])) for k in keys  }\n"
   ]
  },
  {
   "cell_type": "code",
   "execution_count": null,
   "metadata": {},
   "outputs": [],
   "source": []
  },
  {
   "cell_type": "markdown",
   "metadata": {},
   "source": [
    "# get accuracy"
   ]
  },
  {
   "cell_type": "code",
   "execution_count": 4,
   "metadata": {},
   "outputs": [],
   "source": [
    "from rna_tools.sukosd import sukosd\n",
    "from rna_tools.rna_accuracy import get_structure_accuracy\n",
    "\n",
    "acc_shaker = {k: get_structure_accuracy (*predictions[k])  for  k in keys} \n",
    "acc_shaker_plain = {k: get_structure_accuracy(*shaker_plain[k]) for  k in keys} \n",
    "predictions_suko = { k: (data[k][1],data[k][2],sukosd(data[k][2])) for k in keys }\n",
    "\n",
    "acc_suko = {k: get_structure_accuracy(*predictions_suko[k])  for  k in keys} \n",
    "acc_real = {k: get_structure_accuracy(data[k][1],data[k][2],data[k][0])  for  k in keys}\n",
    "acc_noshape = {k: get_structure_accuracy(data[k][1],data[k][2],None)  for  k in keys}\n",
    "\n",
    "\n",
    "\n",
    "\n",
    "acc_thoretical_best = {k: get_structure_accuracy(data[k][1],data[k][2],[1.0 if e =='.' else 0.0 for e in data[k][2]]) for k in keys} ### DOES THIS WORK? \n",
    "\n"
   ]
  },
  {
   "cell_type": "code",
   "execution_count": null,
   "metadata": {},
   "outputs": [],
   "source": []
  },
  {
   "cell_type": "markdown",
   "metadata": {},
   "source": [
    "# Visualize "
   ]
  },
  {
   "cell_type": "code",
   "execution_count": 5,
   "metadata": {
    "scrolled": false
   },
   "outputs": [
    {
     "data": {
      "text/plain": [
       "<matplotlib.axes._subplots.AxesSubplot at 0x7fb696156cd0>"
      ]
     },
     "execution_count": 5,
     "metadata": {},
     "output_type": "execute_result"
    },
    {
     "name": "stdout",
     "output_type": "stream",
     "text": [
      "findfont: Matching :family=sans-serif:style=normal:variant=normal:weight=normal:stretch=normal:size=10.0 to DejaVu Sans (u'/home/ikea/.local/lib/python3.6/site-packages/matplotlib/mpl-data/fonts/ttf/DejaVuSans.ttf') with score of 0.050000\n"
     ]
    },
    {
     "data": {
      "image/png": "[encoded data removed]",
      "text/plain": [
       "<Figure size 432x288 with 1 Axes>"
      ]
     },
     "metadata": {
      "needs_background": "light"
     },
     "output_type": "display_data"
    }
   ],
   "source": [
    "import pandas\n",
    "import numpy as np\n",
    "index= ['suko',\"shaker\", \"best\",\"shaker_plain\",'real',\"no_shape\"]\n",
    "data = map(lambda x: [x[k] for k in keys] ,[acc_suko, acc_shaker,acc_thoretical_best,acc_shaker_plain, acc_real, acc_noshape])\n",
    "\n",
    "#import notebook_helper as nbh\n",
    "#nbh.boxplotDraw(data,index,\"i am the fig title\",\"\",\"FUCKOFF\")\n",
    "\n",
    "import seaborn as sns\n",
    "sns.boxplot(data=pandas.DataFrame(data[:3], index=index[:3]).T)\n",
    "\n",
    "plt.title(\"SOME TITLE\")\n",
    "plt.grid()"
   ]
  },
  {
   "cell_type": "code",
   "execution_count": 6,
   "metadata": {},
   "outputs": [
    {
     "data": {
      "image/png": "[encoded data removed]",
      "text/plain": [
       "<Figure size 432x288 with 1 Axes>"
      ]
     },
     "metadata": {
      "needs_background": "light"
     },
     "output_type": "display_data"
    }
   ],
   "source": [
    "sns.boxplot(data=pandas.DataFrame(data[3:], index=index[3:]).T)\n",
    "plt.title(\"SOME TITLE\")\n",
    "plt.grid()"
   ]
  },
  {
   "cell_type": "code",
   "execution_count": 7,
   "metadata": {},
   "outputs": [
    {
     "name": "stdout",
     "output_type": "stream",
     "text": [
      "\\begin{tabular}{lrrrrrr}\n",
      "\\toprule\n",
      "{} &      suko &    shaker &      best &  shaker\\_plain &      real &  no\\_shape \\\\\n",
      "\\midrule\n",
      "TRP5       &  0.838909 &  0.901676 &  0.958850 &      0.898397 &  0.821419 &  0.838098 \\\\\n",
      "5srRNA     &  0.923128 &  0.930797 &  0.997156 &      0.257348 &  0.252744 &  0.260634 \\\\\n",
      "GLYCFN     &  0.931366 &  0.983152 &  0.999256 &      0.410720 &  0.000000 &  0.565605 \\\\\n",
      "RNAsep     &  0.693169 &  0.685207 &  0.766092 &      0.681290 &  0.676623 &  0.530544 \\\\\n",
      "adenin     &  0.958671 &  0.988319 &  0.999496 &      0.988029 &  0.981553 &  0.871697 \\\\\n",
      "Z-CIDGMP-1 &  0.672669 &  0.839113 &  0.987850 &      0.772223 &  0.759976 &  0.727020 \\\\\n",
      "ZHCV       &  0.890160 &  0.808637 &  0.904532 &      0.835880 &  0.533042 &  0.744884 \\\\\n",
      "MDLOOP     &  0.999780 &  0.997989 &  0.999880 &      0.997949 &  0.991718 &  0.988975 \\\\\n",
      "srRNA      &  0.936818 &  0.800447 &  0.971363 &      0.278642 &  0.849606 &  0.274786 \\\\\n",
      "p564       &  0.937610 &  0.895183 &  0.947829 &      0.644343 &  0.904553 &  0.625162 \\\\\n",
      "tRNAphe    &  0.992698 &  0.991503 &  0.999126 &      0.881890 &  0.995362 &  0.504352 \\\\\n",
      "ZGLY       &  0.849932 &  0.910799 &  0.999241 &      0.426723 &  0.862487 &  0.482860 \\\\\n",
      "ADDRSW     &  0.965411 &  0.992593 &  0.999629 &      0.992004 &  0.987444 &  0.872423 \\\\\n",
      "tRNA-asp   &  0.807830 &  0.839590 &  0.948568 &      0.497654 &  0.550157 &  0.518002 \\\\\n",
      "mean       &  0.885582 &  0.897500 &  0.962776 &      0.683078 &  0.726192 &  0.628932 \\\\\n",
      "\\bottomrule\n",
      "\\end{tabular}\n",
      "\n"
     ]
    }
   ],
   "source": [
    "\n",
    "map(lambda x:x.append(np.mean(x)),data)\n",
    "df = pandas.DataFrame(data, columns=keys+['mean'], index=index).T\n",
    "\n",
    "print df.to_latex()"
   ]
  },
  {
   "cell_type": "code",
   "execution_count": 8,
   "metadata": {},
   "outputs": [
    {
     "name": "stdout",
     "output_type": "stream",
     "text": [
      "|            |     suko |   shaker |     best |   shaker_plain |     real |   no_shape |\n",
      "|------------+----------+----------+----------+----------------+----------+------------|\n",
      "| TRP5       | 0.838909 | 0.901676 | 0.95885  |       0.898397 | 0.821419 |   0.838098 |\n",
      "| 5srRNA     | 0.923128 | 0.930797 | 0.997156 |       0.257348 | 0.252744 |   0.260634 |\n",
      "| GLYCFN     | 0.931366 | 0.983152 | 0.999256 |       0.41072  | 0        |   0.565605 |\n",
      "| RNAsep     | 0.693169 | 0.685207 | 0.766092 |       0.68129  | 0.676623 |   0.530544 |\n",
      "| adenin     | 0.958671 | 0.988319 | 0.999496 |       0.988029 | 0.981553 |   0.871697 |\n",
      "| Z-CIDGMP-1 | 0.672669 | 0.839113 | 0.98785  |       0.772223 | 0.759976 |   0.72702  |\n",
      "| ZHCV       | 0.89016  | 0.808637 | 0.904532 |       0.83588  | 0.533042 |   0.744884 |\n",
      "| MDLOOP     | 0.99978  | 0.997989 | 0.99988  |       0.997949 | 0.991718 |   0.988975 |\n",
      "| srRNA      | 0.936818 | 0.800447 | 0.971363 |       0.278642 | 0.849606 |   0.274786 |\n",
      "| p564       | 0.93761  | 0.895183 | 0.947829 |       0.644343 | 0.904553 |   0.625162 |\n",
      "| tRNAphe    | 0.992698 | 0.991503 | 0.999126 |       0.88189  | 0.995362 |   0.504352 |\n",
      "| ZGLY       | 0.849932 | 0.910799 | 0.999241 |       0.426723 | 0.862487 |   0.48286  |\n",
      "| ADDRSW     | 0.965411 | 0.992593 | 0.999629 |       0.992004 | 0.987444 |   0.872423 |\n",
      "| tRNA-asp   | 0.80783  | 0.83959  | 0.948568 |       0.497654 | 0.550157 |   0.518002 |\n",
      "| mean       | 0.885582 | 0.8975   | 0.962776 |       0.683078 | 0.726192 |   0.628932 |\n"
     ]
    }
   ],
   "source": [
    "from tabulate import tabulate \n",
    "print tabulate(df, headers=\"keys\", tablefmt=\"orgtbl\")"
   ]
  },
  {
   "cell_type": "markdown",
   "metadata": {},
   "source": [
    "---"
   ]
  }
 ],
 "metadata": {
  "kernelspec": {
   "display_name": "Python 2",
   "language": "python",
   "name": "python2"
  },
  "language_info": {
   "codemirror_mode": {
    "name": "ipython",
    "version": 2
   },
   "file_extension": ".py",
   "mimetype": "text/x-python",
   "name": "python",
   "nbconvert_exporter": "python",
   "pygments_lexer": "ipython2",
   "version": "2.7.15rc1"
  }
 },
 "nbformat": 4,
 "nbformat_minor": 2
}
