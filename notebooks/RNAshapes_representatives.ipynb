{
 "cells": [
  {
   "cell_type": "code",
   "execution_count": 1,
   "metadata": {
    "scrolled": true
   },
   "outputs": [
    {
     "data": {
      "application/javascript": [
       "IPython.notebook.set_autosave_interval(0)"
      ]
     },
     "metadata": {},
     "output_type": "display_data"
    },
    {
     "name": "stdout",
     "output_type": "stream",
     "text": [
      "Autosave disabled\n"
     ]
    },
    {
     "data": {
      "text/html": [
       "<style>.container { width:95% !important; }</style><style>.output_png {display: table-cell;text-align: center;vertical-align: middle;}</style>"
      ],
      "text/plain": [
       "<IPython.core.display.HTML object>"
      ]
     },
     "execution_count": 1,
     "metadata": {},
     "output_type": "execute_result"
    }
   ],
   "source": [
    "%load_ext autoreload\n",
    "%autoreload 2\n",
    "%matplotlib inline\n",
    "%autosave 0\n",
    "from eden.util import configure_logging\n",
    "import logging\n",
    "configure_logging(logging.getLogger(),verbosity=3)\n",
    "\n",
    "import sys\n",
    "sys.path.insert(0,'..')\n",
    "\n",
    "from IPython.core.display import HTML\n",
    "HTML('<style>.container { width:95% !important; }</style><style>.output_png {display: table-cell;text-align: center;vertical-align: middle;}</style>')\n"
   ]
  },
  {
   "cell_type": "code",
   "execution_count": 2,
   "metadata": {},
   "outputs": [
    {
     "name": "stdout",
     "output_type": "stream",
     "text": [
      "data for 'tRNA-asp' is corrupted, ignoring...\n",
      "done\n"
     ]
    }
   ],
   "source": [
    "# LOAD DATA\n",
    "#{seqname:[shapearray, sequence, structure]}\n",
    "\n",
    "import rna_io\n",
    "data = rna_io.get_all_data('../data/RNA16.react', '../data/RNA16.dbn')\n",
    "data.pop(\"R009\")\n",
    "data.pop(\"23sRNA\")\n",
    "'''\n",
    "data.pop(\"ADDRSW\")\n",
    "data.pop(\"GLYCFN\")\n",
    "data.pop(\"RNAsep\")\n",
    "data.pop(\"ZHCV\")\n",
    "data.pop(\"adenin\")\n",
    "'''\n",
    "print \"done\"\n"
   ]
  },
  {
   "cell_type": "code",
   "execution_count": 3,
   "metadata": {
    "scrolled": false
   },
   "outputs": [
    {
     "name": "stdout",
     "output_type": "stream",
     "text": [
      "data for 'tRNA-asp' is corrupted, ignoring...\n"
     ]
    },
    {
     "ename": "NameError",
     "evalue": "name 'keys' is not defined",
     "output_type": "error",
     "traceback": [
      "\u001b[0;31m---------------------------------------------------------------------------\u001b[0m",
      "\u001b[0;31mNameError\u001b[0m                                 Traceback (most recent call last)",
      "\u001b[0;32m<ipython-input-3-5630397cb995>\u001b[0m in \u001b[0;36m<module>\u001b[0;34m()\u001b[0m\n\u001b[1;32m    156\u001b[0m \u001b[0;34m\u001b[0m\u001b[0m\n\u001b[1;32m    157\u001b[0m \u001b[0;34m\u001b[0m\u001b[0m\n\u001b[0;32m--> 158\u001b[0;31m \u001b[0mrun_all_analysis\u001b[0m\u001b[0;34m(\u001b[0m\u001b[0mlist\u001b[0m\u001b[0;34m(\u001b[0m\u001b[0msr\u001b[0m\u001b[0;34m.\u001b[0m\u001b[0mcrosspredict\u001b[0m\u001b[0;34m(\u001b[0m\u001b[0mdata\u001b[0m\u001b[0;34m,\u001b[0m \u001b[0mkeys\u001b[0m\u001b[0;34m,\u001b[0m \u001b[0mseq_to_db_function\u001b[0m\u001b[0;34m=\u001b[0m \u001b[0;32mlambda\u001b[0m \u001b[0mseq\u001b[0m\u001b[0;34m:\u001b[0m\u001b[0;34m[\u001b[0m\u001b[0mrna_tools\u001b[0m\u001b[0;34m.\u001b[0m\u001b[0mfold\u001b[0m\u001b[0;34m(\u001b[0m\u001b[0mseq\u001b[0m\u001b[0;34m)\u001b[0m\u001b[0;34m]\u001b[0m\u001b[0;34m)\u001b[0m\u001b[0;34m)\u001b[0m\u001b[0;34m,\u001b[0m \u001b[0;34m'RNAfold'\u001b[0m\u001b[0;34m)\u001b[0m\u001b[0;34m\u001b[0m\u001b[0m\n\u001b[0m\u001b[1;32m    159\u001b[0m \u001b[0;34m\u001b[0m\u001b[0m\n\u001b[1;32m    160\u001b[0m \u001b[0;34m\u001b[0m\u001b[0m\n",
      "\u001b[0;31mNameError\u001b[0m: name 'keys' is not defined"
     ]
    }
   ],
   "source": [
    "# TRAIN ON N-1, predict on rest\n",
    "import simushape_representatives as sr\n",
    "import rna_tools\n",
    "import collections\n",
    "import matplotlib.pyplot as plt\n",
    "from scipy.stats import pearsonr as pear\n",
    "import sukosd\n",
    "import rna_io\n",
    "import numpy as np\n",
    "\n",
    "\n",
    "data = rna_io.get_all_data('../data/RNA16.react', '../data/RNA16.dbn') # for Sukosd\n",
    "\n",
    "#predictions = list(sr.crosspredict(data, keys, seq_to_db_function=rna_tools.rnashapes, cutoff=0.0000000001))\n",
    "\n",
    "\n",
    "def run_all_analysis(cross_predictions_list,fig_title, Sukosd=None):\n",
    "    \n",
    "    data.pop(\"R009\",None) # we use this with the same trainig set to call run_all_analysis(something, 'Realstructure-Shaker-Z-sametrain')\n",
    "    data.pop(\"23sRNA\",None) # we use this with the same trainig set to call run_all_analysis(something, 'Realstructure-Shaker-Z-sametrain')\n",
    "    pmfereallist = []                                                                                                                                                      \n",
    "    pmfesimulist = []\n",
    "    psimureallist = []\n",
    "    keys= data.keys()\n",
    "    print \"keys : \", keys\n",
    "    \n",
    "    # FOR ALL seqyences\n",
    "    for i, key in enumerate(keys):\n",
    "        # GET ACCessibility for sequence\n",
    "        mfelist = rna_tools.soheilas_plfold(data[key][1])# Probability of each nucleotide in sequence (data[key][1]) \n",
    "        # GET accessibility with ... sequence and real SHAPE data\n",
    "        realShapelist = rna_tools.soheilas_plfold(data[key][1], data[key][0]) \n",
    "        #GET ACCESSIBILITY sequcence and simulated shape data\n",
    "        if Sukosd == None:\n",
    "            simuShapelist = rna_tools.soheilas_plfold(data[key][1], cross_predictions_list[i]) #name of reactvity file \n",
    "            \n",
    "        # compute pearson correlation between probabilities computed between MFE, simu, realshape\n",
    "        else: simuShapelist = rna_tools.soheilas_plfold(data[key][1], cross_predictions_list[key])\n",
    "        pmfereal = pear(mfelist,realShapelist)[0]\n",
    "        pmfesimu = pear(mfelist,simuShapelist)[0]\n",
    "        psimureal = pear(simuShapelist,realShapelist)[0]\n",
    "        #list of all MFE (simu or real) of all sequences\n",
    "        pmfereallist.append(pmfereal)\n",
    "        pmfesimulist.append(pmfesimu)\n",
    "        psimureallist.append(psimureal)\n",
    "\n",
    "       \n",
    "    print \n",
    "    print ('*******  ', fig_title, '******* ')\n",
    "    print \"Results: ENS&realShape ENS&simu simu&realShape\"\n",
    "    print\n",
    "\n",
    "    #print correlations with RNA names\n",
    "    for i, key in enumerate(keys):\n",
    "        print \"%s\\t\\t\\t%0.2f\\t%0.2f\\t%0.2f\" % (key, pmfereallist[i], pmfesimulist[i], psimureallist[i])\n",
    "    \n",
    "    \n",
    "     #*******************************+\n",
    "    corrData = [pmfereallist, pmfesimulist, psimureallist]\n",
    "    \n",
    "    fig = plt.figure(figsize=(8,6))\n",
    "\n",
    "    plt.boxplot(corrData, 0, 'rs', 1)\n",
    "    plt.xticks([y+1 for y in range(len(corrData))], ['ENS&RealShape', 'ENS&SimuShape', 'SimuShape&RealShape'])\n",
    "    plt.xlabel(fig_title)\n",
    "    plt.ylim([0, 1])\n",
    "    #*************************************1111111111111111\n",
    "    \n",
    "    ax = fig.add_subplot(1, 1, 1)\n",
    "\n",
    "    # Major ticks every 20, minor ticks every 5\n",
    "    major_ticks = np.arange(0, 1, 0.05)\n",
    "    minor_ticks = np.arange(0, 1, 0.05)\n",
    "\n",
    "    #ax.set_xticks(major_ticks)\n",
    "    #ax.set_xticks(minor_ticks, minor=True)\n",
    "    ax.set_yticks(major_ticks)\n",
    "    ax.set_yticks(minor_ticks, minor=True)\n",
    "\n",
    "    # And a corresponding grid\n",
    "    ax.grid(which='both')\n",
    "\n",
    "    # Or if you want different settings for the grids:\n",
    "    ax.grid(which='minor', alpha=0.2)\n",
    "    ax.grid(which='major', alpha=0.2)\n",
    "    \n",
    "    plt.boxplot(corrData, 0, 'rs', 1)\n",
    "    plt.scatter([1,2,3], [np.mean(x) for x in corrData] )\n",
    "    plt.xticks([y+1 for y in range(len(corrData))], ['ENS&RealShape', 'ENS&SimuShape', 'SimuShape&RealShape'])\n",
    "    plt.xlabel(fig_title)\n",
    "    plt.ylim([0, 1])\n",
    "    \n",
    "    \n",
    "    \n",
    "    #plt.grid(True, axis='y', alpha=0.05)\n",
    "        \n",
    "    #plt.grid(True, linestyle='-', which='major', color='lightgrey',alpha=0.5)\n",
    "    #plt.grid(True, axis='y')\n",
    "    #*****************************************11111111111111111\n",
    "    \n",
    "    t = plt.title('Correlations between 2 of 3 ENS, SimuShape, RealShape')\n",
    "    fig.savefig(fig_title + '-Correlations.png', bbox_inches='tight')\n",
    "    plt.show()\n",
    "    \n",
    "     #*******************************+\n",
    "        \n",
    "        \n",
    "    #4*4*******************************\n",
    "    \n",
    "    #for i, key in enumerate(keys):\n",
    "     #   print \"cross_predictions_list[i]\", cross_predictions_list[i]\n",
    "            \n",
    "    j=0\n",
    "    k=0\n",
    "    fig, axes = plt.subplots(nrows=5, ncols=3, figsize=(20, 30))\n",
    "    for i, key in enumerate(keys):\n",
    "        if i==0: k=0\n",
    "        elif (i!=0)&(i%3==0):\n",
    "            j=j+1\n",
    "            k=0\n",
    "        else: k=k+1\n",
    "        print j, k, 'j, k'           \n",
    "        mydata = [x for x in data[key][0] if x != None]\n",
    "        if Sukosd !=None:\n",
    "            ddata=[mydata, cross_predictions_list[key]]\n",
    "        else: ddata=[mydata, cross_predictions_list[i]]\n",
    "        axes[j, k].boxplot(ddata, labels=['RealShape', 'SimuShape'])\n",
    "        axes[j, k].set_title('Comparison of SHAPE computed by (' + fig_title + ') for ' + key + 'length of' + str(len(cross_predictions_list[i]))) #Comparison of reactivities of RealShape and SimuShape (computed by ' + fig_title + ') for ' + key\n",
    "          \n",
    "    plt.show()\n",
    "    fig.savefig(fig_title + '-Reactivities.png', bbox_inches='tight')\n",
    "    \n",
    "    \n",
    "     #4*4*******************************\n",
    "   \n",
    "'''\n",
    "    #print \"\\t\\t%0.2f\\t%0.2f\\t%0.2f\" % (np.mean(np.array(pmfereallist)), np.mean(np.array(pmfesimulist)), np.mean(np.array(psimureallist)))\n",
    "    for i, key in enumerate(keys):\n",
    "        mydata = [x for x in data[key][0] if x != None]\n",
    "        ddata=[mydata, cross_predictions_list[i]]\n",
    "        mpl_fig = plt.figure(figsize=(8,6))\n",
    "        plt.boxplot(ddata, 0, 'rs', 1)\n",
    "        plt.xticks([y+1 for y in range(len(ddata))], ['RealShape', 'SimuShape'])\n",
    "        plt.xlabel(key)\n",
    "        t = plt.title('Comparison of reactivities of RealShape and SimuShape (computed by ' + fig_title + ')')\n",
    "        plt.show()\n",
    "   ''' \n",
    "\n",
    "    \n",
    "#predictionsSoheilaRNAstructure = list(sr.crosspredict(data, keys, seq_to_db_function=rna_tools.soheilas_workaround, cutoff=0.0000000001))\n",
    "\n",
    "# predictionsSoheila = list(sr.crosspredict(data, keys, seq_to_db_function= lambda seq:[rna_tools.fold(seq)], cutoff=0.0000000001))\n",
    "#predictionsSoheila = list(sr.crosspredict(data, keys, seq_to_db_function=rna_tools.rnasubopt, cutoff=0.0000000001))\n",
    "#print \"predictionsSoheila  \", predictionsSoheila\n",
    "#probabilitySoheila = list(sr.crosspredict(data, keys, seq_to_db_function=rna_tools.soheilas_plfold, cutoff=0.0000000001))\n",
    "\n",
    "\n",
    "run_all_analysis(list(sr.crosspredict(data, data.keys, seq_to_db_function= lambda seq:[rna_tools.fold(seq)])), 'RNAfold')\n",
    "\n",
    "\n",
    "#run_all_analysis(list(sr.crosspredictInter(data, keys, seq_to_db_function= lambda seq:[rna_tools.fold(seq)])), 'RNAfold')#intermediate\n",
    "\n",
    "\n",
    "\n",
    "# need function sequence -> real structure\n",
    "#  {seqname:[react, sequence, dotbracketstring]}\n",
    "\n",
    "trick= { sequence : [stru] for react, sequence, stru in data.values() }\n",
    "get_real_struct = lambda seq : trick[seq] \n",
    "#run_all_analysis(list(sr.crosspredict(data, keys, seq_to_db_function = get_real_struct)), 'Realstructure-Shaker-Z')\n",
    "something = {a:b for a,b in sr.modelpredict(data, keys)}\n",
    "\n",
    "#run_all_analysis(something, 'Realstructure-Shaker-Z-sametrain', 1) #change the model for training\n",
    "\n",
    "\n",
    "\n",
    "'''\n",
    "#Sukosd with RNAfold\n",
    "SukosdShapeList = []\n",
    "for i, key in enumerate(keys):\n",
    "    structure = rna_tools.fold(data[key][1])\n",
    "    #print \"structure : \", structure\n",
    "    SukosdShape = sukosd.sukosd(structure)\n",
    "    #print SukosdShape\n",
    "    SukosdShapeList.append(SukosdShape)\n",
    "print SukosdShapeList\n",
    "run_all_analysis(SukosdShapeList, 'RNAfold') \n",
    "'''\n",
    "\n",
    "'''\n",
    "#Sukosd with real strutcure\n",
    "SukosdShapeList = {}\n",
    "for i, key in enumerate(keys):\n",
    "    structure = data[key][2]\n",
    "    #print \"structure : \", structure\n",
    "    SukosdShape = sukosd.sukosd(structure)\n",
    "    #print SukosdShape\n",
    "    SukosdShapeList[key]= SukosdShape\n",
    "print SukosdShapeList\n",
    "\n",
    "run_all_analysis(SukosdShapeList, 'RealStructure-Sukosd-Z') \n",
    "'''\n",
    "\n",
    "'''\n",
    "This is not logical.\n",
    "averaged mean is necessary \n",
    "for i, key in enumerate(keys):\n",
    "    structures = rna_tools.rnasubopt(data[key][1])\n",
    "    #print \"structures : \", structures\n",
    "    for j, structure in enumerate(structures):\n",
    "        print \"i : \", i\n",
    "        print \"j : \", j\n",
    "        print \"structure : \", structure\n",
    "        SukosdShape = sukosd.sukosd(structure)\n",
    "        print SukosdShape\n",
    "run_all_analysis(SukosdShape, 'RNAsubopt') \n",
    "'''\n",
    "\n",
    "\n"
   ]
  },
  {
   "cell_type": "code",
   "execution_count": null,
   "metadata": {
    "scrolled": false
   },
   "outputs": [],
   "source": [
    "print trick"
   ]
  },
  {
   "cell_type": "code",
   "execution_count": null,
   "metadata": {},
   "outputs": [],
   "source": [
    "\n",
    "run_all_analysis(list(sr.crosspredict(data, keys, seq_to_db_function=rna_tools.rnasubopt)), 'RNAsubopt')\n",
    "\n"
   ]
  },
  {
   "cell_type": "code",
   "execution_count": null,
   "metadata": {},
   "outputs": [],
   "source": [
    "asdkja\n",
    "asdkkjsa\n",
    "asda\n"
   ]
  },
  {
   "cell_type": "code",
   "execution_count": null,
   "metadata": {},
   "outputs": [],
   "source": [
    "import rna_tools as rt\n",
    "\n",
    "# EVALUATE \n",
    "for key,prediction in zip(keys,predictionsSoheila):\n",
    "    proba = rt.probability(data[key][2],data[key][1])\n",
    "    annproba = rt.probability(data[key][2],data[key][1], prediction)\n",
    "    realReactProb = rt.probability(data[key][2],data[key][1],data[key][0])\n",
    "    print \"%s\\t%0.9f\\t%0.9f\\t%0.9f\\t%d\\t%d\\t%d\" % (key, proba, annproba,  realReactProb, proba < annproba or realReactProb < annproba, data[key][2] == rt.fold(data[key][1]), realReactProb < annproba)\n",
    "    "
   ]
  },
  {
   "cell_type": "code",
   "execution_count": null,
   "metadata": {},
   "outputs": [],
   "source": [
    "# todo: subopt, regressor"
   ]
  }
 ],
 "metadata": {
  "kernelspec": {
   "display_name": "Python 2",
   "language": "python",
   "name": "python2"
  },
  "language_info": {
   "codemirror_mode": {
    "name": "ipython",
    "version": 2
   },
   "file_extension": ".py",
   "mimetype": "text/x-python",
   "name": "python",
   "nbconvert_exporter": "python",
   "pygments_lexer": "ipython2",
   "version": "2.7.11"
  }
 },
 "nbformat": 4,
 "nbformat_minor": 2
}
