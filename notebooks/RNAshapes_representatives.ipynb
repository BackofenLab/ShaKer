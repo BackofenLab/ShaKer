{
 "cells": [
  {
   "cell_type": "code",
   "execution_count": 1,
   "metadata": {
    "collapsed": false,
    "deletable": true,
    "editable": true
   },
   "outputs": [
    {
     "data": {
      "application/javascript": [
       "IPython.notebook.set_autosave_interval(0)"
      ]
     },
     "metadata": {},
     "output_type": "display_data"
    },
    {
     "name": "stdout",
     "output_type": "stream",
     "text": [
      "Autosave disabled\n"
     ]
    },
    {
     "data": {
      "text/html": [
       "<style>.container { width:95% !important; }</style><style>.output_png {display: table-cell;text-align: center;vertical-align: middle;}</style>"
      ],
      "text/plain": [
       "<IPython.core.display.HTML object>"
      ]
     },
     "execution_count": 1,
     "metadata": {},
     "output_type": "execute_result"
    }
   ],
   "source": [
    "%load_ext autoreload\n",
    "%autoreload 2\n",
    "%matplotlib inline\n",
    "%autosave 0\n",
    "from eden.util import configure_logging\n",
    "import logging\n",
    "configure_logging(logging.getLogger(),verbosity=3)\n",
    "\n",
    "import sys\n",
    "sys.path.insert(0,'..')\n",
    "\n",
    "from IPython.core.display import HTML\n",
    "HTML('<style>.container { width:95% !important; }</style><style>.output_png {display: table-cell;text-align: center;vertical-align: middle;}</style>')\n"
   ]
  },
  {
   "cell_type": "code",
   "execution_count": 2,
   "metadata": {
    "collapsed": false,
    "deletable": true,
    "editable": true
   },
   "outputs": [
    {
     "name": "stdout",
     "output_type": "stream",
     "text": [
      "data for 'tRNA-asp' is corrupted, ignoring...\n",
      "done\n"
     ]
    }
   ],
   "source": [
    "# LOAD DATA\n",
    "#{seqname:[shapearray, sequence, structure]}\n",
    "\n",
    "import rna_io\n",
    "data = rna_io.get_all_data('../data/RNA16.react', '../data/RNA16.dbn')\n",
    "data.pop(\"R009\")\n",
    "data.pop(\"23sRNA\")\n",
    "print \"done\"\n"
   ]
  },
  {
   "cell_type": "code",
   "execution_count": 3,
   "metadata": {
    "collapsed": false,
    "deletable": true,
    "editable": true
   },
   "outputs": [],
   "source": [
    "# TRAIN ON N-1, predict on rest\n",
    "import simushape_representatives as sr\n",
    "keys= data.keys()\n",
    "predictions = list(sr.crosspredict(data, keys,cutoff=0.0000000001))\n"
   ]
  },
  {
   "cell_type": "code",
   "execution_count": 4,
   "metadata": {
    "collapsed": false,
    "deletable": true,
    "editable": true
   },
   "outputs": [
    {
     "name": "stderr",
     "output_type": "stream",
     "text": [
      "../rna_tools.py:33: FutureWarning: comparison to `None` will result in an elementwise object comparison in the future.\n",
      "  if react==None:\n",
      "../rna_tools.py:43: FutureWarning: comparison to `None` will result in an elementwise object comparison in the future.\n",
      "  if react == None:\n"
     ]
    },
    {
     "name": "stdout",
     "output_type": "stream",
     "text": [
      "0.228434512\t0.614614446\t0.371671237\t1\t1\n",
      "0.000000803\t0.000000000\t735244054616.599121094\t0\t0\n",
      "0.060386882\t0.321173558\t0.188019469\t1\t1\n",
      "0.000000000\t0.000000000\t6.055775599\t0\t0\n",
      "0.000022349\t0.000044902\t0.497733985\t1\t0\n",
      "0.000000010\t0.000000000\t98.668969886\t0\t0\n",
      "0.235968953\t0.634886238\t0.371671237\t1\t1\n",
      "0.000035202\t0.000000001\t49319.497386231\t0\t0\n",
      "0.000000050\t0.000000000\t5699.335571254\t0\t0\n",
      "0.000000069\t0.000000000\t1969843914.578686714\t0\t0\n",
      "0.096670345\t0.123308179\t0.783973498\t1\t0\n",
      "0.000000381\t0.000000000\t3336.470342538\t0\t0\n",
      "0.000000000\t0.000000000\t9735.565618440\t0\t0\n"
     ]
    }
   ],
   "source": [
    "import rna_tools as rt\n",
    "\n",
    "# EVALUATE \n",
    "for key,prediction in zip(keys,predictions):\n",
    "    proba = rt.probability(data[key][2],data[key][1])\n",
    "    annproba = rt.probability(data[key][2],data[key][1], prediction)\n",
    "    print \"%0.9f\\t%0.9f\\t%0.9f\\t%d\\t%d\" % (proba, annproba, proba/annproba,  proba < annproba , data[key][2] == rt.fold(data[key][1]))"
   ]
  },
  {
   "cell_type": "code",
   "execution_count": null,
   "metadata": {
    "collapsed": true
   },
   "outputs": [],
   "source": [
    "# todo: subopt, regressor"
   ]
  }
 ],
 "metadata": {
  "kernelspec": {
   "display_name": "Python 2",
   "language": "python",
   "name": "python2"
  },
  "language_info": {
   "codemirror_mode": {
    "name": "ipython",
    "version": 2
   },
   "file_extension": ".py",
   "mimetype": "text/x-python",
   "name": "python",
   "nbconvert_exporter": "python",
   "pygments_lexer": "ipython2",
   "version": "2.7.12"
  }
 },
 "nbformat": 4,
 "nbformat_minor": 2
}
