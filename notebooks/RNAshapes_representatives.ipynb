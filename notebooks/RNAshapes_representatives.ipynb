{
 "cells": [
  {
   "cell_type": "code",
   "execution_count": null,
   "metadata": {
    "collapsed": false,
    "deletable": true,
    "editable": true
   },
   "outputs": [],
   "source": [
    "%load_ext autoreload\n",
    "%autoreload 2\n",
    "%matplotlib inline\n",
    "%autosave 0\n",
    "from eden.util import configure_logging\n",
    "import logging\n",
    "configure_logging(logging.getLogger(),verbosity=3)\n",
    "\n",
    "import sys\n",
    "sys.path.insert(0,'..')\n",
    "\n",
    "from IPython.core.display import HTML\n",
    "HTML('<style>.container { width:95% !important; }</style><style>.output_png {display: table-cell;text-align: center;vertical-align: middle;}</style>')\n"
   ]
  },
  {
   "cell_type": "code",
   "execution_count": null,
   "metadata": {
    "collapsed": false,
    "deletable": true,
    "editable": true
   },
   "outputs": [],
   "source": [
    "# LOAD DATA\n",
    "#{seqname:[shapearray, sequence, structure]}\n",
    "\n",
    "import rna_io\n",
    "data = rna_io.get_all_data('../data/RNA16.react', '../data/RNA16.dbn')\n",
    "data.pop(\"R009\")\n",
    "data.pop(\"23sRNA\")\n",
    "print \"done\"\n"
   ]
  },
  {
   "cell_type": "code",
   "execution_count": null,
   "metadata": {
    "collapsed": false,
    "deletable": true,
    "editable": true
   },
   "outputs": [],
   "source": [
    "# TRAIN ON N-1, predict on rest\n",
    "import simushape_representatives as sr\n",
    "import rna_tools\n",
    "keys= data.keys()\n",
    "predictions = list(sr.crosspredict(data, keys, seq_to_db_function=rna_tools.rnashapes,cutoff=0.0000000001))\n"
   ]
  },
  {
   "cell_type": "code",
   "execution_count": null,
   "metadata": {
    "collapsed": false,
    "deletable": true,
    "editable": true
   },
   "outputs": [],
   "source": [
    "import rna_tools as rt\n",
    "\n",
    "# EVALUATE \n",
    "for key,prediction in zip(keys,predictions):\n",
    "    proba = rt.probability(data[key][2],data[key][1])\n",
    "    annproba = rt.probability(data[key][2],data[key][1], prediction)\n",
    "    print \"%0.9f\\t%0.9f\\t%0.9f\\t%d\\t%d\" % (proba, annproba, proba/annproba,  proba < annproba , data[key][2] == rt.fold(data[key][1]))"
   ]
  },
  {
   "cell_type": "code",
   "execution_count": null,
   "metadata": {
    "collapsed": true,
    "deletable": true,
    "editable": true
   },
   "outputs": [],
   "source": [
    "# todo: subopt, regressor"
   ]
  }
 ],
 "metadata": {
  "kernelspec": {
   "display_name": "Python 2",
   "language": "python",
   "name": "python2"
  },
  "language_info": {
   "codemirror_mode": {
    "name": "ipython",
    "version": 2
   },
   "file_extension": ".py",
   "mimetype": "text/x-python",
   "name": "python",
   "nbconvert_exporter": "python",
   "pygments_lexer": "ipython2",
   "version": "2.7.12"
  }
 },
 "nbformat": 4,
 "nbformat_minor": 2
}
