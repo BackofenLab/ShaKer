{
 "cells": [
  {
   "cell_type": "markdown",
   "metadata": {},
   "source": [
    "# does it make sense to ingnore the structure??"
   ]
  },
  {
   "cell_type": "code",
   "execution_count": null,
   "metadata": {
    "attributes": {
     "classes": [],
     "id": "",
     "n": "1"
    }
   },
   "outputs": [],
   "source": [
    "%load_ext autoreload\n",
    "%autoreload 2\n",
    "%matplotlib inline\n",
    "from eden.util import configure_logging\n",
    "import logging\n",
    "configure_logging(logging.getLogger(),verbosity=3)\n",
    "from IPython.core.display import HTML\n",
    "HTML('<style>.container { width:95% !important; }</style><style>.output_png {display: table-cell;text-align: center;vertical-align: middle;}</style>')\n",
    "import matplotlib.pyplot as plt"
   ]
  },
  {
   "cell_type": "markdown",
   "metadata": {},
   "source": [
    "# Load data"
   ]
  },
  {
   "cell_type": "code",
   "execution_count": null,
   "metadata": {
    "scrolled": true
   },
   "outputs": [],
   "source": [
    "import ShaKer.rna_tools.rna_io as rio\n",
    "\n",
    "def getdata():\n",
    "    return rio.get_all_data(\"../data/RNA16.react\",\"../data/RNA16.dbn\")  # {key: rea, seq, stru}\n",
    "\n",
    "data = getdata()\n",
    "dataflat = {k:(data[k][0],data[k][1],'.'*len(data[k][1]) ) for k in data}\n",
    "\n",
    "print dataflat"
   ]
  },
  {
   "cell_type": "markdown",
   "metadata": {},
   "source": [
    "# train predict"
   ]
  },
  {
   "cell_type": "code",
   "execution_count": null,
   "metadata": {},
   "outputs": [],
   "source": [
    "import ShaKer.simushape as sim\n",
    "from ShaKer.rna_tools.rnaplfold import rnaplfold\n",
    "\n",
    "\n",
    "model  = sim.make_model(data,['23sRNA','R009'])\n",
    "model2  = sim.make_model(dataflat,['23sRNA','R009'])\n",
    "\n",
    "data.pop(\"23sRNA\")\n",
    "data.pop(\"R009\")\n",
    "dataflat.pop(\"23sRNA\")\n",
    "dataflat.pop(\"R009\")\n",
    "\n",
    "\n",
    "\n",
    "keys = data.keys()\n",
    "\n",
    "def get_str(seq):\n",
    "    return ['.'*len(seq)]\n",
    "\n",
    "    \n",
    "predictions =     { k: (data[k][1],sim.predict(model,data[k][1])) for k in keys  }\n",
    "predictions_nostr = { k: (data[k][1],sim.predict(model2,data[k][1], seq_to_db_function=get_str)) for k in keys  }\n",
    "\n",
    "acc_shaker = {k: rnaplfold(*predictions[k]) for  k in keys} \n",
    "acc_shaker_nostr = {k: rnaplfold(*predictions_nostr[k]) for  k in keys} \n"
   ]
  },
  {
   "cell_type": "code",
   "execution_count": null,
   "metadata": {},
   "outputs": [],
   "source": [
    "from scipy.stats import spearmanr as spear \n",
    "\n",
    "for k in keys:\n",
    "    print \"%s \\t %.2f \\t %.2f\" % (k, spear(predictions[k][1],data[k][0])[0],spear(predictions_nostr[k][1],data[k][0])[0]    )"
   ]
  },
  {
   "cell_type": "markdown",
   "metadata": {},
   "source": [
    "# real and sukosd based accessibility"
   ]
  },
  {
   "cell_type": "code",
   "execution_count": null,
   "metadata": {},
   "outputs": [],
   "source": [
    "acc_shape =  {k: rnaplfold(data[k][1],data[k][0]) for  k in keys}  \n"
   ]
  },
  {
   "cell_type": "code",
   "execution_count": null,
   "metadata": {},
   "outputs": [],
   "source": [
    "\n",
    "corr = lambda ac1, ac2:[spear(ac1[k], ac2[k])[0] for k in keys]\n",
    "\n",
    "corr_shaker =  corr(acc_shaker, acc_shape)\n",
    "corr_shaker_nostr =  corr(acc_shaker_nostr, acc_shape)\n"
   ]
  },
  {
   "cell_type": "markdown",
   "metadata": {},
   "source": [
    "# Visualize "
   ]
  },
  {
   "cell_type": "code",
   "execution_count": null,
   "metadata": {
    "scrolled": false
   },
   "outputs": [],
   "source": [
    "import pandas\n",
    "import numpy as np\n",
    "index= ['Shaker',\"ShaKer_nostr\"]\n",
    "\n",
    "data2 = [corr_shaker,corr_shaker_nostr]\n",
    "\n",
    "\n",
    "import seaborn as sns\n",
    "sns.boxplot(data=pandas.DataFrame(data2, index=index).T)\n",
    "TITLE = \"Accessibility\"\n",
    "plt.title(\"SOME TITLE\")\n",
    "plt.grid()"
   ]
  },
  {
   "cell_type": "markdown",
   "metadata": {},
   "source": [
    "---"
   ]
  }
 ],
 "metadata": {
  "kernelspec": {
   "display_name": "Python 2",
   "language": "python",
   "name": "python2"
  },
  "language_info": {
   "codemirror_mode": {
    "name": "ipython",
    "version": 2
   },
   "file_extension": ".py",
   "mimetype": "text/x-python",
   "name": "python",
   "nbconvert_exporter": "python",
   "pygments_lexer": "ipython2",
   "version": "2.7.15"
  }
 },
 "nbformat": 4,
 "nbformat_minor": 2
}
