{
 "cells": [
  {
   "cell_type": "markdown",
   "metadata": {},
   "source": [
    "# probability of the real structure,  under different SHAPE arrays"
   ]
  },
  {
   "cell_type": "code",
   "execution_count": null,
   "metadata": {
    "attributes": {
     "classes": [],
     "id": "",
     "n": "1"
    }
   },
   "outputs": [],
   "source": [
    "%load_ext autoreload\n",
    "%autoreload 2\n",
    "%matplotlib inline\n",
    "from eden.util import configure_logging\n",
    "import logging\n",
    "configure_logging(logging.getLogger(),verbosity=3)\n",
    "from IPython.core.display import HTML\n",
    "HTML('<style>.container { width:95% !important; }</style><style>.output_png {display: table-cell;text-align: center;vertical-align: middle;}</style>')"
   ]
  },
  {
   "cell_type": "markdown",
   "metadata": {},
   "source": [
    "# Load data"
   ]
  },
  {
   "cell_type": "code",
   "execution_count": null,
   "metadata": {
    "scrolled": true
   },
   "outputs": [],
   "source": [
    "import ShaKer.rna_tools.rna_io as rio\n",
    "\n",
    "def getdata():\n",
    "    return rio.get_all_data(\"../data/RNA16.react\",\"../data/RNA16.dbn\")  # {key: rea, seq, stru}\n",
    "\n",
    "data = getdata()\n",
    "\n",
    "for k,v in data.items():print k,\"\\t\",  len(v[1])"
   ]
  },
  {
   "cell_type": "markdown",
   "metadata": {},
   "source": [
    "# TRAIN , get proba of structures"
   ]
  },
  {
   "cell_type": "code",
   "execution_count": null,
   "metadata": {
    "scrolled": false
   },
   "outputs": [],
   "source": [
    "from ShaKer.rna_tools.sukosd import sukosd\n",
    "from ShaKer.rna_tools.structureprobability import probabilities_of_structures\n",
    "import ShaKer.simushape as sim\n",
    "\n",
    "data = getdata()\n",
    "model  = sim.make_model(data,['23sRNA','R009'], model= sim.make_forestregressor())\n",
    "data.pop(\"23sRNA\")\n",
    "data.pop(\"R009\")\n",
    "\n",
    "def get_str(seq):\n",
    "    for _, data_seq, db in data.values():\n",
    "        if seq == data_seq:\n",
    "            return [db]\n",
    "    print \"SHIT\"\n",
    "\n",
    "#predictions = { k: (v[1],sim.predict(model,v[1],seq_to_db_function=get_str)) for k,v in data.items()  }\n",
    "predictions = { k: (v[1],sim.predict(model,v[1])) for k,v in data.items()  }\n",
    "\n",
    "keys = predictions.keys()\n",
    "\n",
    "\n",
    "prb_suko =   [probabilities_of_structures(data[k][1], [data[k][2]], sukosd(data[k][2]))[0][1] for  k in keys] # input: seq and str, returns probability (sukosd(data[k][2]) returns shape)\n",
    "prb_real =   [probabilities_of_structures(data[k][1],[data[k][2]], data[k][0])[0][1] for  k in keys] #rnaplfold gets sequence and shape, returns probab \n",
    "prb_shaker = [probabilities_of_structures(data[k][1],[data[k][2]], predictions[k])[0][1] for k in keys] # a predcition is seq,rea # probability\n",
    "\n",
    "\n"
   ]
  },
  {
   "cell_type": "markdown",
   "metadata": {},
   "source": [
    "# Visualize "
   ]
  },
  {
   "cell_type": "code",
   "execution_count": null,
   "metadata": {
    "scrolled": false
   },
   "outputs": [],
   "source": [
    "import pandas\n",
    "import numpy as np\n",
    "index= ['suko',\"shaker\", \"real\"]\n",
    "data2 = [prb_suko,prb_shaker, prb_real ] # data is a list \n",
    "\n",
    "map(lambda x:x.append(np.mean(x)),data2)\n",
    "df = pandas.DataFrame(data2, columns=keys+['mean'], index=index).T\n",
    "df"
   ]
  },
  {
   "cell_type": "markdown",
   "metadata": {},
   "source": [
    "# BUT\n",
    "\n",
    "this is  not mega nice. \n",
    "so ... \n",
    "1. try to show energies instead of proba, because the probas seem messed up.. \n",
    "2. compare with no-data given"
   ]
  },
  {
   "cell_type": "code",
   "execution_count": null,
   "metadata": {},
   "outputs": [],
   "source": [
    "from ShaKer.rna_tools.structureprobability import get_stru_energy\n",
    "\n",
    "prb_suko =   [get_stru_energy(data[k][2],data[k][1], sukosd(data[k][2])) for  k in keys] # input: seq and str, returns probability (sukosd(data[k][2]) returns shape)\n",
    "prb_real =   [get_stru_energy(data[k][2],data[k][1], data[k][0]) for  k in keys] #rnaplfold gets sequence and shape, returns probab \n",
    "prb_shaker = [get_stru_energy(data[k][2],data[k][1], predictions[k]) for k in keys] # a predcition is seq,rea # probability\n",
    "prb_nodata = [get_stru_energy(data[k][2],data[k][1]) for k in keys] # a predcition is seq,rea # probability\n",
    "\n"
   ]
  },
  {
   "cell_type": "code",
   "execution_count": null,
   "metadata": {},
   "outputs": [],
   "source": [
    "import pandas\n",
    "import numpy as np\n",
    "index= ['suko',\"shaker\", \"real\",'nothing']\n",
    "#data = [corr_suko,corr_shaker]\n",
    "data2 = [prb_suko,prb_shaker, prb_real,prb_nodata ] # data is a list \n",
    "\n",
    "map(lambda x:x.append(np.mean(x)),data2)\n",
    "df = pandas.DataFrame(data2, columns=keys+['mean'], index=index).T"
   ]
  },
  {
   "cell_type": "code",
   "execution_count": null,
   "metadata": {},
   "outputs": [],
   "source": [
    "print df"
   ]
  },
  {
   "cell_type": "code",
   "execution_count": null,
   "metadata": {},
   "outputs": [],
   "source": []
  },
  {
   "cell_type": "code",
   "execution_count": null,
   "metadata": {},
   "outputs": [],
   "source": []
  }
 ],
 "metadata": {
  "kernelspec": {
   "display_name": "Python 2",
   "language": "python",
   "name": "python2"
  },
  "language_info": {
   "codemirror_mode": {
    "name": "ipython",
    "version": 2
   },
   "file_extension": ".py",
   "mimetype": "text/x-python",
   "name": "python",
   "nbconvert_exporter": "python",
   "pygments_lexer": "ipython2",
   "version": "2.7.15rc1"
  }
 },
 "nbformat": 4,
 "nbformat_minor": 2
}
