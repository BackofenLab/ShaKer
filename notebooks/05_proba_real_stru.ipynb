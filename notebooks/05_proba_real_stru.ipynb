{
 "cells": [
  {
   "cell_type": "markdown",
   "metadata": {
    "deletable": true,
    "editable": true
   },
   "source": [
    "# probability of the real structure,  under different SHAPE arrays"
   ]
  },
  {
   "cell_type": "code",
   "execution_count": 2,
   "metadata": {
    "attributes": {
     "classes": [],
     "id": "",
     "n": "1"
    },
    "collapsed": false,
    "deletable": true,
    "editable": true
   },
   "outputs": [
    {
     "data": {
      "text/html": [
       "<style>.container { width:95% !important; }</style><style>.output_png {display: table-cell;text-align: center;vertical-align: middle;}</style>"
      ],
      "text/plain": [
       "<IPython.core.display.HTML object>"
      ]
     },
     "execution_count": 2,
     "metadata": {},
     "output_type": "execute_result"
    }
   ],
   "source": [
    "%load_ext autoreload\n",
    "%autoreload 2\n",
    "%matplotlib inline\n",
    "from eden.util import configure_logging\n",
    "import logging\n",
    "configure_logging(logging.getLogger(),verbosity=3)\n",
    "import sys\n",
    "sys.path.insert(0,'..')\n",
    "from IPython.core.display import HTML\n",
    "HTML('<style>.container { width:95% !important; }</style><style>.output_png {display: table-cell;text-align: center;vertical-align: middle;}</style>')"
   ]
  },
  {
   "cell_type": "markdown",
   "metadata": {
    "deletable": true,
    "editable": true
   },
   "source": [
    "# Load data"
   ]
  },
  {
   "cell_type": "code",
   "execution_count": 32,
   "metadata": {
    "collapsed": false,
    "deletable": true,
    "editable": true,
    "scrolled": true
   },
   "outputs": [
    {
     "name": "stdout",
     "output_type": "stream",
     "text": [
      "data for 'tRNA-asp' is corrupted, ignoring...\n",
      "ADDRSW \t121\n",
      "GLYCFN \t205\n",
      "tRNAphe \t76\n",
      "RNAsep \t154\n",
      "ZHCV \t95\n",
      "Z-CIDGMP-1 \t135\n",
      "adenin \t71\n",
      "23sRNA \t2904\n",
      "p564 \t155\n",
      "srRNA \t120\n",
      "ZGLY \t198\n",
      "MDLOOP \t80\n",
      "R009 \t1542\n",
      "5srRNA \t170\n",
      "TRP5 \t202\n"
     ]
    }
   ],
   "source": [
    "import rna_tools.rna_io as rio\n",
    "\n",
    "def getdata():\n",
    "    return rio.get_all_data(\"../data/RNA16.react\",\"../data/RNA16.dbn\")  # {key: rea, seq, stru}\n",
    "\n",
    "data = getdata()\n",
    "\n",
    "for k,v in data.items():print k,\"\\t\",  len(v[1])"
   ]
  },
  {
   "cell_type": "markdown",
   "metadata": {
    "deletable": true,
    "editable": true
   },
   "source": [
    "# train predict"
   ]
  },
  {
   "cell_type": "code",
   "execution_count": 56,
   "metadata": {
    "collapsed": false,
    "deletable": true,
    "editable": true
   },
   "outputs": [
    {
     "name": "stdout",
     "output_type": "stream",
     "text": [
      "data for 'tRNA-asp' is corrupted, ignoring...\n"
     ]
    }
   ],
   "source": [
    "import simushape as sim\n",
    "from rna_tools.rnaplfold import rnaplfold\n",
    "\n",
    "data = getdata()\n",
    "model  = sim.make_model(data,['23sRNA','R009'])\n",
    "data.pop(\"23sRNA\")\n",
    "data.pop(\"R009\")\n",
    "\n",
    "predictions = { k: (v[1],sim.predict(model,v[1])) for k,v in data.items()[:3]  }\n",
    "\n",
    "keys = predictions.keys()[:3]\n",
    "\n",
    "\n",
    "acc_shaker = {k: rnaplfold(*predictions[k]) for  k in keys} # a predcition is seq,rea\n",
    "\n"
   ]
  },
  {
   "cell_type": "markdown",
   "metadata": {
    "deletable": true,
    "editable": true
   },
   "source": [
    "# real and sukosd based accessibility"
   ]
  },
  {
   "cell_type": "code",
   "execution_count": 60,
   "metadata": {
    "collapsed": true,
    "deletable": true,
    "editable": true
   },
   "outputs": [],
   "source": [
    "from rna_tools.sukosd import sukosd\n",
    "acc_suko = {k: rnaplfold(data[k][1], sukosd(data[k][2]) ) for  k in keys}\n",
    "acc_shape =  {k: rnaplfold(data[k][1],data[k][0]) for  k in keys}  "
   ]
  },
  {
   "cell_type": "code",
   "execution_count": 77,
   "metadata": {
    "collapsed": true,
    "deletable": true,
    "editable": true
   },
   "outputs": [],
   "source": [
    "from scipy.stats import spearmanr as spear\n",
    "corr = lambda ac1, ac2:[spear(ac1[k], ac2[k])[0] for k in keys]\n",
    "corr_suko =  corr(acc_suko, acc_shape)\n",
    "corr_shaker =  corr(acc_shaker, acc_shape)"
   ]
  },
  {
   "cell_type": "markdown",
   "metadata": {
    "deletable": true,
    "editable": true
   },
   "source": [
    "# Visualize "
   ]
  },
  {
   "cell_type": "code",
   "execution_count": 78,
   "metadata": {
    "collapsed": false,
    "deletable": true,
    "editable": true,
    "scrolled": false
   },
   "outputs": [
    {
     "data": {
      "text/html": [
       "<div>\n",
       "<style>\n",
       "    .dataframe thead tr:only-child th {\n",
       "        text-align: right;\n",
       "    }\n",
       "\n",
       "    .dataframe thead th {\n",
       "        text-align: left;\n",
       "    }\n",
       "\n",
       "    .dataframe tbody tr th {\n",
       "        vertical-align: top;\n",
       "    }\n",
       "</style>\n",
       "<table border=\"1\" class=\"dataframe\">\n",
       "  <thead>\n",
       "    <tr style=\"text-align: right;\">\n",
       "      <th></th>\n",
       "      <th>suko</th>\n",
       "      <th>shaker</th>\n",
       "    </tr>\n",
       "  </thead>\n",
       "  <tbody>\n",
       "    <tr>\n",
       "      <th>ADDRSW</th>\n",
       "      <td>0.976993</td>\n",
       "      <td>0.983270</td>\n",
       "    </tr>\n",
       "    <tr>\n",
       "      <th>GLYCFN</th>\n",
       "      <td>0.294808</td>\n",
       "      <td>0.560019</td>\n",
       "    </tr>\n",
       "    <tr>\n",
       "      <th>tRNAphe</th>\n",
       "      <td>0.915173</td>\n",
       "      <td>0.854448</td>\n",
       "    </tr>\n",
       "    <tr>\n",
       "      <th>mean</th>\n",
       "      <td>0.728992</td>\n",
       "      <td>0.799245</td>\n",
       "    </tr>\n",
       "  </tbody>\n",
       "</table>\n",
       "</div>"
      ],
      "text/plain": [
       "             suko    shaker\n",
       "ADDRSW   0.976993  0.983270\n",
       "GLYCFN   0.294808  0.560019\n",
       "tRNAphe  0.915173  0.854448\n",
       "mean     0.728992  0.799245"
      ]
     },
     "execution_count": 78,
     "metadata": {},
     "output_type": "execute_result"
    }
   ],
   "source": [
    "import pandas\n",
    "import numpy as np\n",
    "index= ['suko',\"shaker\"]\n",
    "data = [corr_suko,corr_shaker]\n",
    "map(lambda x:x.append(np.mean(x)),data)\n",
    "pandas.DataFrame(data, columns=keys+['mean'], index=index).T"
   ]
  },
  {
   "cell_type": "code",
   "execution_count": null,
   "metadata": {
    "collapsed": true,
    "deletable": true,
    "editable": true
   },
   "outputs": [],
   "source": []
  }
 ],
 "metadata": {
  "kernelspec": {
   "display_name": "Python 2",
   "language": "python",
   "name": "python2"
  },
  "language_info": {
   "codemirror_mode": {
    "name": "ipython",
    "version": 2
   },
   "file_extension": ".py",
   "mimetype": "text/x-python",
   "name": "python",
   "nbconvert_exporter": "python",
   "pygments_lexer": "ipython2",
   "version": "2.7.12"
  }
 },
 "nbformat": 4,
 "nbformat_minor": 2
}
