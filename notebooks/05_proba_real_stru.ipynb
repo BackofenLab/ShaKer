{
 "cells": [
  {
   "cell_type": "markdown",
   "metadata": {},
   "source": [
    "# probability of the real structure,  under different SHAPE arrays"
   ]
  },
  {
   "cell_type": "code",
   "execution_count": 1,
   "metadata": {
    "attributes": {
     "classes": [],
     "id": "",
     "n": "1"
    }
   },
   "outputs": [
    {
     "data": {
      "text/html": [
       "<style>.container { width:95% !important; }</style><style>.output_png {display: table-cell;text-align: center;vertical-align: middle;}</style>"
      ],
      "text/plain": [
       "<IPython.core.display.HTML object>"
      ]
     },
     "execution_count": 1,
     "metadata": {},
     "output_type": "execute_result"
    }
   ],
   "source": [
    "%load_ext autoreload\n",
    "%autoreload 2\n",
    "%matplotlib inline\n",
    "from eden.util import configure_logging\n",
    "import logging\n",
    "configure_logging(logging.getLogger(),verbosity=3)\n",
    "import sys\n",
    "sys.path.insert(0,'..')\n",
    "from IPython.core.display import HTML\n",
    "HTML('<style>.container { width:95% !important; }</style><style>.output_png {display: table-cell;text-align: center;vertical-align: middle;}</style>')"
   ]
  },
  {
   "cell_type": "markdown",
   "metadata": {},
   "source": [
    "# Load data"
   ]
  },
  {
   "cell_type": "code",
   "execution_count": 2,
   "metadata": {
    "scrolled": true
   },
   "outputs": [
    {
     "name": "stdout",
     "output_type": "stream",
     "text": [
      "data for 'tRNA-asp' is corrupted, ignoring...\n",
      "ADDRSW \t121\n",
      "GLYCFN \t205\n",
      "tRNAphe \t76\n",
      "RNAsep \t154\n",
      "ZHCV \t95\n",
      "Z-CIDGMP-1 \t135\n",
      "adenin \t71\n",
      "23sRNA \t2904\n",
      "p564 \t155\n",
      "srRNA \t120\n",
      "ZGLY \t198\n",
      "MDLOOP \t80\n",
      "R009 \t1542\n",
      "5srRNA \t170\n",
      "TRP5 \t202\n"
     ]
    }
   ],
   "source": [
    "import rna_tools.rna_io as rio\n",
    "\n",
    "def getdata():\n",
    "    return rio.get_all_data(\"../data/RNA16.react\",\"../data/RNA16.dbn\")  # {key: rea, seq, stru}\n",
    "\n",
    "data = getdata()\n",
    "\n",
    "for k,v in data.items():print k,\"\\t\",  len(v[1])"
   ]
  },
  {
   "cell_type": "markdown",
   "metadata": {},
   "source": [
    "# train predict"
   ]
  },
  {
   "cell_type": "code",
   "execution_count": 3,
   "metadata": {},
   "outputs": [
    {
     "data": {
      "text/plain": [
       "'\\nimport simushape as sim\\nfrom rna_tools.rnaplfold import rnaplfold\\n\\ndata = getdata()\\nmodel  = sim.make_model(data,[\\'23sRNA\\',\\'R009\\'])\\n#data.pop(\"23sRNA\")\\n#data.pop(\"R009\")\\n\\npredictions = { k: (v[1],sim.predict(model,v[1])) for k,v in data.items()[:15]  }\\n\\nkeys = predictions.keys()[:15]\\n\\n\\nacc_shaker = {k: rnaplfold(*predictions[k]) for k in keys} # a predcition is seq,rea # probability\\n\\n'"
      ]
     },
     "execution_count": 3,
     "metadata": {},
     "output_type": "execute_result"
    }
   ],
   "source": [
    "'''\n",
    "import simushape as sim\n",
    "from rna_tools.rnaplfold import rnaplfold\n",
    "\n",
    "data = getdata()\n",
    "model  = sim.make_model(data,['23sRNA','R009'])\n",
    "#data.pop(\"23sRNA\")\n",
    "#data.pop(\"R009\")\n",
    "\n",
    "predictions = { k: (v[1],sim.predict(model,v[1])) for k,v in data.items()[:15]  }\n",
    "\n",
    "keys = predictions.keys()[:15]\n",
    "\n",
    "\n",
    "acc_shaker = {k: rnaplfold(*predictions[k]) for k in keys} # a predcition is seq,rea # probability\n",
    "\n",
    "'''"
   ]
  },
  {
   "cell_type": "markdown",
   "metadata": {},
   "source": [
    "# real and sukosd based accessibility"
   ]
  },
  {
   "cell_type": "code",
   "execution_count": 4,
   "metadata": {
    "scrolled": false
   },
   "outputs": [
    {
     "name": "stdout",
     "output_type": "stream",
     "text": [
      "data for 'tRNA-asp' is corrupted, ignoring...\n"
     ]
    },
    {
     "name": "stderr",
     "output_type": "stream",
     "text": [
      "/home/montaser/miniconda2/lib/python2.7/site-packages/sklearn/utils/validation.py:395: DeprecationWarning: Passing 1d arrays as data is deprecated in 0.17 and will raise ValueError in 0.19. Reshape your data either using X.reshape(-1, 1) if your data has a single feature or X.reshape(1, -1) if it contains a single sample.\n",
      "  DeprecationWarning)\n",
      "/home/montaser/miniconda2/lib/python2.7/site-packages/sklearn/utils/validation.py:395: DeprecationWarning: Passing 1d arrays as data is deprecated in 0.17 and will raise ValueError in 0.19. Reshape your data either using X.reshape(-1, 1) if your data has a single feature or X.reshape(1, -1) if it contains a single sample.\n",
      "  DeprecationWarning)\n",
      "/home/montaser/miniconda2/lib/python2.7/site-packages/sklearn/utils/validation.py:395: DeprecationWarning: Passing 1d arrays as data is deprecated in 0.17 and will raise ValueError in 0.19. Reshape your data either using X.reshape(-1, 1) if your data has a single feature or X.reshape(1, -1) if it contains a single sample.\n",
      "  DeprecationWarning)\n",
      "/home/montaser/miniconda2/lib/python2.7/site-packages/sklearn/utils/validation.py:395: DeprecationWarning: Passing 1d arrays as data is deprecated in 0.17 and will raise ValueError in 0.19. Reshape your data either using X.reshape(-1, 1) if your data has a single feature or X.reshape(1, -1) if it contains a single sample.\n",
      "  DeprecationWarning)\n",
      "/home/montaser/miniconda2/lib/python2.7/site-packages/sklearn/utils/validation.py:395: DeprecationWarning: Passing 1d arrays as data is deprecated in 0.17 and will raise ValueError in 0.19. Reshape your data either using X.reshape(-1, 1) if your data has a single feature or X.reshape(1, -1) if it contains a single sample.\n",
      "  DeprecationWarning)\n",
      "/home/montaser/miniconda2/lib/python2.7/site-packages/sklearn/utils/validation.py:395: DeprecationWarning: Passing 1d arrays as data is deprecated in 0.17 and will raise ValueError in 0.19. Reshape your data either using X.reshape(-1, 1) if your data has a single feature or X.reshape(1, -1) if it contains a single sample.\n",
      "  DeprecationWarning)\n",
      "/home/montaser/miniconda2/lib/python2.7/site-packages/sklearn/utils/validation.py:395: DeprecationWarning: Passing 1d arrays as data is deprecated in 0.17 and will raise ValueError in 0.19. Reshape your data either using X.reshape(-1, 1) if your data has a single feature or X.reshape(1, -1) if it contains a single sample.\n",
      "  DeprecationWarning)\n",
      "/home/montaser/miniconda2/lib/python2.7/site-packages/sklearn/utils/validation.py:395: DeprecationWarning: Passing 1d arrays as data is deprecated in 0.17 and will raise ValueError in 0.19. Reshape your data either using X.reshape(-1, 1) if your data has a single feature or X.reshape(1, -1) if it contains a single sample.\n",
      "  DeprecationWarning)\n",
      "/home/montaser/miniconda2/lib/python2.7/site-packages/sklearn/utils/validation.py:395: DeprecationWarning: Passing 1d arrays as data is deprecated in 0.17 and will raise ValueError in 0.19. Reshape your data either using X.reshape(-1, 1) if your data has a single feature or X.reshape(1, -1) if it contains a single sample.\n",
      "  DeprecationWarning)\n",
      "/home/montaser/miniconda2/lib/python2.7/site-packages/sklearn/utils/validation.py:395: DeprecationWarning: Passing 1d arrays as data is deprecated in 0.17 and will raise ValueError in 0.19. Reshape your data either using X.reshape(-1, 1) if your data has a single feature or X.reshape(1, -1) if it contains a single sample.\n",
      "  DeprecationWarning)\n",
      "/home/montaser/miniconda2/lib/python2.7/site-packages/sklearn/utils/validation.py:395: DeprecationWarning: Passing 1d arrays as data is deprecated in 0.17 and will raise ValueError in 0.19. Reshape your data either using X.reshape(-1, 1) if your data has a single feature or X.reshape(1, -1) if it contains a single sample.\n",
      "  DeprecationWarning)\n",
      "/home/montaser/miniconda2/lib/python2.7/site-packages/sklearn/utils/validation.py:395: DeprecationWarning: Passing 1d arrays as data is deprecated in 0.17 and will raise ValueError in 0.19. Reshape your data either using X.reshape(-1, 1) if your data has a single feature or X.reshape(1, -1) if it contains a single sample.\n",
      "  DeprecationWarning)\n",
      "/home/montaser/miniconda2/lib/python2.7/site-packages/sklearn/utils/validation.py:395: DeprecationWarning: Passing 1d arrays as data is deprecated in 0.17 and will raise ValueError in 0.19. Reshape your data either using X.reshape(-1, 1) if your data has a single feature or X.reshape(1, -1) if it contains a single sample.\n",
      "  DeprecationWarning)\n",
      "/home/montaser/miniconda2/lib/python2.7/site-packages/sklearn/utils/validation.py:395: DeprecationWarning: Passing 1d arrays as data is deprecated in 0.17 and will raise ValueError in 0.19. Reshape your data either using X.reshape(-1, 1) if your data has a single feature or X.reshape(1, -1) if it contains a single sample.\n",
      "  DeprecationWarning)\n",
      "/home/montaser/miniconda2/lib/python2.7/site-packages/sklearn/utils/validation.py:395: DeprecationWarning: Passing 1d arrays as data is deprecated in 0.17 and will raise ValueError in 0.19. Reshape your data either using X.reshape(-1, 1) if your data has a single feature or X.reshape(1, -1) if it contains a single sample.\n",
      "  DeprecationWarning)\n",
      "../rna_tools/structureprobability.py:7: FutureWarning: comparison to `None` will result in an elementwise object comparison in the future.\n",
      "  if react==None:\n",
      "../rna_tools/structureprobability.py:18: FutureWarning: comparison to `None` will result in an elementwise object comparison in the future.\n",
      "  if react == None:\n"
     ]
    }
   ],
   "source": [
    "from rna_tools.sukosd import sukosd\n",
    "from rna_tools.structureprobability import probabilities_of_structures\n",
    "import simushape as sim\n",
    "\n",
    "data = getdata()\n",
    "model  = sim.make_model(data,['23sRNA','R009'])\n",
    "predictions = { k: (v[1],sim.predict(model,v[1])) for k,v in data.items()[:15]  }\n",
    "keys = predictions.keys()[:15]\n",
    "#acc_suko = {k: rnaplfold(data[k][1], sukosd(data[k][2]) ) for  k in keys} # sukosd returns probability (shape) based on real strcuture\n",
    "#acc_shape =  {k: rnaplfold(data[k][1],data[k][0]) for  k in keys} # real shape \n",
    "prb_suko = [probabilities_of_structures(data[k][1], [data[k][2]], sukosd(data[k][2]))[0][1] for  k in keys] # input: seq and str, returns probability (sukosd(data[k][2]) returns shape)\n",
    "prb_real =  [probabilities_of_structures(data[k][1],[data[k][2]], data[k][0])[0][1] for  k in keys] #rnaplfold gets sequence and shape, returns probab \n",
    "prb_shaker = [probabilities_of_structures(data[k][1],[data[k][2]], predictions[k])[0][1] for k in keys] # a predcition is seq,rea # probability\n",
    "\n",
    "\n"
   ]
  },
  {
   "cell_type": "code",
   "execution_count": null,
   "metadata": {},
   "outputs": [],
   "source": []
  },
  {
   "cell_type": "markdown",
   "metadata": {},
   "source": [
    "# Visualize "
   ]
  },
  {
   "cell_type": "code",
   "execution_count": 5,
   "metadata": {
    "scrolled": false
   },
   "outputs": [
    {
     "data": {
      "text/html": [
       "<div>\n",
       "<style scoped>\n",
       "    .dataframe tbody tr th:only-of-type {\n",
       "        vertical-align: middle;\n",
       "    }\n",
       "\n",
       "    .dataframe tbody tr th {\n",
       "        vertical-align: top;\n",
       "    }\n",
       "\n",
       "    .dataframe thead th {\n",
       "        text-align: right;\n",
       "    }\n",
       "</style>\n",
       "<table border=\"1\" class=\"dataframe\">\n",
       "  <thead>\n",
       "    <tr style=\"text-align: right;\">\n",
       "      <th></th>\n",
       "      <th>suko</th>\n",
       "      <th>shaker</th>\n",
       "      <th>real</th>\n",
       "    </tr>\n",
       "  </thead>\n",
       "  <tbody>\n",
       "    <tr>\n",
       "      <th>ADDRSW</th>\n",
       "      <td>4.509249e-02</td>\n",
       "      <td>1.598590e-01</td>\n",
       "      <td>2.284345e-01</td>\n",
       "    </tr>\n",
       "    <tr>\n",
       "      <th>GLYCFN</th>\n",
       "      <td>2.628612e-05</td>\n",
       "      <td>5.845614e-25</td>\n",
       "      <td>7.900716e-07</td>\n",
       "    </tr>\n",
       "    <tr>\n",
       "      <th>tRNAphe</th>\n",
       "      <td>4.589490e-01</td>\n",
       "      <td>4.818414e-01</td>\n",
       "      <td>6.137467e-02</td>\n",
       "    </tr>\n",
       "    <tr>\n",
       "      <th>ZHCV</th>\n",
       "      <td>4.417911e-05</td>\n",
       "      <td>8.556295e-08</td>\n",
       "      <td>2.234914e-05</td>\n",
       "    </tr>\n",
       "    <tr>\n",
       "      <th>Z-CIDGMP-1</th>\n",
       "      <td>6.512101e-06</td>\n",
       "      <td>2.976081e-09</td>\n",
       "      <td>9.417846e-09</td>\n",
       "    </tr>\n",
       "    <tr>\n",
       "      <th>adenin</th>\n",
       "      <td>1.253252e-01</td>\n",
       "      <td>5.058758e-01</td>\n",
       "      <td>2.175815e-01</td>\n",
       "    </tr>\n",
       "    <tr>\n",
       "      <th>23sRNA</th>\n",
       "      <td>0.000000e+00</td>\n",
       "      <td>0.000000e+00</td>\n",
       "      <td>0.000000e+00</td>\n",
       "    </tr>\n",
       "    <tr>\n",
       "      <th>MDLOOP</th>\n",
       "      <td>2.321712e-01</td>\n",
       "      <td>2.820767e-01</td>\n",
       "      <td>1.155595e-01</td>\n",
       "    </tr>\n",
       "    <tr>\n",
       "      <th>srRNA</th>\n",
       "      <td>3.096035e-04</td>\n",
       "      <td>1.010630e-04</td>\n",
       "      <td>5.174185e-08</td>\n",
       "    </tr>\n",
       "    <tr>\n",
       "      <th>ZGLY</th>\n",
       "      <td>3.275749e-10</td>\n",
       "      <td>1.889473e-09</td>\n",
       "      <td>6.929155e-08</td>\n",
       "    </tr>\n",
       "    <tr>\n",
       "      <th>p564</th>\n",
       "      <td>2.003436e-02</td>\n",
       "      <td>3.777509e-01</td>\n",
       "      <td>3.695767e-05</td>\n",
       "    </tr>\n",
       "    <tr>\n",
       "      <th>R009</th>\n",
       "      <td>0.000000e+00</td>\n",
       "      <td>0.000000e+00</td>\n",
       "      <td>0.000000e+00</td>\n",
       "    </tr>\n",
       "    <tr>\n",
       "      <th>5srRNA</th>\n",
       "      <td>5.635281e-05</td>\n",
       "      <td>1.829143e-09</td>\n",
       "      <td>3.806892e-07</td>\n",
       "    </tr>\n",
       "    <tr>\n",
       "      <th>RNAsep</th>\n",
       "      <td>7.562487e-15</td>\n",
       "      <td>3.144387e-16</td>\n",
       "      <td>6.983053e-14</td>\n",
       "    </tr>\n",
       "    <tr>\n",
       "      <th>TRP5</th>\n",
       "      <td>1.232184e-13</td>\n",
       "      <td>1.096787e-15</td>\n",
       "      <td>2.399930e-12</td>\n",
       "    </tr>\n",
       "    <tr>\n",
       "      <th>mean</th>\n",
       "      <td>5.880101e-02</td>\n",
       "      <td>1.205003e-01</td>\n",
       "      <td>4.153405e-02</td>\n",
       "    </tr>\n",
       "  </tbody>\n",
       "</table>\n",
       "</div>"
      ],
      "text/plain": [
       "                    suko        shaker          real\n",
       "ADDRSW      4.509249e-02  1.598590e-01  2.284345e-01\n",
       "GLYCFN      2.628612e-05  5.845614e-25  7.900716e-07\n",
       "tRNAphe     4.589490e-01  4.818414e-01  6.137467e-02\n",
       "ZHCV        4.417911e-05  8.556295e-08  2.234914e-05\n",
       "Z-CIDGMP-1  6.512101e-06  2.976081e-09  9.417846e-09\n",
       "adenin      1.253252e-01  5.058758e-01  2.175815e-01\n",
       "23sRNA      0.000000e+00  0.000000e+00  0.000000e+00\n",
       "MDLOOP      2.321712e-01  2.820767e-01  1.155595e-01\n",
       "srRNA       3.096035e-04  1.010630e-04  5.174185e-08\n",
       "ZGLY        3.275749e-10  1.889473e-09  6.929155e-08\n",
       "p564        2.003436e-02  3.777509e-01  3.695767e-05\n",
       "R009        0.000000e+00  0.000000e+00  0.000000e+00\n",
       "5srRNA      5.635281e-05  1.829143e-09  3.806892e-07\n",
       "RNAsep      7.562487e-15  3.144387e-16  6.983053e-14\n",
       "TRP5        1.232184e-13  1.096787e-15  2.399930e-12\n",
       "mean        5.880101e-02  1.205003e-01  4.153405e-02"
      ]
     },
     "execution_count": 5,
     "metadata": {},
     "output_type": "execute_result"
    }
   ],
   "source": [
    "import pandas\n",
    "import numpy as np\n",
    "index= ['suko',\"shaker\", \"real\"]\n",
    "#data = [corr_suko,corr_shaker]\n",
    "data = [prb_suko, prb_real, prb_shaker] # data is a list \n",
    "\n",
    "map(lambda x:x.append(np.mean(x)),data)\n",
    "pandas.DataFrame(data, columns=keys+['mean'], index=index).T\n"
   ]
  },
  {
   "cell_type": "code",
   "execution_count": null,
   "metadata": {},
   "outputs": [],
   "source": []
  }
 ],
 "metadata": {
  "kernelspec": {
   "display_name": "Python 2",
   "language": "python",
   "name": "python2"
  },
  "language_info": {
   "codemirror_mode": {
    "name": "ipython",
    "version": 2
   },
   "file_extension": ".py",
   "mimetype": "text/x-python",
   "name": "python",
   "nbconvert_exporter": "python",
   "pygments_lexer": "ipython2",
   "version": "2.7.11"
  }
 },
 "nbformat": 4,
 "nbformat_minor": 2
}
