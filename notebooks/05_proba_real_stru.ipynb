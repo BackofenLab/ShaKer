{
 "cells": [
  {
   "cell_type": "markdown",
   "metadata": {},
   "source": [
    "# probability of the real structure,  under different SHAPE arrays"
   ]
  },
  {
   "cell_type": "code",
   "execution_count": null,
   "metadata": {},
   "outputs": [],
   "source": [
    "\n"
   ]
  },
  {
   "cell_type": "code",
   "execution_count": 8,
   "metadata": {
    "attributes": {
     "classes": [],
     "id": "",
     "n": "1"
    }
   },
   "outputs": [
    {
     "name": "stdout",
     "output_type": "stream",
     "text": [
      "The autoreload extension is already loaded. To reload it, use:\n",
      "  %reload_ext autoreload\n",
      "backend module://ipykernel.pylab.backend_inline version unknown\n"
     ]
    },
    {
     "data": {
      "text/html": [
       "<style>.container { width:95% !important; }</style><style>.output_png {display: table-cell;text-align: center;vertical-align: middle;}</style>"
      ],
      "text/plain": [
       "<IPython.core.display.HTML object>"
      ]
     },
     "execution_count": 8,
     "metadata": {},
     "output_type": "execute_result"
    }
   ],
   "source": [
    "%load_ext autoreload\n",
    "%autoreload 2\n",
    "%matplotlib inline\n",
    "\n",
    "\n",
    "from eden.util import configure_logging\n",
    "import logging\n",
    "configure_logging(logging.getLogger(),verbosity=3)\n",
    "from IPython.core.display import HTML\n",
    "HTML('<style>.container { width:95% !important; }</style><style>.output_png {display: table-cell;text-align: center;vertical-align: middle;}</style>')"
   ]
  },
  {
   "cell_type": "markdown",
   "metadata": {},
   "source": [
    "# Load data"
   ]
  },
  {
   "cell_type": "code",
   "execution_count": 9,
   "metadata": {
    "scrolled": true
   },
   "outputs": [
    {
     "name": "stdout",
     "output_type": "stream",
     "text": [
      "TRP5 \t202\n",
      "5srRNA \t170\n",
      "GLYCFN \t205\n",
      "RNAsep \t154\n",
      "adenin \t71\n",
      "Z-CIDGMP-1 \t135\n",
      "R009 \t1542\n",
      "ZHCV \t95\n",
      "MDLOOP \t80\n",
      "srRNA \t120\n",
      "p564 \t155\n",
      "tRNAphe \t76\n",
      "ZGLY \t198\n",
      "23sRNA \t2904\n",
      "ADDRSW \t121\n",
      "tRNA-asp \t75\n"
     ]
    }
   ],
   "source": [
    "import rna_tools.rna_io as rio\n",
    "\n",
    "def getdata():\n",
    "    return rio.get_all_data(\"../data/RNA16.react\",\"../data/RNA16.dbn\")  # {key: rea, seq, stru}\n",
    "\n",
    "data = getdata()\n",
    "\n",
    "for k,v in data.items():print k,\"\\t\",  len(v[1])"
   ]
  },
  {
   "cell_type": "markdown",
   "metadata": {},
   "source": [
    "# TRAIN , get proba of structures"
   ]
  },
  {
   "cell_type": "code",
   "execution_count": 14,
   "metadata": {
    "scrolled": false
   },
   "outputs": [],
   "source": [
    "from rna_tools.sukosd import sukosd\n",
    "from rna_tools.structureprobability import probabilities_of_structures\n",
    "import simushape as sim\n",
    "\n",
    "data = getdata()\n",
    "model  = sim.make_model(data,['23sRNA','R009'], model= sim.make_forestregressor())\n",
    "data.pop(\"23sRNA\")\n",
    "data.pop(\"R009\")\n",
    "\n",
    "def get_str(seq):\n",
    "    for _, data_seq, db in data.values():\n",
    "        if seq == data_seq:\n",
    "            return [db]\n",
    "    print \"SHIT\"\n",
    "\n",
    "#predictions = { k: (v[1],sim.predict(model,v[1],seq_to_db_function=get_str)) for k,v in data.items()  }\n",
    "predictions = { k: (v[1],sim.predict(model,v[1])) for k,v in data.items()  }\n",
    "\n",
    "keys = predictions.keys()\n",
    "\n",
    "\n",
    "prb_suko =   [probabilities_of_structures(data[k][1], [data[k][2]], sukosd(data[k][2]))[0][1] for  k in keys] # input: seq and str, returns probability (sukosd(data[k][2]) returns shape)\n",
    "prb_real =   [probabilities_of_structures(data[k][1],[data[k][2]], data[k][0])[0][1] for  k in keys] #rnaplfold gets sequence and shape, returns probab \n",
    "prb_shaker = [probabilities_of_structures(data[k][1],[data[k][2]], predictions[k])[0][1] for k in keys] # a predcition is seq,rea # probability\n",
    "\n",
    "\n"
   ]
  },
  {
   "cell_type": "markdown",
   "metadata": {},
   "source": [
    "# Visualize "
   ]
  },
  {
   "cell_type": "code",
   "execution_count": 15,
   "metadata": {
    "scrolled": false
   },
   "outputs": [
    {
     "data": {
      "text/html": [
       "<div>\n",
       "<style scoped>\n",
       "    .dataframe tbody tr th:only-of-type {\n",
       "        vertical-align: middle;\n",
       "    }\n",
       "\n",
       "    .dataframe tbody tr th {\n",
       "        vertical-align: top;\n",
       "    }\n",
       "\n",
       "    .dataframe thead th {\n",
       "        text-align: right;\n",
       "    }\n",
       "</style>\n",
       "<table border=\"1\" class=\"dataframe\">\n",
       "  <thead>\n",
       "    <tr style=\"text-align: right;\">\n",
       "      <th></th>\n",
       "      <th>suko</th>\n",
       "      <th>shaker</th>\n",
       "      <th>real</th>\n",
       "    </tr>\n",
       "  </thead>\n",
       "  <tbody>\n",
       "    <tr>\n",
       "      <th>TRP5</th>\n",
       "      <td>8.532152e-10</td>\n",
       "      <td>2.212920e-12</td>\n",
       "      <td>1.096787e-15</td>\n",
       "    </tr>\n",
       "    <tr>\n",
       "      <th>5srRNA</th>\n",
       "      <td>7.934274e-04</td>\n",
       "      <td>3.806892e-07</td>\n",
       "      <td>1.829143e-09</td>\n",
       "    </tr>\n",
       "    <tr>\n",
       "      <th>GLYCFN</th>\n",
       "      <td>2.423783e-05</td>\n",
       "      <td>7.900716e-07</td>\n",
       "      <td>5.845614e-25</td>\n",
       "    </tr>\n",
       "    <tr>\n",
       "      <th>RNAsep</th>\n",
       "      <td>5.394035e-13</td>\n",
       "      <td>1.064771e-13</td>\n",
       "      <td>3.144387e-16</td>\n",
       "    </tr>\n",
       "    <tr>\n",
       "      <th>adenin</th>\n",
       "      <td>5.225610e-01</td>\n",
       "      <td>2.477391e-01</td>\n",
       "      <td>5.058758e-01</td>\n",
       "    </tr>\n",
       "    <tr>\n",
       "      <th>Z-CIDGMP-1</th>\n",
       "      <td>7.062428e-06</td>\n",
       "      <td>8.826028e-09</td>\n",
       "      <td>2.976081e-09</td>\n",
       "    </tr>\n",
       "    <tr>\n",
       "      <th>ZHCV</th>\n",
       "      <td>4.346807e-05</td>\n",
       "      <td>2.271472e-05</td>\n",
       "      <td>8.556295e-08</td>\n",
       "    </tr>\n",
       "    <tr>\n",
       "      <th>MDLOOP</th>\n",
       "      <td>3.716712e-01</td>\n",
       "      <td>1.014923e-01</td>\n",
       "      <td>2.820767e-01</td>\n",
       "    </tr>\n",
       "    <tr>\n",
       "      <th>srRNA</th>\n",
       "      <td>7.404234e-07</td>\n",
       "      <td>5.432274e-08</td>\n",
       "      <td>1.010630e-04</td>\n",
       "    </tr>\n",
       "    <tr>\n",
       "      <th>p564</th>\n",
       "      <td>1.822734e+00</td>\n",
       "      <td>3.756221e-05</td>\n",
       "      <td>3.777509e-01</td>\n",
       "    </tr>\n",
       "    <tr>\n",
       "      <th>tRNAphe</th>\n",
       "      <td>4.085180e-03</td>\n",
       "      <td>6.137467e-02</td>\n",
       "      <td>4.818414e-01</td>\n",
       "    </tr>\n",
       "    <tr>\n",
       "      <th>tRNA-asp</th>\n",
       "      <td>1.158865e+01</td>\n",
       "      <td>6.755462e-03</td>\n",
       "      <td>8.502258e-01</td>\n",
       "    </tr>\n",
       "    <tr>\n",
       "      <th>ADDRSW</th>\n",
       "      <td>4.442948e-01</td>\n",
       "      <td>2.284345e-01</td>\n",
       "      <td>1.598590e-01</td>\n",
       "    </tr>\n",
       "    <tr>\n",
       "      <th>ZGLY</th>\n",
       "      <td>2.586306e-05</td>\n",
       "      <td>6.929155e-08</td>\n",
       "      <td>1.889473e-09</td>\n",
       "    </tr>\n",
       "    <tr>\n",
       "      <th>mean</th>\n",
       "      <td>1.053921e+00</td>\n",
       "      <td>4.613269e-02</td>\n",
       "      <td>1.898379e-01</td>\n",
       "    </tr>\n",
       "  </tbody>\n",
       "</table>\n",
       "</div>"
      ],
      "text/plain": [
       "                    suko        shaker          real\n",
       "TRP5        8.532152e-10  2.212920e-12  1.096787e-15\n",
       "5srRNA      7.934274e-04  3.806892e-07  1.829143e-09\n",
       "GLYCFN      2.423783e-05  7.900716e-07  5.845614e-25\n",
       "RNAsep      5.394035e-13  1.064771e-13  3.144387e-16\n",
       "adenin      5.225610e-01  2.477391e-01  5.058758e-01\n",
       "Z-CIDGMP-1  7.062428e-06  8.826028e-09  2.976081e-09\n",
       "ZHCV        4.346807e-05  2.271472e-05  8.556295e-08\n",
       "MDLOOP      3.716712e-01  1.014923e-01  2.820767e-01\n",
       "srRNA       7.404234e-07  5.432274e-08  1.010630e-04\n",
       "p564        1.822734e+00  3.756221e-05  3.777509e-01\n",
       "tRNAphe     4.085180e-03  6.137467e-02  4.818414e-01\n",
       "tRNA-asp    1.158865e+01  6.755462e-03  8.502258e-01\n",
       "ADDRSW      4.442948e-01  2.284345e-01  1.598590e-01\n",
       "ZGLY        2.586306e-05  6.929155e-08  1.889473e-09\n",
       "mean        1.053921e+00  4.613269e-02  1.898379e-01"
      ]
     },
     "execution_count": 15,
     "metadata": {},
     "output_type": "execute_result"
    }
   ],
   "source": [
    "import pandas\n",
    "import numpy as np\n",
    "index= ['suko',\"shaker\", \"real\"]\n",
    "data2 = [prb_suko,prb_shaker, prb_real ] # data is a list \n",
    "\n",
    "map(lambda x:x.append(np.mean(x)),data2)\n",
    "df = pandas.DataFrame(data2, columns=keys+['mean'], index=index).T\n",
    "df"
   ]
  },
  {
   "cell_type": "markdown",
   "metadata": {},
   "source": [
    "# BUT\n",
    "\n",
    "this is  not mega nice. \n",
    "so ... \n",
    "1. try to show energies instead of proba, because the probas seem messed up.. \n",
    "2. compare with no-data given"
   ]
  },
  {
   "cell_type": "code",
   "execution_count": 5,
   "metadata": {},
   "outputs": [],
   "source": [
    "from rna_tools.structureprobability import get_stru_energy\n",
    "\n",
    "prb_suko =   [get_stru_energy(data[k][2],data[k][1], sukosd(data[k][2])) for  k in keys] # input: seq and str, returns probability (sukosd(data[k][2]) returns shape)\n",
    "prb_real =   [get_stru_energy(data[k][2],data[k][1], data[k][0]) for  k in keys] #rnaplfold gets sequence and shape, returns probab \n",
    "prb_shaker = [get_stru_energy(data[k][2],data[k][1], predictions[k]) for k in keys] # a predcition is seq,rea # probability\n",
    "prb_nodata = [get_stru_energy(data[k][2],data[k][1]) for k in keys] # a predcition is seq,rea # probability\n",
    "\n"
   ]
  },
  {
   "cell_type": "code",
   "execution_count": 6,
   "metadata": {},
   "outputs": [],
   "source": [
    "import pandas\n",
    "import numpy as np\n",
    "index= ['suko',\"shaker\", \"real\",'nothing']\n",
    "#data = [corr_suko,corr_shaker]\n",
    "data2 = [prb_suko,prb_shaker, prb_real,prb_nodata ] # data is a list \n",
    "\n",
    "map(lambda x:x.append(np.mean(x)),data2)\n",
    "df = pandas.DataFrame(data2, columns=keys+['mean'], index=index).T"
   ]
  },
  {
   "cell_type": "code",
   "execution_count": 7,
   "metadata": {},
   "outputs": [
    {
     "name": "stdout",
     "output_type": "stream",
     "text": [
      "                 suko  shaker   real    nothing\n",
      "TRP5       -80.770000  -43.10 -87.00 -43.100000\n",
      "5srRNA     -76.610000  -45.40 -76.31 -45.400000\n",
      "GLYCFN     -69.440000  -26.00 -40.68 -26.000000\n",
      "RNAsep     -77.190000  -30.88 -73.75 -30.200000\n",
      "adenin     -42.960000  -18.58 -40.06 -18.500000\n",
      "Z-CIDGMP-1 -47.210000  -21.00 -47.60 -21.000000\n",
      "ZHCV       -36.720000  -19.70 -38.87 -19.700000\n",
      "MDLOOP     -25.350000  -14.40 -16.13 -14.400000\n",
      "srRNA      -73.900000  -43.80 -53.72 -42.700000\n",
      "p564       -88.830000  -23.70 -91.06 -22.800000\n",
      "tRNAphe    -44.160000  -23.44 -61.73 -22.400000\n",
      "tRNA-asp   -42.710000  -27.24 -50.08 -26.400000\n",
      "ADDRSW     -47.310000  -19.60 -45.42 -19.600000\n",
      "ZGLY       -51.880000  -24.10 -72.23 -24.100000\n",
      "mean       -57.502857  -27.21 -56.76 -26.878571\n"
     ]
    }
   ],
   "source": [
    "print df"
   ]
  },
  {
   "cell_type": "code",
   "execution_count": null,
   "metadata": {},
   "outputs": [],
   "source": []
  },
  {
   "cell_type": "code",
   "execution_count": null,
   "metadata": {},
   "outputs": [],
   "source": []
  }
 ],
 "metadata": {
  "kernelspec": {
   "display_name": "Python 2",
   "language": "python",
   "name": "python2"
  },
  "language_info": {
   "codemirror_mode": {
    "name": "ipython",
    "version": 2
   },
   "file_extension": ".py",
   "mimetype": "text/x-python",
   "name": "python",
   "nbconvert_exporter": "python",
   "pygments_lexer": "ipython2",
   "version": "2.7.15rc1"
  }
 },
 "nbformat": 4,
 "nbformat_minor": 2
}
