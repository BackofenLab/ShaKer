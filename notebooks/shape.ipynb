{
 "cells": [
  {
   "cell_type": "markdown",
   "metadata": {
    "deletable": true,
    "editable": true
   },
   "source": [
    "# SHAPE"
   ]
  },
  {
   "cell_type": "code",
   "execution_count": 3,
   "metadata": {
    "attributes": {
     "classes": [],
     "id": "",
     "n": "1"
    },
    "collapsed": false,
    "deletable": true,
    "editable": true
   },
   "outputs": [
    {
     "name": "stdout",
     "output_type": "stream",
     "text": [
      "The autoreload extension is already loaded. To reload it, use:\n",
      "  %reload_ext autoreload\n"
     ]
    }
   ],
   "source": [
    "%load_ext autoreload\n",
    "%autoreload 2\n",
    "%matplotlib inline\n",
    "from eden.util import configure_logging\n",
    "import logging\n",
    "configure_logging(logging.getLogger(),verbosity=3)\n",
    "\n",
    "from IPython.core.display import HTML\n",
    "HTML('<style>.container { width:95% !important; }</style><style>.output_png {display: table-cell;text-align: center;vertical-align: middle;}</style>')\n",
    "import sys\n",
    "sys.path.insert(0,'..')"
   ]
  },
  {
   "cell_type": "code",
   "execution_count": 2,
   "metadata": {
    "collapsed": false,
    "deletable": true,
    "editable": true
   },
   "outputs": [
    {
     "ename": "ImportError",
     "evalue": "No module named simushape",
     "traceback": [
      "\u001b[0;31m---------------------------------------------------------------------------\u001b[0m",
      "\u001b[0;31mImportError\u001b[0m                               Traceback (most recent call last)",
      "\u001b[0;32m<ipython-input-2-eb27124c2a43>\u001b[0m in \u001b[0;36m<module>\u001b[0;34m()\u001b[0m\n\u001b[0;32m----> 1\u001b[0;31m \u001b[0;32mimport\u001b[0m \u001b[0msimushape\u001b[0m  \u001b[0;32mas\u001b[0m \u001b[0mss\u001b[0m\u001b[0;34m\u001b[0m\u001b[0m\n\u001b[0m\u001b[1;32m      2\u001b[0m \u001b[0;32mimport\u001b[0m \u001b[0mnumpy\u001b[0m \u001b[0;32mas\u001b[0m \u001b[0mnp\u001b[0m\u001b[0;34m\u001b[0m\u001b[0m\n\u001b[1;32m      3\u001b[0m \u001b[0;31m# the plan is to write my predictions in a react file\u001b[0m\u001b[0;34m\u001b[0m\u001b[0;34m\u001b[0m\u001b[0m\n\u001b[1;32m      4\u001b[0m \u001b[0;32mif\u001b[0m \u001b[0mTrue\u001b[0m\u001b[0;34m:\u001b[0m\u001b[0;34m\u001b[0m\u001b[0m\n\u001b[1;32m      5\u001b[0m     \u001b[0mdata\u001b[0m \u001b[0;34m=\u001b[0m \u001b[0mss\u001b[0m\u001b[0;34m.\u001b[0m\u001b[0mget_all_data\u001b[0m\u001b[0;34m(\u001b[0m\u001b[0;34m'data/RNA16.react'\u001b[0m\u001b[0;34m,\u001b[0m\u001b[0;34m'data/RNA16.dbn'\u001b[0m\u001b[0;34m)\u001b[0m\u001b[0;34m\u001b[0m\u001b[0m\n",
      "\u001b[0;31mImportError\u001b[0m: No module named simushape"
     ],
     "output_type": "error"
    }
   ],
   "source": [
    "import simushape  as ss\n",
    "import numpy as np\n",
    "# the plan is to write my predictions in a react file\n",
    "if True:\n",
    "    data = ss.get_all_data('data/RNA16.react','data/RNA16.dbn')\n",
    "    #data2 = ss.get_all_data('data/RNA20.react','data/RNA20.dbn')\n",
    "    #data.pop(\"GLYCFN\")\n",
    "    data.pop(\"23sRNA\",None) #2 long for RNAshapes\n",
    "    data.pop(\"R009\",None)   #2 long for shapes\n",
    "    predict_keys= data.keys()\n",
    "    #data.update(data2)\n",
    "    res=[]\n",
    "    for e in predict_keys: \n",
    "        train = data.keys()\n",
    "        train.remove(e)\n",
    "        model = ss.make_model(data,train,False,3,3)\n",
    "        graph = ss.eden_rna.sequence_dotbracket_to_graph(data[e][1],data[e][2])\n",
    "        my_react = np.array(ss.predict(model,graph))\n",
    "        res.append(\">%s\"%e)\n",
    "        res.append('\\n'.join([\"%s\\t%.4f\" % (i,e) for i,e in enumerate(my_react)]))\n",
    "        res.append('')\n",
    "\n",
    "    with open(\"data/predictions/RNA16_shaker_prediction.react\",'w') as f: f.write('\\n'.join(res))\n"
   ]
  },
  {
   "cell_type": "markdown",
   "metadata": {
    "deletable": true,
    "editable": true
   },
   "source": [
    "# DRAW FUNCTION FOR THE SHAPE DATA"
   ]
  },
  {
   "cell_type": "code",
   "execution_count": null,
   "metadata": {
    "collapsed": true,
    "deletable": true,
    "editable": true,
    "scrolled": false
   },
   "outputs": [],
   "source": [
    "from graphlearn01.utils import draw\n",
    "import numpy as np\n",
    "from scipy.stats import pearsonr as pear\n",
    "from scipy.stats import spearmanr as spear\n",
    "import simushape  as ss\n",
    "\n",
    "\n",
    "def annotate(g,shap):\n",
    "    n=g.nodes()\n",
    "    n.sort()\n",
    "    for e,i in zip(n,shap):\n",
    "        g.node[e][\"importance\"]= [i]\n",
    "        g.node[e][\"none\"]= ''\n",
    "    return g\n",
    "\n",
    "def draw3(graph, shape_list):\n",
    "    graphs=[annotate(graph.copy(),shape) for shape in shape_list  ]\n",
    "    draw.graphlearn(graphs,size=15,layout=\"RNA\",vertex_label='none',edge_alpha=0.05,vertex_size=150,vertex_border=False, scoretricks=True)\n",
    "    \n",
    "\n",
    "def mycorr(train, prediction):\n",
    "    train = np.array(train)\n",
    "    prediction = np.array(prediction)\n",
    "    predict2, train2 = ss.mask(prediction,train)\n",
    "    p =  pear(train2,predict2)[0]\n",
    "    s =  spear(train2,predict2)[0]\n",
    "    return \"pearson: %.3f spearman %.3f variances: %.3f %.3f\" % (p,s, train2.var(), predict2.var())\n",
    "\n",
    "\n",
    "klmer2 = ss.read_react(\"data/predictions/RNA16_hlmer_prediction.react\")\n",
    "#klmer3 = ss.read_react(\"data/hlmer_3_prediction.react\")\n",
    "shaker = ss.read_react(\"data/predictions/RNA16_shaker_prediction.react\")\n",
    "sukust = ss.read_react(\"data/predictions/RNA16_sukosd_prediction.react\")\n",
    "RNA16 =  ss.read_react(\"data/RNA16.react\")\n",
    "allreacts = [RNA16, shaker,klmer2, sukust]\n",
    "RNA16_complete = ss.get_all_data('data/RNA16.react','data/RNA16.dbn')# load includes sanity check;; name -> react,sequence,dotbracket\n",
    "\n",
    "\n",
    "for e in RNA16_complete:\n",
    "    print \"rna name\", e\n",
    "    graph = ss.eden_rna.sequence_dotbracket_to_graph(RNA16_complete[e][1],RNA16_complete[e][2])\n",
    "    graph.graph[\"structure\"] = RNA16_complete[e][2]\n",
    "    draw3(graph,[ react[e] for react in allreacts ])\n",
    "    print \"shaler:\", mycorr(RNA16[e],shaker[e])\n",
    "    print \"hlmer:\",mycorr(RNA16[e],klmer2[e])\n",
    "    #print \"sukosd:\",mycorr(RNA16[e],sukust[e])"
   ]
  },
  {
   "cell_type": "code",
   "execution_count": null,
   "metadata": {
    "collapsed": true,
    "deletable": true,
    "editable": true,
    "scrolled": false
   },
   "outputs": [],
   "source": [
    "\n",
    "from graphlearn01.utils import draw\n",
    "import numpy as np\n",
    "from scipy.stats import pearsonr as pear\n",
    "from scipy.stats import spearmanr as spear\n",
    "import simushape  as ss\n",
    "\n",
    "\n",
    "RNA20 =  ss.read_react(\"data/RNA20.react\")\n",
    "allreacts = [RNA20]\n",
    "RNA20_complete = ss.get_all_data('data/RNA20.react','data/RNA20.dbn')# load includes sanity check;; name -> react,sequence,dotbracket\n",
    "\n",
    "\n",
    "def draw_deflayout(graph, shape_list):\n",
    "    graphs=[annotate(graph.copy(),shape) for shape in shape_list  ]\n",
    "    draw.graphlearn(graphs,size=15,layout=\"RNA\",vertex_label='none',edge_alpha=0.05,vertex_size=150,vertex_border=False, scoretricks=True)\n",
    "    \n",
    "\n",
    "for e in RNA20_complete:\n",
    "    print \"rna name\", e\n",
    "    graph = ss.eden_rna.sequence_dotbracket_to_graph(RNA20_complete[e][1],RNA20_complete[e][2])\n",
    "    graph.graph[\"structure\"] = RNA20_complete[e][2]\n",
    "    draw_deflayout(graph,[ RNA20[e] ])\n",
    "  \n",
    "  "
   ]
  },
  {
   "cell_type": "markdown",
   "metadata": {
    "deletable": true,
    "editable": true
   },
   "source": [
    "---"
   ]
  },
  {
   "cell_type": "markdown",
   "metadata": {
    "deletable": true,
    "editable": true
   },
   "source": [
    "# OPTIMIZE"
   ]
  },
  {
   "cell_type": "code",
   "execution_count": null,
   "metadata": {
    "collapsed": true,
    "deletable": true,
    "editable": true
   },
   "outputs": [],
   "source": [
    "# set up data \n",
    "# choose sequences whose predictions rank correlation is medium ish... 0.2 - 0.4 \n",
    "s = '''ADDRSW                                                                          \n",
    "ZHCV                                                                               \n",
    "Z-CIDGMP-1                                                                         \n",
    "23sRNA                                                                             \n",
    "p564                                                                               \n",
    "srRNA                                                                              \n",
    "MDLOOP                                                                             \n",
    "R009                                                                               \n",
    "TRP5'''.split('\\n')\n",
    "s= map(lambda x: x.strip(), s)\n",
    "import simushape  as ss\n",
    "data = ss.get_all_data('data/RNA16.react','data/RNA16.dbn')\n",
    "map(lambda x: data.pop(x) if x not in s else None , data.keys())\n",
    "print data.keys()"
   ]
  },
  {
   "cell_type": "code",
   "execution_count": null,
   "metadata": {
    "collapsed": true,
    "deletable": true,
    "editable": true
   },
   "outputs": [],
   "source": [
    "if False:\n",
    "    # 1. optimize eden\n",
    "    ss.optimize_eden_params(data)\n",
    "    # 2. optimize forest\n",
    "    ss.opti_forest(data)"
   ]
  }
 ],
 "metadata": {
  "kernelspec": {
   "display_name": "Python 2",
   "language": "python",
   "name": "python2"
  },
  "language_info": {
   "codemirror_mode": {
    "name": "ipython",
    "version": 2
   },
   "file_extension": ".py",
   "mimetype": "text/x-python",
   "name": "python",
   "nbconvert_exporter": "python",
   "pygments_lexer": "ipython2",
   "version": "2.7.12"
  }
 },
 "nbformat": 4,
 "nbformat_minor": 2
}
