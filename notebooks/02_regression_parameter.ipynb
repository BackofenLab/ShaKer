{
 "cells": [
  {
   "cell_type": "markdown",
   "metadata": {
    "deletable": true,
    "editable": true
   },
   "source": [
    "# REGRESSION PARAMETERS    AND OPTIMIZATION"
   ]
  },
  {
   "cell_type": "code",
   "execution_count": null,
   "metadata": {
    "attributes": {
     "classes": [],
     "id": "",
     "n": "1"
    },
    "collapsed": false,
    "deletable": true,
    "editable": true
   },
   "outputs": [],
   "source": [
    "%load_ext autoreload\n",
    "%autoreload 2\n",
    "%matplotlib inline\n",
    "from eden.util import configure_logging\n",
    "import logging\n",
    "configure_logging(logging.getLogger(),verbosity=3)\n",
    "import sys\n",
    "sys.path.insert(0,'..')\n",
    "from IPython.core.display import HTML\n",
    "HTML('<style>.container { width:95% !important; }</style><style>.output_png {display: table-cell;text-align: center;vertical-align: middle;}</style>')"
   ]
  },
  {
   "cell_type": "markdown",
   "metadata": {
    "deletable": true,
    "editable": true
   },
   "source": [
    "# Load data"
   ]
  },
  {
   "cell_type": "code",
   "execution_count": null,
   "metadata": {
    "collapsed": false,
    "deletable": true,
    "editable": true,
    "scrolled": true
   },
   "outputs": [],
   "source": [
    "import rna_tools.rna_io as rio\n",
    "data = rio.get_all_data(\"../data/RNA16.react\",\"../data/RNA16.dbn\")  # {key: rea, seq, stru}\n",
    "\n",
    "for k,v in data.items():print k,\"\\t\",  len(v[1])"
   ]
  },
  {
   "cell_type": "markdown",
   "metadata": {
    "deletable": true,
    "editable": true
   },
   "source": [
    "# VISUALIZING DIFFERENCE IN PARAMETERS ... CALCULATE"
   ]
  },
  {
   "cell_type": "code",
   "execution_count": null,
   "metadata": {
    "collapsed": false,
    "deletable": true,
    "editable": true
   },
   "outputs": [],
   "source": [
    "import simushape as sim\n",
    "import xgboost\n",
    "from sklearn.ensemble import RandomForestRegressor\n",
    "\n",
    "\n",
    "models  = [sim.make_model(data,['23sRNA','R009']), # xgbregressor with optimized paramters  :) \n",
    "           sim.make_model(data,['23sRNA','R009'],xgboost.XGBRegressor()),\n",
    "           sim.make_model(data,['23sRNA','R009'],RandomForestRegressor()),\n",
    "           sim.make_model(data,['23sRNA','R009'],RandomForestRegressor(**{'oob_score': False,\n",
    "                                             'min_impurity_split': 0.01,\n",
    "                                             'bootstrap': True,\n",
    "                                             'min_samples_leaf': 1,\n",
    "                                             'n_estimators': 16,\n",
    "                                             'min_samples_split': 6,\n",
    "                                             'min_weight_fraction_leaf': 0.02,\n",
    "                                             'max_features': None}))]\n",
    "\n",
    "\n",
    "data.pop(\"23sRNA\")\n",
    "data.pop(\"R009\")\n",
    "predictions = { k: [v[0]] + [ sim.predict(model,v[1]) for model in models] for k,v in data.items() }\n",
    "\n"
   ]
  },
  {
   "cell_type": "markdown",
   "metadata": {
    "deletable": true,
    "editable": true
   },
   "source": [
    "# ...DRAW "
   ]
  },
  {
   "cell_type": "code",
   "execution_count": null,
   "metadata": {
    "collapsed": false,
    "deletable": true,
    "editable": true,
    "scrolled": false
   },
   "outputs": [],
   "source": [
    "import notebook_helper as hlp \n",
    "\n",
    "for k,v in data.items()[:4]: \n",
    "    print k\n",
    "    hlp.draw_seq_rea(v[1], predictions[k], v[2])"
   ]
  },
  {
   "cell_type": "markdown",
   "metadata": {
    "collapsed": true,
    "deletable": true,
    "editable": true
   },
   "source": [
    "# OPTIMIZATION"
   ]
  },
  {
   "cell_type": "code",
   "execution_count": null,
   "metadata": {
    "collapsed": false
   },
   "outputs": [],
   "source": [
    "import optimization.optimize_gradient_boosting as opt\n",
    "opt.optimize_xgb(opt.quickladdata(), n_jobs=2, n_iter=10) # see code"
   ]
  },
  {
   "cell_type": "code",
   "execution_count": null,
   "metadata": {
    "collapsed": false
   },
   "outputs": [],
   "source": [
    "import optimization.optimize_forest as optifo\n",
    "optifo.opti_forest(optifo.quickloaddata(),  n_jobs=2, n_iter=10)"
   ]
  },
  {
   "cell_type": "code",
   "execution_count": null,
   "metadata": {
    "collapsed": true
   },
   "outputs": [],
   "source": []
  }
 ],
 "metadata": {
  "kernelspec": {
   "display_name": "Python 2",
   "language": "python",
   "name": "python2"
  },
  "language_info": {
   "codemirror_mode": {
    "name": "ipython",
    "version": 2
   },
   "file_extension": ".py",
   "mimetype": "text/x-python",
   "name": "python",
   "nbconvert_exporter": "python",
   "pygments_lexer": "ipython2",
   "version": "2.7.12"
  }
 },
 "nbformat": 4,
 "nbformat_minor": 2
}
