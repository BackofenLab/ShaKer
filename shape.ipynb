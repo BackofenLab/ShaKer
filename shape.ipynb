{
 "cells": [
  {
   "cell_type": "markdown",
   "metadata": {
    "deletable": true,
    "editable": true
   },
   "source": [
    "# SHAPE"
   ]
  },
  {
   "cell_type": "code",
   "execution_count": null,
   "metadata": {
    "attributes": {
     "classes": [],
     "id": "",
     "n": "1"
    },
    "collapsed": false,
    "deletable": true,
    "editable": true
   },
   "outputs": [],
   "source": [
    "%load_ext autoreload\n",
    "%autoreload 2\n",
    "%matplotlib inline\n",
    "from eden.util import configure_logging\n",
    "import logging\n",
    "configure_logging(logging.getLogger(),verbosity=3)\n",
    "\n",
    "from IPython.core.display import HTML\n",
    "HTML('<style>.container { width:95% !important; }</style><style>.output_png {display: table-cell;text-align: center;vertical-align: middle;}</style>')"
   ]
  },
  {
   "cell_type": "code",
   "execution_count": null,
   "metadata": {
    "collapsed": false,
    "deletable": true,
    "editable": true
   },
   "outputs": [],
   "source": [
    "import simushape  as ss\n",
    "import numpy as np\n",
    "# the plan is to write my predictions in a react file\n",
    "if False:\n",
    "    data = ss.get_all_data('data/RNA16.react','data/RNA16.dbn')\n",
    "    res=[]\n",
    "    for e in data.keys(): \n",
    "        train = data.keys()\n",
    "        train.remove(e)\n",
    "        model = ss.make_model(data,train,False,3,3)\n",
    "        graph = ss.eden_rna.sequence_dotbracket_to_graph(data[e][1],data[e][2])\n",
    "        my_react = np.array(ss.predict(model,graph))\n",
    "        res.append(\">%s\"%e)\n",
    "        res.append('\\n'.join([\"%s\\t%.4f\" % (i,e) for i,e in enumerate(my_react)]))\n",
    "        res.append('')\n",
    "\n",
    "    with open(\"data/shaker_prediction.react\",'w') as f: f.write('\\n'.join(res))\n"
   ]
  },
  {
   "cell_type": "markdown",
   "metadata": {
    "deletable": true,
    "editable": true
   },
   "source": [
    "# DRAW FUNCTION FOR THE SHAPE DATA"
   ]
  },
  {
   "cell_type": "code",
   "execution_count": null,
   "metadata": {
    "collapsed": false,
    "deletable": true,
    "editable": true,
    "scrolled": false
   },
   "outputs": [],
   "source": [
    "from graphlearn01.utils import draw\n",
    "import numpy as np\n",
    "from scipy.stats import pearsonr as pear\n",
    "from scipy.stats import spearmanr as spear\n",
    "import simushape  as ss\n",
    "\n",
    "\n",
    "def annotate(g,shap):\n",
    "    n=g.nodes()\n",
    "    n.sort()\n",
    "    for e,i in zip(n,shap):\n",
    "        g.node[e][\"importance\"]= [i]\n",
    "        g.node[e][\"none\"]= ''\n",
    "    return g\n",
    "\n",
    "def draw3(graph, shape_list):\n",
    "    graphs=[annotate(graph.copy(),shape) for shape in shape_list  ]\n",
    "    draw.graphlearn(graphs,size=15,layout=\"RNA\",vertex_label='none',edge_alpha=0.05,vertex_size=150,vertex_border=False, scoretricks=True)\n",
    "    \n",
    "\n",
    "def mycorr(train, prediction):\n",
    "    train = np.array(train)\n",
    "    prediction = np.array(prediction)\n",
    "    predict2, train2 = ss.mask(prediction,train)\n",
    "    p =  pear(train2,predict2)[0]\n",
    "    s =  spear(train2,predict2)[0]\n",
    "    return \"pearson: %.3f spearman %.3f variances: %.3f %.3f\" % (p,s, train2.var(), predict2.var())\n",
    "\n",
    "\n",
    "klmer = ss.read_react(\"data/klmer_prediction.react\")\n",
    "shaker = ss.read_react(\"data/shaker_prediction.react\")\n",
    "RNA16 =  ss.read_react(\"data/RNA16.react\")\n",
    "allreacts = [RNA16, shaker,klmer]\n",
    "RNA16_complete = ss.get_all_data('data/RNA16.react','data/RNA16.dbn')# load includes sanity check;; name -> react,sequence,dotbracket\n",
    "\n",
    "\n",
    "\n",
    "for e in RNA16_complete:\n",
    "    print \"rna name\", e\n",
    "    graph = ss.eden_rna.sequence_dotbracket_to_graph(RNA16_complete[e][1],RNA16_complete[e][2])\n",
    "    graph.graph[\"structure\"] = RNA16_complete[e][2]\n",
    "    draw3(graph,[ react[e] for react in allreacts ])\n",
    "    print \"\\t\\t\\t\\t\\t\\t\\t\",mycorr(RNA16[e],shaker[e]),\"\\t\\t\\t\", mycorr(RNA16[e],klmer[e])\n",
    "  \n",
    "    \n",
    "    \n",
    "    \n",
    "\n"
   ]
  },
  {
   "cell_type": "markdown",
   "metadata": {
    "collapsed": false,
    "deletable": true,
    "editable": true
   },
   "source": [
    "---"
   ]
  },
  {
   "cell_type": "code",
   "execution_count": null,
   "metadata": {
    "collapsed": true,
    "deletable": true,
    "editable": true
   },
   "outputs": [],
   "source": [
    "\n",
    " "
   ]
  }
 ],
 "metadata": {
  "kernelspec": {
   "display_name": "Python 2",
   "language": "python",
   "name": "python2"
  },
  "language_info": {
   "codemirror_mode": {
    "name": "ipython",
    "version": 2
   },
   "file_extension": ".py",
   "mimetype": "text/x-python",
   "name": "python",
   "nbconvert_exporter": "python",
   "pygments_lexer": "ipython2",
   "version": "2.7.12"
  }
 },
 "nbformat": 4,
 "nbformat_minor": 2
}
